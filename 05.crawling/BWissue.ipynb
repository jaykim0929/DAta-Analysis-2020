{
 "metadata": {
  "language_info": {
   "codemirror_mode": {
    "name": "ipython",
    "version": 3
   },
   "file_extension": ".py",
   "mimetype": "text/x-python",
   "name": "python",
   "nbconvert_exporter": "python",
   "pygments_lexer": "ipython3",
   "version": "3.8.3-final"
  },
  "orig_nbformat": 2,
  "kernelspec": {
   "name": "python3",
   "display_name": "Python 3"
  }
 },
 "nbformat": 4,
 "nbformat_minor": 2,
 "cells": [
  {
   "cell_type": "code",
   "execution_count": 1,
   "metadata": {},
   "outputs": [],
   "source": [
    "from bs4 import BeautifulSoup\n",
    "from urllib.request import urlopen"
   ]
  },
  {
   "cell_type": "code",
   "execution_count": 6,
   "metadata": {},
   "outputs": [],
   "source": [
    "url ='https://bwissue.com/cobr'\n",
    "\n",
    "html = urlopen(url)\n",
    "soup = BeautifulSoup(html, 'html.parser')"
   ]
  },
  {
   "cell_type": "code",
   "execution_count": 10,
   "metadata": {},
   "outputs": [
    {
     "output_type": "execute_result",
     "data": {
      "text/plain": [
       "<div class=\"cover_info pd-15 pd-md-30 equalheight\">\n",
       "<!-- 분류 출력-->\n",
       "<p class=\"cover-subject\" style=\"margin-bottom:15px\">\n",
       "<a class=\"subject\" href=\"/cobr/1396096\">바앤키친프로페셔날</a>\n",
       "</p>\n",
       "<p class=\"extra\"><i class=\"xi-check-square-o\" style=\" margin-right: 2px; font-size: 13px;\"></i><strong>위치: </strong>경기도 고양시 덕양구 행주로 99번길 66</p>\n",
       "<p class=\"extra\"><i class=\"xi-check-square-o\" style=\" margin-right: 2px; font-size: 13px;\"></i><strong>취급 브랜드: </strong>바앤키친프로페셔날 자체 제작 브랜드</p>\n",
       "<p class=\"extra\"><i class=\"xi-check-square-o\" style=\" margin-right: 2px; font-size: 13px;\"></i><strong>최고책임자: </strong>허정란</p>\n",
       "<p class=\"extra\"><i class=\"xi-check-square-o\" style=\" margin-right: 2px; font-size: 13px;\"></i><strong>주요 취급 품목: </strong>피쳐린서, 워터스테이션, 서랍식냉장고, 스텐레스&amp;금속 바 제작, 카페관련 기기</p>\n",
       "</div>"
      ]
     },
     "metadata": {},
     "execution_count": 10
    }
   ],
   "source": [
    "cover_info = soup.select('.cover_info')\n",
    "cover_info[0]"
   ]
  },
  {
   "cell_type": "code",
   "execution_count": 11,
   "metadata": {},
   "outputs": [
    {
     "output_type": "execute_result",
     "data": {
      "text/plain": [
       "30"
      ]
     },
     "metadata": {},
     "execution_count": 11
    }
   ],
   "source": [
    "len(cover_info)"
   ]
  },
  {
   "cell_type": "code",
   "execution_count": 12,
   "metadata": {},
   "outputs": [
    {
     "output_type": "execute_result",
     "data": {
      "text/plain": [
       "'바앤키친프로페셔날'"
      ]
     },
     "metadata": {},
     "execution_count": 12
    }
   ],
   "source": [
    "subject = cover_info[0].select_one('.subject').string\n",
    "subject"
   ]
  },
  {
   "cell_type": "code",
   "execution_count": null,
   "metadata": {},
   "outputs": [],
   "source": []
  }
 ]
}