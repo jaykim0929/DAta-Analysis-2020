{
 "metadata": {
  "language_info": {
   "codemirror_mode": {
    "name": "ipython",
    "version": 3
   },
   "file_extension": ".py",
   "mimetype": "text/x-python",
   "name": "python",
   "nbconvert_exporter": "python",
   "pygments_lexer": "ipython3",
   "version": "3.8.3-final"
  },
  "orig_nbformat": 2,
  "kernelspec": {
   "name": "python3",
   "display_name": "Python 3"
  }
 },
 "nbformat": 4,
 "nbformat_minor": 2,
 "cells": [
  {
   "cell_type": "code",
   "execution_count": 1,
   "metadata": {},
   "outputs": [],
   "source": [
    "from bs4 import BeautifulSoup\n",
    "import urllib.request\n",
    "import pandas as pd"
   ]
  },
  {
   "cell_type": "code",
   "execution_count": 2,
   "metadata": {},
   "outputs": [],
   "source": [
    "web_url = 'https://www.hanbit.co.kr/academy/books/new_book_list.html/'\n",
    "with urllib.request.urlopen(web_url) as response:\n",
    "    html = response.read()\n",
    "    soup = BeautifulSoup(html, 'html.parser')"
   ]
  },
  {
   "cell_type": "code",
   "execution_count": 3,
   "metadata": {
    "tags": [
     "outputPrepend"
    ]
   },
   "outputs": [
    {
     "output_type": "stream",
     "name": "stdout",
     "text": [
      "n_view_detail.png\" alt=\"상세보기\" /></a><a href=\"javascript:;\" onClick=\"add_cart_layer_open('layer_add_cart');return false;\"><img src=\"/images/common/icon_add_cart.png\" alt=\"장바구니 담기\" /></a>\n\t\t\t\t\t\t\t\t</span>\n\t\t\t\t\t\t\t\t<span class=\"price\">\\12,500</span>\n\t\t\t\t\t\t\t\t<span class=\"star_rate\"></span>\n\t\t\t\t\t\t\t\t<span style=\"display:none;\">3.5</span>\n\t\t\t\t\t\t\t</span>\n\t\t\t\t\t\t\t<img src=\"https://www.hanbit.co.kr/images/temp/book_life1.jpg\" alt=\"\" class=\"thumb\" />\n\t\t\t\t\t\t</span>\n\t\t\t\t\t\t<div class=\"info\">\n\t\t\t\t\t\t\t<p class=\"book_tit\"><a href=\"book_view.html\">만들면서 배우는 Git+GitHub 입문</a></p>\n\t\t\t\t\t\t\t<p class=\"book_writer\">마리코 나카무라</p>\n\t\t\t\t\t\t</div>\n\t\t\t\t\t</div>\n\t\t\t\t</li>\t\n\t\t\t\t-->\n<li class=\"sub_book_list\">\n<div class=\"view_box\">\n<span class=\"view_box_block\">\n<span class=\"img_hidden_a\">\n<span class=\"pop_quick_menu\">\n<a href=\"/academy/books/book_view.html?p_code=B3126325886\"><img alt=\"상세보기\" src=\"https://www.hanbit.co.kr/images/common/icon_view_detail.png\"/></a>\n<a href=\"javascript:;\" onclick=\"addCart('B3126325886','','1','');\">\n<img alt=\"장바구니 담기\" src=\"https://www.hanbit.co.kr/images/common/icon_add_cart.png\"/>\n</a>\n</span>\n<span class=\"price\">30,000<span>원</span></span>\n<span class=\"pop_quick_bg\" onclick=\"location='/academy/books/book_view.html?p_code=B3126325886'\"></span>\n</span>\n<!-- 예약도서인 경우 -->\n<!-- ebook이 도서인 경우 -->\n<img alt=\"\" class=\"thumb\" src=\"/data/books/B3126325886_m.jpg\"/>\n</span>\n<div class=\"info\">\n<p class=\"book_tit\"><a href=\"/academy/books/book_view.html?p_code=B3126325886\">IT CookBook, 쉽게 배우는 MFC 윈도우 프로그래밍</a></p>\n<p class=\"book_writer\">김선우 , 신화선 </p>\n</div>\n</div>\n</li>\n<!--\n\t\t\t\t<li class=\"sub_book_list\">\n\t\t\t\t\t<div class=\"view_box\">\n\t\t\t\t\t\t<span class=\"view_box_block\">\n\t\t\t\t\t\t\t<span class=\"img_hidden_a\">\n\t\t\t\t\t\t\t\t<span class=\"pop_quick_menu\">\n\t\t\t\t\t\t\t\t\t<a href=\"book_view.html\"><img src=\"/images/common/icon_view_detail.png\" alt=\"상세보기\" /></a><a href=\"javascript:;\" onClick=\"add_cart_layer_open('layer_add_cart');return false;\"><img src=\"/images/common/icon_add_cart.png\" alt=\"장바구니 담기\" /></a>\n\t\t\t\t\t\t\t\t</span>\n\t\t\t\t\t\t\t\t<span class=\"price\">\\12,500</span>\n\t\t\t\t\t\t\t\t<span class=\"star_rate\"></span>\n\t\t\t\t\t\t\t\t<span style=\"display:none;\">3.5</span>\n\t\t\t\t\t\t\t</span>\n\t\t\t\t\t\t\t<img src=\"https://www.hanbit.co.kr/images/temp/book_life1.jpg\" alt=\"\" class=\"thumb\" />\n\t\t\t\t\t\t</span>\n\t\t\t\t\t\t<div class=\"info\">\n\t\t\t\t\t\t\t<p class=\"book_tit\"><a href=\"book_view.html\">만들면서 배우는 Git+GitHub 입문</a></p>\n\t\t\t\t\t\t\t<p class=\"book_writer\">마리코 나카무라</p>\n\t\t\t\t\t\t</div>\n\t\t\t\t\t</div>\n\t\t\t\t</li>\t\n\t\t\t\t-->\n<li class=\"sub_book_list\">\n<div class=\"view_box\">\n<span class=\"view_box_block\">\n<span class=\"img_hidden_a\">\n<span class=\"pop_quick_menu\">\n<a href=\"/academy/books/book_view.html?p_code=B3715221949\"><img alt=\"상세보기\" src=\"https://www.hanbit.co.kr/images/common/icon_view_detail.png\"/></a>\n<a href=\"javascript:;\" onclick=\"addCart('B3715221949','','1','');\">\n<img alt=\"장바구니 담기\" src=\"https://www.hanbit.co.kr/images/common/icon_add_cart.png\"/>\n</a>\n</span>\n<span class=\"price\">27,000<span>원</span></span>\n<span class=\"pop_quick_bg\" onclick=\"location='/academy/books/book_view.html?p_code=B3715221949'\"></span>\n</span>\n<!-- 예약도서인 경우 -->\n<!-- ebook이 도서인 경우 -->\n<img alt=\"\" class=\"thumb\" src=\"/data/books/B3715221949_m.jpg\"/>\n</span>\n<div class=\"info\">\n<p class=\"book_tit\"><a href=\"/academy/books/book_view.html?p_code=B3715221949\">IT CookBook, 인공지능 시대를 위한 컴퓨터 과학 개론</a></p>\n<p class=\"book_writer\">정기철 </p>\n</div>\n</div>\n</li>\n<!--\n\t\t\t\t<li class=\"sub_book_list\">\n\t\t\t\t\t<div class=\"view_box\">\n\t\t\t\t\t\t<span class=\"view_box_block\">\n\t\t\t\t\t\t\t<span class=\"img_hidden_a\">\n\t\t\t\t\t\t\t\t<span class=\"pop_quick_menu\">\n\t\t\t\t\t\t\t\t\t<a href=\"book_view.html\"><img src=\"/images/common/icon_view_detail.png\" alt=\"상세보기\" /></a><a href=\"javascript:;\" onClick=\"add_cart_layer_open('layer_add_cart');return false;\"><img src=\"/images/common/icon_add_cart.png\" alt=\"장바구니 담기\" /></a>\n\t\t\t\t\t\t\t\t</span>\n\t\t\t\t\t\t\t\t<span class=\"price\">\\12,500</span>\n\t\t\t\t\t\t\t\t<span class=\"star_rate\"></span>\n\t\t\t\t\t\t\t\t<span style=\"display:none;\">3.5</span>\n\t\t\t\t\t\t\t</span>\n\t\t\t\t\t\t\t<img src=\"https://www.hanbit.co.kr/images/temp/book_life1.jpg\" alt=\"\" class=\"thumb\" />\n\t\t\t\t\t\t</span>\n\t\t\t\t\t\t<div class=\"info\">\n\t\t\t\t\t\t\t<p class=\"book_tit\"><a href=\"book_view.html\">만들면서 배우는 Git+GitHub 입문</a></p>\n\t\t\t\t\t\t\t<p class=\"book_writer\">마리코 나카무라</p>\n\t\t\t\t\t\t</div>\n\t\t\t\t\t</div>\n\t\t\t\t</li>\t\n\t\t\t\t-->\n<li class=\"sub_book_list\">\n<div class=\"view_box\">\n<span class=\"view_box_block\">\n<span class=\"img_hidden_a\">\n<span class=\"pop_quick_menu\">\n<a href=\"/academy/books/book_view.html?p_code=B3055805288\"><img alt=\"상세보기\" src=\"https://www.hanbit.co.kr/images/common/icon_view_detail.png\"/></a>\n<a href=\"javascript:;\" onclick=\"addCart('B3055805288','','1','');\">\n<img alt=\"장바구니 담기\" src=\"https://www.hanbit.co.kr/images/common/icon_add_cart.png\"/>\n</a>\n</span>\n<span class=\"price\">34,000<span>원</span></span>\n<span class=\"pop_quick_bg\" onclick=\"location='/academy/books/book_view.html?p_code=B3055805288'\"></span>\n</span>\n<!-- 예약도서인 경우 -->\n<!-- ebook이 도서인 경우 -->\n<img alt=\"\" class=\"thumb\" src=\"/data/books/B3055805288_m.jpg\"/>\n</span>\n<div class=\"info\">\n<p class=\"book_tit\"><a href=\"/academy/books/book_view.html?p_code=B3055805288\">IT CookBook, 코틀린을 활용한 안드로이드 프로그래밍</a></p>\n<p class=\"book_writer\">우재남 , 유혜림 </p>\n</div>\n</div>\n</li>\n<!--\n\t\t\t\t<li class=\"sub_book_list\">\n\t\t\t\t\t<div class=\"view_box\">\n\t\t\t\t\t\t<span class=\"view_box_block\">\n\t\t\t\t\t\t\t<span class=\"img_hidden_a\">\n\t\t\t\t\t\t\t\t<span class=\"pop_quick_menu\">\n\t\t\t\t\t\t\t\t\t<a href=\"book_view.html\"><img src=\"/images/common/icon_view_detail.png\" alt=\"상세보기\" /></a><a href=\"javascript:;\" onClick=\"add_cart_layer_open('layer_add_cart');return false;\"><img src=\"/images/common/icon_add_cart.png\" alt=\"장바구니 담기\" /></a>\n\t\t\t\t\t\t\t\t</span>\n\t\t\t\t\t\t\t\t<span class=\"price\">\\12,500</span>\n\t\t\t\t\t\t\t\t<span class=\"star_rate\"></span>\n\t\t\t\t\t\t\t\t<span style=\"display:none;\">3.5</span>\n\t\t\t\t\t\t\t</span>\n\t\t\t\t\t\t\t<img src=\"https://www.hanbit.co.kr/images/temp/book_life1.jpg\" alt=\"\" class=\"thumb\" />\n\t\t\t\t\t\t</span>\n\t\t\t\t\t\t<div class=\"info\">\n\t\t\t\t\t\t\t<p class=\"book_tit\"><a href=\"book_view.html\">만들면서 배우는 Git+GitHub 입문</a></p>\n\t\t\t\t\t\t\t<p class=\"book_writer\">마리코 나카무라</p>\n\t\t\t\t\t\t</div>\n\t\t\t\t\t</div>\n\t\t\t\t</li>\t\n\t\t\t\t-->\n<li class=\"sub_book_list\">\n<div class=\"view_box\">\n<span class=\"view_box_block\">\n<span class=\"img_hidden_a\">\n<span class=\"pop_quick_menu\">\n<a href=\"/academy/books/book_view.html?p_code=B4872546419\"><img alt=\"상세보기\" src=\"https://www.hanbit.co.kr/images/common/icon_view_detail.png\"/></a>\n<a href=\"javascript:;\" onclick=\"addCart('B4872546419','','1','');\">\n<img alt=\"장바구니 담기\" src=\"https://www.hanbit.co.kr/images/common/icon_add_cart.png\"/>\n</a>\n</span>\n<span class=\"price\">25,000<span>원</span></span>\n<span class=\"pop_quick_bg\" onclick=\"location='/academy/books/book_view.html?p_code=B4872546419'\"></span>\n</span>\n<!-- 예약도서인 경우 -->\n<!-- ebook이 도서인 경우 -->\n<img alt=\"\" class=\"thumb\" src=\"/data/books/B4872546419_m.jpg\"/>\n</span>\n<div class=\"info\">\n<p class=\"book_tit\"><a href=\"/academy/books/book_view.html?p_code=B4872546419\">IT CookBook, 처음 만나는 신재생에너지</a></p>\n<p class=\"book_writer\">김지홍 </p>\n</div>\n</div>\n</li>\n<!--\n\t\t\t\t<li class=\"sub_book_list\">\n\t\t\t\t\t<div class=\"view_box\">\n\t\t\t\t\t\t<span class=\"view_box_block\">\n\t\t\t\t\t\t\t<span class=\"img_hidden_a\">\n\t\t\t\t\t\t\t\t<span class=\"pop_quick_menu\">\n\t\t\t\t\t\t\t\t\t<a href=\"book_view.html\"><img src=\"/images/common/icon_view_detail.png\" alt=\"상세보기\" /></a><a href=\"javascript:;\" onClick=\"add_cart_layer_open('layer_add_cart');return false;\"><img src=\"/images/common/icon_add_cart.png\" alt=\"장바구니 담기\" /></a>\n\t\t\t\t\t\t\t\t</span>\n\t\t\t\t\t\t\t\t<span class=\"price\">\\12,500</span>\n\t\t\t\t\t\t\t\t<span class=\"star_rate\"></span>\n\t\t\t\t\t\t\t\t<span style=\"display:none;\">3.5</span>\n\t\t\t\t\t\t\t</span>\n\t\t\t\t\t\t\t<img src=\"https://www.hanbit.co.kr/images/temp/book_life1.jpg\" alt=\"\" class=\"thumb\" />\n\t\t\t\t\t\t</span>\n\t\t\t\t\t\t<div class=\"info\">\n\t\t\t\t\t\t\t<p class=\"book_tit\"><a href=\"book_view.html\">만들면서 배우는 Git+GitHub 입문</a></p>\n\t\t\t\t\t\t\t<p class=\"book_writer\">마리코 나카무라</p>\n\t\t\t\t\t\t</div>\n\t\t\t\t\t</div>\n\t\t\t\t</li>\t\n\t\t\t\t-->\n<li class=\"sub_book_list\">\n<div class=\"view_box\">\n<span class=\"view_box_block\">\n<span class=\"img_hidden_a\">\n<span class=\"pop_quick_menu\">\n<a href=\"/academy/books/book_view.html?p_code=B1710834745\"><img alt=\"상세보기\" src=\"https://www.hanbit.co.kr/images/common/icon_view_detail.png\"/></a>\n<a href=\"javascript:;\" onclick=\"addCart('B1710834745','','1','');\">\n<img alt=\"장바구니 담기\" src=\"https://www.hanbit.co.kr/images/common/icon_add_cart.png\"/>\n</a>\n</span>\n<span class=\"price\">35,000<span>원</span></span>\n<span class=\"pop_quick_bg\" onclick=\"location='/academy/books/book_view.html?p_code=B1710834745'\"></span>\n</span>\n<!-- 예약도서인 경우 -->\n<!-- ebook이 도서인 경우 -->\n<img alt=\"\" class=\"thumb\" src=\"/data/books/B1710834745_m.jpg\"/>\n</span>\n<div class=\"info\">\n<p class=\"book_tit\"><a href=\"/academy/books/book_view.html?p_code=B1710834745\">프리드버그 선형대수학</a></p>\n<p class=\"book_writer\">스티븐 H. 프리드버그 , 아놀드 J. 인셀 , 로렌스 E. 스펜스 </p>\n</div>\n</div>\n</li>\n<!--\n\t\t\t\t<li class=\"sub_book_list\">\n\t\t\t\t\t<div class=\"view_box\">\n\t\t\t\t\t\t<span class=\"view_box_block\">\n\t\t\t\t\t\t\t<span class=\"img_hidden_a\">\n\t\t\t\t\t\t\t\t<span class=\"pop_quick_menu\">\n\t\t\t\t\t\t\t\t\t<a href=\"book_view.html\"><img src=\"/images/common/icon_view_detail.png\" alt=\"상세보기\" /></a><a href=\"javascript:;\" onClick=\"add_cart_layer_open('layer_add_cart');return false;\"><img src=\"/images/common/icon_add_cart.png\" alt=\"장바구니 담기\" /></a>\n\t\t\t\t\t\t\t\t</span>\n\t\t\t\t\t\t\t\t<span class=\"price\">\\12,500</span>\n\t\t\t\t\t\t\t\t<span class=\"star_rate\"></span>\n\t\t\t\t\t\t\t\t<span style=\"display:none;\">3.5</span>\n\t\t\t\t\t\t\t</span>\n\t\t\t\t\t\t\t<img src=\"https://www.hanbit.co.kr/images/temp/book_life1.jpg\" alt=\"\" class=\"thumb\" />\n\t\t\t\t\t\t</span>\n\t\t\t\t\t\t<div class=\"info\">\n\t\t\t\t\t\t\t<p class=\"book_tit\"><a href=\"book_view.html\">만들면서 배우는 Git+GitHub 입문</a></p>\n\t\t\t\t\t\t\t<p class=\"book_writer\">마리코 나카무라</p>\n\t\t\t\t\t\t</div>\n\t\t\t\t\t</div>\n\t\t\t\t</li>\t\n\t\t\t\t-->\n<li class=\"sub_book_list\">\n<div class=\"view_box\">\n<span class=\"view_box_block\">\n<span class=\"img_hidden_a\">\n<span class=\"pop_quick_menu\">\n<a href=\"/academy/books/book_view.html?p_code=B8200129293\"><img alt=\"상세보기\" src=\"https://www.hanbit.co.kr/images/common/icon_view_detail.png\"/></a>\n<a href=\"javascript:;\" onclick=\"addCart('B8200129293','','1','');\">\n<img alt=\"장바구니 담기\" src=\"https://www.hanbit.co.kr/images/common/icon_add_cart.png\"/>\n</a>\n</span>\n<span class=\"price\">32,000<span>원</span></span>\n<span class=\"pop_quick_bg\" onclick=\"location='/academy/books/book_view.html?p_code=B8200129293'\"></span>\n</span>\n<!-- 예약도서인 경우 -->\n<!-- ebook이 도서인 경우 -->\n<img alt=\"\" class=\"thumb\" src=\"/data/books/B8200129293_m.jpg\"/>\n</span>\n<div class=\"info\">\n<p class=\"book_tit\"><a href=\"/academy/books/book_view.html?p_code=B8200129293\">IT CookBook, CentOS 리눅스</a></p>\n<p class=\"book_writer\">이종원 </p>\n</div>\n</div>\n</li>\n<!--\n\t\t\t\t<li class=\"sub_book_list\">\n\t\t\t\t\t<div class=\"view_box\">\n\t\t\t\t\t\t<span class=\"view_box_block\">\n\t\t\t\t\t\t\t<span class=\"img_hidden_a\">\n\t\t\t\t\t\t\t\t<span class=\"pop_quick_menu\">\n\t\t\t\t\t\t\t\t\t<a href=\"book_view.html\"><img src=\"/images/common/icon_view_detail.png\" alt=\"상세보기\" /></a><a href=\"javascript:;\" onClick=\"add_cart_layer_open('layer_add_cart');return false;\"><img src=\"/images/common/icon_add_cart.png\" alt=\"장바구니 담기\" /></a>\n\t\t\t\t\t\t\t\t</span>\n\t\t\t\t\t\t\t\t<span class=\"price\">\\12,500</span>\n\t\t\t\t\t\t\t\t<span class=\"star_rate\"></span>\n\t\t\t\t\t\t\t\t<span style=\"display:none;\">3.5</span>\n\t\t\t\t\t\t\t</span>\n\t\t\t\t\t\t\t<img src=\"https://www.hanbit.co.kr/images/temp/book_life1.jpg\" alt=\"\" class=\"thumb\" />\n\t\t\t\t\t\t</span>\n\t\t\t\t\t\t<div class=\"info\">\n\t\t\t\t\t\t\t<p class=\"book_tit\"><a href=\"book_view.html\">만들면서 배우는 Git+GitHub 입문</a></p>\n\t\t\t\t\t\t\t<p class=\"book_writer\">마리코 나카무라</p>\n\t\t\t\t\t\t</div>\n\t\t\t\t\t</div>\n\t\t\t\t</li>\t\n\t\t\t\t-->\n<li class=\"sub_book_list\">\n<div class=\"view_box\">\n<span class=\"view_box_block\">\n<span class=\"img_hidden_a\">\n<span class=\"pop_quick_menu\">\n<a href=\"/academy/books/book_view.html?p_code=B8983481859\"><img alt=\"상세보기\" src=\"https://www.hanbit.co.kr/images/common/icon_view_detail.png\"/></a>\n<a href=\"javascript:;\" onclick=\"addCart('B8983481859','','1','');\">\n<img alt=\"장바구니 담기\" src=\"https://www.hanbit.co.kr/images/common/icon_add_cart.png\"/>\n</a>\n</span>\n<span class=\"price\">49,000<span>원</span></span>\n<span class=\"pop_quick_bg\" onclick=\"location='/academy/books/book_view.html?p_code=B8983481859'\"></span>\n</span>\n<!-- 예약도서인 경우 -->\n<!-- ebook이 도서인 경우 -->\n<img alt=\"\" class=\"thumb\" src=\"/data/books/B8983481859_m.jpg\"/>\n</span>\n<div class=\"info\">\n<p class=\"book_tit\"><a href=\"/academy/books/book_view.html?p_code=B8983481859\">Microeconomics, 6th Edition, Asia Edition</a></p>\n<p class=\"book_writer\">David Besanko , Ronald Braeutigam </p>\n</div>\n</div>\n</li>\n<!--\n\t\t\t\t<li class=\"sub_book_list\">\n\t\t\t\t\t<div class=\"view_box\">\n\t\t\t\t\t\t<span class=\"view_box_block\">\n\t\t\t\t\t\t\t<span class=\"img_hidden_a\">\n\t\t\t\t\t\t\t\t<span class=\"pop_quick_menu\">\n\t\t\t\t\t\t\t\t\t<a href=\"book_view.html\"><img src=\"/images/common/icon_view_detail.png\" alt=\"상세보기\" /></a><a href=\"javascript:;\" onClick=\"add_cart_layer_open('layer_add_cart');return false;\"><img src=\"/images/common/icon_add_cart.png\" alt=\"장바구니 담기\" /></a>\n\t\t\t\t\t\t\t\t</span>\n\t\t\t\t\t\t\t\t<span class=\"price\">\\12,500</span>\n\t\t\t\t\t\t\t\t<span class=\"star_rate\"></span>\n\t\t\t\t\t\t\t\t<span style=\"display:none;\">3.5</span>\n\t\t\t\t\t\t\t</span>\n\t\t\t\t\t\t\t<img src=\"https://www.hanbit.co.kr/images/temp/book_life1.jpg\" alt=\"\" class=\"thumb\" />\n\t\t\t\t\t\t</span>\n\t\t\t\t\t\t<div class=\"info\">\n\t\t\t\t\t\t\t<p class=\"book_tit\"><a href=\"book_view.html\">만들면서 배우는 Git+GitHub 입문</a></p>\n\t\t\t\t\t\t\t<p class=\"book_writer\">마리코 나카무라</p>\n\t\t\t\t\t\t</div>\n\t\t\t\t\t</div>\n\t\t\t\t</li>\t\n\t\t\t\t-->\n<li class=\"sub_book_list\">\n<div class=\"view_box\">\n<span class=\"view_box_block\">\n<span class=\"img_hidden_a\">\n<span class=\"pop_quick_menu\">\n<a href=\"/academy/books/book_view.html?p_code=B2049588591\"><img alt=\"상세보기\" src=\"https://www.hanbit.co.kr/images/common/icon_view_detail.png\"/></a>\n<a href=\"javascript:;\" onclick=\"addCart('B2049588591','','1','');\">\n<img alt=\"장바구니 담기\" src=\"https://www.hanbit.co.kr/images/common/icon_add_cart.png\"/>\n</a>\n</span>\n<span class=\"price\">26,000<span>원</span></span>\n<span class=\"pop_quick_bg\" onclick=\"location='/academy/books/book_view.html?p_code=B2049588591'\"></span>\n</span>\n<!-- 예약도서인 경우 -->\n<!-- ebook이 도서인 경우 -->\n<img alt=\"\" class=\"thumb\" src=\"/data/books/B2049588591_m.jpg\"/>\n</span>\n<div class=\"info\">\n<p class=\"book_tit\"><a href=\"/academy/books/book_view.html?p_code=B2049588591\">누구나 파이썬 통계분석</a></p>\n<p class=\"book_writer\">타니아이 히로키 </p>\n</div>\n</div>\n</li>\n<!--\n\t\t\t\t<li class=\"sub_book_list\">\n\t\t\t\t\t<div class=\"view_box\">\n\t\t\t\t\t\t<span class=\"view_box_block\">\n\t\t\t\t\t\t\t<span class=\"img_hidden_a\">\n\t\t\t\t\t\t\t\t<span class=\"pop_quick_menu\">\n\t\t\t\t\t\t\t\t\t<a href=\"book_view.html\"><img src=\"/images/common/icon_view_detail.png\" alt=\"상세보기\" /></a><a href=\"javascript:;\" onClick=\"add_cart_layer_open('layer_add_cart');return false;\"><img src=\"/images/common/icon_add_cart.png\" alt=\"장바구니 담기\" /></a>\n\t\t\t\t\t\t\t\t</span>\n\t\t\t\t\t\t\t\t<span class=\"price\">\\12,500</span>\n\t\t\t\t\t\t\t\t<span class=\"star_rate\"></span>\n\t\t\t\t\t\t\t\t<span style=\"display:none;\">3.5</span>\n\t\t\t\t\t\t\t</span>\n\t\t\t\t\t\t\t<img src=\"https://www.hanbit.co.kr/images/temp/book_life1.jpg\" alt=\"\" class=\"thumb\" />\n\t\t\t\t\t\t</span>\n\t\t\t\t\t\t<div class=\"info\">\n\t\t\t\t\t\t\t<p class=\"book_tit\"><a href=\"book_view.html\">만들면서 배우는 Git+GitHub 입문</a></p>\n\t\t\t\t\t\t\t<p class=\"book_writer\">마리코 나카무라</p>\n\t\t\t\t\t\t</div>\n\t\t\t\t\t</div>\n\t\t\t\t</li>\t\n\t\t\t\t-->\n</div></div></div></body></html>\n\n<!-- //책 리스트 -->\n<!-- 페이징 -->\n<div class=\"paginate\">\n<strong>1</strong>\n<a href=\"/academy/books/new_book_list.html/?page=2&amp;cate_cd=&amp;srt=&amp;searchKey=&amp;keyWord=\">2</a>\n<a href=\"/academy/books/new_book_list.html/?page=3&amp;cate_cd=&amp;srt=&amp;searchKey=&amp;keyWord=\">3</a>\n<a href=\"/academy/books/new_book_list.html/?page=4&amp;cate_cd=&amp;srt=&amp;searchKey=&amp;keyWord=\">4</a>\n<a href=\"/academy/books/new_book_list.html/?page=5&amp;cate_cd=&amp;srt=&amp;searchKey=&amp;keyWord=\">5</a>\n<a href=\"/academy/books/new_book_list.html/?page=6&amp;cate_cd=&amp;srt=&amp;searchKey=&amp;keyWord=\">6</a>\n<a href=\"/academy/books/new_book_list.html/?page=7&amp;cate_cd=&amp;srt=&amp;searchKey=&amp;keyWord=\">7</a>\n<a href=\"/academy/books/new_book_list.html/?page=8&amp;cate_cd=&amp;srt=&amp;searchKey=&amp;keyWord=\">8</a>\n<a href=\"/academy/books/new_book_list.html/?page=9&amp;cate_cd=&amp;srt=&amp;searchKey=&amp;keyWord=\">9</a>\n<a href=\"/academy/books/new_book_list.html/?page=10&amp;cate_cd=&amp;srt=&amp;searchKey=&amp;keyWord=\">10</a>\n<a class=\"next\" href=\"/academy/books/new_book_list.html/?page=11&amp;cate_cd=&amp;srt=&amp;searchKey=&amp;keyWord=\"><span>&gt;</span></a>\n</div>\n<!-- //페이징 -->\n\n<!-- //새로나온 책 wrap -->\n<!-- 카트 담기 레이어 팝업 -->\n<div class=\"add_cart_layer\">\n<div class=\"bg\"></div>\n<div class=\"add_cart_pop-layer\" id=\"layer_add_cart\">\n<div class=\"pop-container\">\n<div class=\"pop-conts\">\n<!--content //-->\n<div class=\"close\"><a class=\"cbtn\" href=\"javascript:;\" onclick=\"\"><img alt=\"닫기\" height=\"38\" src=\"https://www.hanbit.co.kr/images/common/icon_close.png\" width=\"38\"/></a></div>\n<p class=\"ctxt\"><span id=\"cartmsg\">해당 상품을 장바구니에 담았습니다.</span><span id=\"cartmsg2\">이미 장바구니에 추가된 상품입니다.</span><br/>장바구니로 이동하시겠습니까?</p>\n<div class=\"btn_layer\">\n<a href=\"/myhanbit/cart.html\">장바구니<br/>이동</a>\n<!--<a href=\"javascript:;\" onClick=\"$('.add_cart_layer').hide();\">쇼핑<br />계속</a>-->\n<a class=\"cbtn\" href=\"javascript:;\" onclick=\"\">쇼핑<br/>계속</a>\n</div>\n<!--// content-->\n</div>\n</div>\n</div>\n</div> <!-- //카트 담기 레이어 팝업 -->\n\n<!-- //Contents -->\n<!-- Footer -->\n<footer>\n<!-- 공지사항 -->\n<div class=\"foot_notice\">\n</div>\n<!-- //공지사항 -->\n<div class=\"foot_contents\">\n<!-- 하단 메뉴 -->\n<div class=\"foot_menu\">\n<!-- added by coffin -->\n<ul>\n<li><a href=\"https://www.hanbit.co.kr/publisher/index.html\" target=\"_blank\">회사소개</a>(<a href=\"https://www.hanbit.co.kr/publisher/index.html\" target=\"_blank\">KOR</a> | <a href=\"https://www.hanbit.co.kr/publisher/index.html?lang=e\" target=\"_blank\">ENG</a>) • <a href=\"https://www.hanbit.co.kr/publisher/contact.html?lang=k\" target=\"_blank\">약도</a></li>\n<li><a href=\"https://www.hanbit.co.kr/publisher/write.html\" target=\"_blank\">기획 및 원고 모집</a></li>\n<li><a href=\"https://www.hanbit.co.kr/publisher/foreignrights.html\" target=\"_blank\">FOREIGN RIGHTS</a></li>\n<li><a href=\"https://www.hanbit.co.kr/member/use_agreement.html\">이용약관</a></li>\n<li><a href=\"https://www.hanbit.co.kr/member/privacy_policy.html\"><strong>개인정보취급방침</strong></a></li>\n<li><a href=\"https://www.hanbit.co.kr/sitemap/sitemap.html\">사이트맵</a></li>\n</ul>\n</div>\n<!-- //하단 메뉴 -->\n<!-- SNS -->\n<div class=\"foot_sns\">\n<ul>\n<li class=\"foot_facebook\"><a href=\"https://www.facebook.com/hanbitacademy/\" target=\"_blank\"><span>페이스북</span></a></li>\n<li class=\"foot_youtube\"><a href=\"https://www.youtube.com/c/한빛아카데미2013\" target=\"_blank\"><span>유튜브</span></a></li>\n</ul>\n<fieldset class=\"foot_srch\">\n<legend>하단 검색영역</legend>\n<input accesskey=\"s\" class=\"foot_srch_keyword\" id=\"foot_keyword_str\" style=\"font-size:16px;\" title=\"검색어\" type=\"text\" value=\"\"/>\n<input alt=\"\" class=\"foot_srch_btn\" onclick=\"foot_sch_smit();\" style=\"cursor: pointer;\" type=\"button\"/>\n</fieldset>\n<script>\n        // 검색 리스트  \n        $(document).ready(function() {       \n          $('#foot_keyword_str').keyup(function(e) {\n            if (e.keyCode == 13) \n              foot_sch_smit();\n          });        \n        });\n\n        function foot_sch_smit(){            \n          var foot_keyword_str = $(\"#foot_keyword_str\").val();      \n          var searchUrl = \"/search/search_list.html?keyword=\"+foot_keyword_str;\n\n          if(!foot_keyword_str){\n            alert(\"검색어를 입력해주세요\");\n            $(\"#foot_keyword_str\").focus();\n          }else{\n            location.href = searchUrl;\n          }\n        }\n      </script>\n</div>\n<!-- //SNS -->\n<!-- 한빛 정보 -->\n<div class=\"foot_about\">\n<div class=\"foot_about_area\">\n<p>한빛아카데미㈜</p>\n<p>(03785) 서울 서대문구 연희로2길 62 2층</p>\n<p>TEL : 02-336-7112 / FAX : 02-336-7199</p>\n<p>대표이사 : 전태호</p>\n<p>사업자등록번호 : 105-87-81648</p>\n</div>\n</div>\n<!-- //한빛 정보 -->\n</div>\n<div class=\"copyright\">©1993-2020 Hanbit Publishing Network, Inc. All rights reserved.</div>\n</footer>\n<!-- //푸터 -->\n<div class=\"foot_download_btn\"><a href=\"https://www.hanbit.co.kr/support/supplement_list.html\">자료실</a></div>\n<!-- 공통 JS 호출 -->\n<script src=\"/js/common.js\" type=\"text/javascript\"></script>\n<!-- //공통 JS 호출 -->\n\n\n\n"
     ]
    }
   ],
   "source": [
    "print(soup)"
   ]
  },
  {
   "cell_type": "code",
   "execution_count": 4,
   "metadata": {},
   "outputs": [],
   "source": [
    "# 필요 한 데이터 : 새로운책 제목, 가격, 저자, 번역 등등"
   ]
  },
  {
   "cell_type": "code",
   "execution_count": 7,
   "metadata": {},
   "outputs": [],
   "source": [
    "new_booklist = soup.select_one('.sub_book_list_area')"
   ]
  },
  {
   "cell_type": "code",
   "execution_count": 9,
   "metadata": {},
   "outputs": [
    {
     "output_type": "execute_result",
     "data": {
      "text/plain": [
       "'\\n\\n\\n\\n\\n\\n\\n\\n\\n\\n28,000원\\n\\n\\n\\n\\n\\n\\n\\nIT CookBook, 액세스 2019로 배우는 데이터베이스 기초와 실습\\n김지연 \\n\\n\\n'"
      ]
     },
     "metadata": {},
     "execution_count": 9
    }
   ],
   "source": [
    "book_areas = new_booklist.find_all('li')\n",
    "book_areas[1].get_text()"
   ]
  },
  {
   "cell_type": "code",
   "execution_count": 11,
   "metadata": {},
   "outputs": [
    {
     "output_type": "execute_result",
     "data": {
      "text/plain": [
       "'IT CookBook, 액세스 2019로 배우는 데이터베이스 기초와 실습'"
      ]
     },
     "metadata": {},
     "execution_count": 11
    }
   ],
   "source": [
    "book_areas[1].find('p', 'book_tit').get_text()"
   ]
  },
  {
   "cell_type": "code",
   "execution_count": 12,
   "metadata": {},
   "outputs": [
    {
     "output_type": "execute_result",
     "data": {
      "text/plain": [
       "'김지연 '"
      ]
     },
     "metadata": {},
     "execution_count": 12
    }
   ],
   "source": [
    "book_areas[1].find('p', 'book_writer').get_text()"
   ]
  },
  {
   "cell_type": "code",
   "execution_count": 16,
   "metadata": {},
   "outputs": [
    {
     "output_type": "execute_result",
     "data": {
      "text/plain": [
       "<bound method Tag.get_text of <span class=\"price\">28,000<span>원</span></span>>"
      ]
     },
     "metadata": {},
     "execution_count": 16
    }
   ],
   "source": [
    "book_areas[1].find('span', 'price').get_text"
   ]
  },
  {
   "cell_type": "code",
   "execution_count": 21,
   "metadata": {},
   "outputs": [],
   "source": [
    "book_titles = []; book_writers = []; book_prices = []\n",
    "new_booklist = soup.select_one('.sub_book_list_area')\n",
    "book_areas = new_booklist.find_all('li')"
   ]
  },
  {
   "cell_type": "code",
   "execution_count": 22,
   "metadata": {},
   "outputs": [],
   "source": [
    "for book in book_areas[1:]:\n",
    "    book_titles.append(book.find('p', 'book_tit').get_text())\n",
    "    book_writers.append(book.find('p', 'book_writer').get_text())\n",
    "    book_prices.append(book.find('span', 'price').get_text())"
   ]
  },
  {
   "cell_type": "code",
   "execution_count": 23,
   "metadata": {},
   "outputs": [
    {
     "output_type": "execute_result",
     "data": {
      "text/plain": [
       "['IT CookBook, 액세스 2019로 배우는 데이터베이스 기초와 실습',\n",
       " '포르잔 C++ 바이블',\n",
       " '딥러닝을 위한 선형대수학',\n",
       " 'IT CookBook, 오라클로 배우는 데이터베이스 개론과 실습(2판)',\n",
       " '대학을 버려야 대학이 산다',\n",
       " 'IT CookBook, 따라 하면서 배우는 사물인터넷',\n",
       " 'R로 하는 다변량 데이터 분석 : 이론부터 실무 활용까지',\n",
       " '창의적 공학설계(3판)',\n",
       " '공학 핵심수학(2판)  : 기초부터 심화까지 핵심만 쏙쏙',\n",
       " '응용이 보이는 선형대수학 : 파이썬과 함께하는 선형대수학 이론과 응용',\n",
       " 'IT CookBook, 초연결 사회의 데이터통신과 네트워킹',\n",
       " 'IT CookBook, 쉽게 배우는 MFC 윈도우 프로그래밍',\n",
       " 'IT CookBook, 인공지능 시대를 위한 컴퓨터 과학 개론',\n",
       " 'IT CookBook, 코틀린을 활용한 안드로이드 프로그래밍',\n",
       " 'IT CookBook, 처음 만나는 신재생에너지',\n",
       " '프리드버그 선형대수학',\n",
       " 'IT CookBook, CentOS 리눅스',\n",
       " 'Microeconomics, 6th Edition, Asia Edition',\n",
       " '누구나 파이썬 통계분석']"
      ]
     },
     "metadata": {},
     "execution_count": 23
    }
   ],
   "source": [
    "book_titles"
   ]
  },
  {
   "cell_type": "code",
   "execution_count": 25,
   "metadata": {},
   "outputs": [],
   "source": [
    "new_booklist = pd.DataFrame({\n",
    "    'book_title': book_titles,\n",
    "    'book_writer': book_writers,\n",
    "    'book_price': book_prices\n",
    "})"
   ]
  },
  {
   "cell_type": "code",
   "execution_count": 26,
   "metadata": {},
   "outputs": [
    {
     "output_type": "execute_result",
     "data": {
      "text/plain": [
       "                                   book_title  \\\n",
       "0    IT CookBook, 액세스 2019로 배우는 데이터베이스 기초와 실습   \n",
       "1                                 포르잔 C++ 바이블   \n",
       "2                               딥러닝을 위한 선형대수학   \n",
       "3     IT CookBook, 오라클로 배우는 데이터베이스 개론과 실습(2판)   \n",
       "4                              대학을 버려야 대학이 산다   \n",
       "5               IT CookBook, 따라 하면서 배우는 사물인터넷   \n",
       "6             R로 하는 다변량 데이터 분석 : 이론부터 실무 활용까지   \n",
       "7                                창의적 공학설계(3판)   \n",
       "8             공학 핵심수학(2판)  : 기초부터 심화까지 핵심만 쏙쏙   \n",
       "9      응용이 보이는 선형대수학 : 파이썬과 함께하는 선형대수학 이론과 응용   \n",
       "10           IT CookBook, 초연결 사회의 데이터통신과 네트워킹   \n",
       "11          IT CookBook, 쉽게 배우는 MFC 윈도우 프로그래밍   \n",
       "12         IT CookBook, 인공지능 시대를 위한 컴퓨터 과학 개론   \n",
       "13          IT CookBook, 코틀린을 활용한 안드로이드 프로그래밍   \n",
       "14                 IT CookBook, 처음 만나는 신재생에너지   \n",
       "15                                프리드버그 선형대수학   \n",
       "16                    IT CookBook, CentOS 리눅스   \n",
       "17  Microeconomics, 6th Edition, Asia Edition   \n",
       "18                               누구나 파이썬 통계분석   \n",
       "\n",
       "                                  book_writer book_price  \n",
       "0                                        김지연     28,000원  \n",
       "1   Behrouz A. Forouzan , Richard F. Gilberg     45,000원  \n",
       "2                             Gilbert Strang     38,000원  \n",
       "3                            박우창 , 남송휘 , 이현룡     29,000원  \n",
       "4                        조동성 외 인천대학교 가족 178명     18,000원  \n",
       "5                                        양재삼     28,000원  \n",
       "6              카와하시 잇코 , 이와마 노리카즈 , 스즈키 마사유키     32,000원  \n",
       "7                                        김은경     23,000원  \n",
       "8                                        함남우     23,000원  \n",
       "9                                        이건명     31,000원  \n",
       "10                                       강문식     29,000원  \n",
       "11                                 김선우 , 신화선     30,000원  \n",
       "12                                       정기철     27,000원  \n",
       "13                                 우재남 , 유혜림     34,000원  \n",
       "14                                       김지홍     25,000원  \n",
       "15     스티븐 H. 프리드버그 , 아놀드 J. 인셀 , 로렌스 E. 스펜스     35,000원  \n",
       "16                                       이종원     32,000원  \n",
       "17         David Besanko , Ronald Braeutigam     49,000원  \n",
       "18                                  타니아이 히로키     26,000원  "
      ],
      "text/html": "<div>\n<style scoped>\n    .dataframe tbody tr th:only-of-type {\n        vertical-align: middle;\n    }\n\n    .dataframe tbody tr th {\n        vertical-align: top;\n    }\n\n    .dataframe thead th {\n        text-align: right;\n    }\n</style>\n<table border=\"1\" class=\"dataframe\">\n  <thead>\n    <tr style=\"text-align: right;\">\n      <th></th>\n      <th>book_title</th>\n      <th>book_writer</th>\n      <th>book_price</th>\n    </tr>\n  </thead>\n  <tbody>\n    <tr>\n      <th>0</th>\n      <td>IT CookBook, 액세스 2019로 배우는 데이터베이스 기초와 실습</td>\n      <td>김지연</td>\n      <td>28,000원</td>\n    </tr>\n    <tr>\n      <th>1</th>\n      <td>포르잔 C++ 바이블</td>\n      <td>Behrouz A. Forouzan , Richard F. Gilberg</td>\n      <td>45,000원</td>\n    </tr>\n    <tr>\n      <th>2</th>\n      <td>딥러닝을 위한 선형대수학</td>\n      <td>Gilbert Strang</td>\n      <td>38,000원</td>\n    </tr>\n    <tr>\n      <th>3</th>\n      <td>IT CookBook, 오라클로 배우는 데이터베이스 개론과 실습(2판)</td>\n      <td>박우창 , 남송휘 , 이현룡</td>\n      <td>29,000원</td>\n    </tr>\n    <tr>\n      <th>4</th>\n      <td>대학을 버려야 대학이 산다</td>\n      <td>조동성 외 인천대학교 가족 178명</td>\n      <td>18,000원</td>\n    </tr>\n    <tr>\n      <th>5</th>\n      <td>IT CookBook, 따라 하면서 배우는 사물인터넷</td>\n      <td>양재삼</td>\n      <td>28,000원</td>\n    </tr>\n    <tr>\n      <th>6</th>\n      <td>R로 하는 다변량 데이터 분석 : 이론부터 실무 활용까지</td>\n      <td>카와하시 잇코 , 이와마 노리카즈 , 스즈키 마사유키</td>\n      <td>32,000원</td>\n    </tr>\n    <tr>\n      <th>7</th>\n      <td>창의적 공학설계(3판)</td>\n      <td>김은경</td>\n      <td>23,000원</td>\n    </tr>\n    <tr>\n      <th>8</th>\n      <td>공학 핵심수학(2판)  : 기초부터 심화까지 핵심만 쏙쏙</td>\n      <td>함남우</td>\n      <td>23,000원</td>\n    </tr>\n    <tr>\n      <th>9</th>\n      <td>응용이 보이는 선형대수학 : 파이썬과 함께하는 선형대수학 이론과 응용</td>\n      <td>이건명</td>\n      <td>31,000원</td>\n    </tr>\n    <tr>\n      <th>10</th>\n      <td>IT CookBook, 초연결 사회의 데이터통신과 네트워킹</td>\n      <td>강문식</td>\n      <td>29,000원</td>\n    </tr>\n    <tr>\n      <th>11</th>\n      <td>IT CookBook, 쉽게 배우는 MFC 윈도우 프로그래밍</td>\n      <td>김선우 , 신화선</td>\n      <td>30,000원</td>\n    </tr>\n    <tr>\n      <th>12</th>\n      <td>IT CookBook, 인공지능 시대를 위한 컴퓨터 과학 개론</td>\n      <td>정기철</td>\n      <td>27,000원</td>\n    </tr>\n    <tr>\n      <th>13</th>\n      <td>IT CookBook, 코틀린을 활용한 안드로이드 프로그래밍</td>\n      <td>우재남 , 유혜림</td>\n      <td>34,000원</td>\n    </tr>\n    <tr>\n      <th>14</th>\n      <td>IT CookBook, 처음 만나는 신재생에너지</td>\n      <td>김지홍</td>\n      <td>25,000원</td>\n    </tr>\n    <tr>\n      <th>15</th>\n      <td>프리드버그 선형대수학</td>\n      <td>스티븐 H. 프리드버그 , 아놀드 J. 인셀 , 로렌스 E. 스펜스</td>\n      <td>35,000원</td>\n    </tr>\n    <tr>\n      <th>16</th>\n      <td>IT CookBook, CentOS 리눅스</td>\n      <td>이종원</td>\n      <td>32,000원</td>\n    </tr>\n    <tr>\n      <th>17</th>\n      <td>Microeconomics, 6th Edition, Asia Edition</td>\n      <td>David Besanko , Ronald Braeutigam</td>\n      <td>49,000원</td>\n    </tr>\n    <tr>\n      <th>18</th>\n      <td>누구나 파이썬 통계분석</td>\n      <td>타니아이 히로키</td>\n      <td>26,000원</td>\n    </tr>\n  </tbody>\n</table>\n</div>"
     },
     "metadata": {},
     "execution_count": 26
    }
   ],
   "source": [
    "new_booklist"
   ]
  },
  {
   "cell_type": "code",
   "execution_count": null,
   "metadata": {},
   "outputs": [],
   "source": []
  }
 ]
}