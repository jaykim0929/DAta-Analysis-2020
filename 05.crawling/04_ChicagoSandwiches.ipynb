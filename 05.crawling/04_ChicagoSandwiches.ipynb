{
 "metadata": {
  "language_info": {
   "codemirror_mode": {
    "name": "ipython",
    "version": 3
   },
   "file_extension": ".py",
   "mimetype": "text/x-python",
   "name": "python",
   "nbconvert_exporter": "python",
   "pygments_lexer": "ipython3",
   "version": "3.8.3-final"
  },
  "orig_nbformat": 2,
  "kernelspec": {
   "name": "python3",
   "display_name": "Python 3"
  }
 },
 "nbformat": 4,
 "nbformat_minor": 2,
 "cells": [
  {
   "source": [
    "# 시카고 샌드위치 맛집 분석"
   ],
   "cell_type": "markdown",
   "metadata": {}
  },
  {
   "source": [
    "## 1. 시카고 샌드위치 맛집 사이트에 접근하기"
   ],
   "cell_type": "markdown",
   "metadata": {}
  },
  {
   "cell_type": "code",
   "execution_count": 1,
   "metadata": {},
   "outputs": [],
   "source": [
    "from bs4 import BeautifulSoup\n",
    "from urllib.request import urlopen"
   ]
  },
  {
   "cell_type": "code",
   "execution_count": 2,
   "metadata": {},
   "outputs": [],
   "source": [
    "url_base ='http://www.chicagomag.com'\n",
    "url_sub = '/Chicago-Magazine/November-2012/Best-Sandwiches-Chicago/'\n",
    "url =url_base + url_sub\n",
    "\n",
    "html = urlopen(url)\n",
    "soup = BeautifulSoup(html, 'html.parser')"
   ]
  },
  {
   "cell_type": "code",
   "execution_count": 3,
   "metadata": {},
   "outputs": [
    {
     "output_type": "execute_result",
     "data": {
      "text/plain": [
       "<div class=\"sammy\" style=\"position: relative;\">\n",
       "<div class=\"sammyRank\">1</div>\n",
       "<div class=\"sammyListing\"><a href=\"/Chicago-Magazine/November-2012/Best-Sandwiches-in-Chicago-Old-Oak-Tap-BLT/\"><b>BLT</b><br>\n",
       "Old Oak Tap<br>\n",
       "<em>Read more</em> </br></br></a></div>\n",
       "</div>"
      ]
     },
     "metadata": {},
     "execution_count": 3
    }
   ],
   "source": [
    "rest_list = soup.select('.sammy')\n",
    "rest_list[0]"
   ]
  },
  {
   "cell_type": "code",
   "execution_count": 4,
   "metadata": {},
   "outputs": [
    {
     "output_type": "execute_result",
     "data": {
      "text/plain": [
       "50"
      ]
     },
     "metadata": {},
     "execution_count": 4
    }
   ],
   "source": [
    "len(rest_list)"
   ]
  },
  {
   "source": [
    "## 2.접근한 웹 페이지에서 원하는 데이터 추출하고 정리하기"
   ],
   "cell_type": "markdown",
   "metadata": {}
  },
  {
   "cell_type": "code",
   "execution_count": 5,
   "metadata": {},
   "outputs": [
    {
     "output_type": "execute_result",
     "data": {
      "text/plain": [
       "'1'"
      ]
     },
     "metadata": {},
     "execution_count": 5
    }
   ],
   "source": [
    "rank = rest_list[0].select_one('.sammyRank').string\n",
    "rank"
   ]
  },
  {
   "cell_type": "code",
   "execution_count": 6,
   "metadata": {},
   "outputs": [
    {
     "output_type": "execute_result",
     "data": {
      "text/plain": [
       "'http://www.chicagomag.com/Chicago-Magazine/November-2012/Best-Sandwiches-in-Chicago-Lula-Cafe-Ham-and-Raclette-Panino/'"
      ]
     },
     "metadata": {},
     "execution_count": 6
    }
   ],
   "source": [
    "from urllib.parse import urljoin\n",
    "url = urljoin(url_base, rest_list[10].find('a')['href'])\n",
    "url"
   ]
  },
  {
   "cell_type": "code",
   "execution_count": 7,
   "metadata": {},
   "outputs": [
    {
     "output_type": "execute_result",
     "data": {
      "text/plain": [
       "'BLT\\r\\nOld Oak Tap\\nRead more '"
      ]
     },
     "metadata": {},
     "execution_count": 7
    }
   ],
   "source": [
    "tmp = rest_list[0].find('a').get_text()\n",
    "tmp"
   ]
  },
  {
   "cell_type": "code",
   "execution_count": 8,
   "metadata": {},
   "outputs": [
    {
     "output_type": "execute_result",
     "data": {
      "text/plain": [
       "['BLT\\r', 'Old Oak Tap', 'Read more ']"
      ]
     },
     "metadata": {},
     "execution_count": 8
    }
   ],
   "source": [
    "tmp.split('\\n')"
   ]
  },
  {
   "cell_type": "code",
   "execution_count": 9,
   "metadata": {},
   "outputs": [
    {
     "output_type": "execute_result",
     "data": {
      "text/plain": [
       "('BLT', 'Old Oak Tap')"
      ]
     },
     "metadata": {},
     "execution_count": 9
    }
   ],
   "source": [
    "menu = tmp.split('\\n')[0].replace('\\r', '')\n",
    "cafe = tmp.split('\\n')[1]\n",
    "menu, cafe"
   ]
  },
  {
   "cell_type": "code",
   "execution_count": 11,
   "metadata": {},
   "outputs": [],
   "source": [
    "rank_list = []; url_list = []; menu_list = []; cafe_list = []\n",
    "for rest in rest_list:\n",
    "    rank = int(rest.select_one('.sammyRank').string)\n",
    "    url = urljoin(url_base, rest.find('a')['href'])\n",
    "    tmp = rest.find('a').get_text().split('\\n')\n",
    "    menu = tmp[0].replace('\\r', '')\n",
    "    cafe = tmp[1]\n",
    "    rank_list.append(rank)\n",
    "    url_list.append(url)\n",
    "    menu_list.append(menu)\n",
    "    cafe_list.append(cafe)                                       "
   ]
  },
  {
   "cell_type": "code",
   "execution_count": 12,
   "metadata": {},
   "outputs": [
    {
     "output_type": "execute_result",
     "data": {
      "text/plain": [
       "   Rank                    Cafe               Menu  \\\n",
       "0     1             Old Oak Tap                BLT   \n",
       "1     2               Au Cheval      Fried Bologna   \n",
       "2     3                    Xoco  Woodland Mushroom   \n",
       "3     4               Al’s Deli         Roast Beef   \n",
       "4     5  Publican Quality Meats               PB&L   \n",
       "\n",
       "                                                 URL  \n",
       "0  http://www.chicagomag.com/Chicago-Magazine/Nov...  \n",
       "1  http://www.chicagomag.com/Chicago-Magazine/Nov...  \n",
       "2  http://www.chicagomag.com/Chicago-Magazine/Nov...  \n",
       "3  http://www.chicagomag.com/Chicago-Magazine/Nov...  \n",
       "4  http://www.chicagomag.com/Chicago-Magazine/Nov...  "
      ],
      "text/html": "<div>\n<style scoped>\n    .dataframe tbody tr th:only-of-type {\n        vertical-align: middle;\n    }\n\n    .dataframe tbody tr th {\n        vertical-align: top;\n    }\n\n    .dataframe thead th {\n        text-align: right;\n    }\n</style>\n<table border=\"1\" class=\"dataframe\">\n  <thead>\n    <tr style=\"text-align: right;\">\n      <th></th>\n      <th>Rank</th>\n      <th>Cafe</th>\n      <th>Menu</th>\n      <th>URL</th>\n    </tr>\n  </thead>\n  <tbody>\n    <tr>\n      <th>0</th>\n      <td>1</td>\n      <td>Old Oak Tap</td>\n      <td>BLT</td>\n      <td>http://www.chicagomag.com/Chicago-Magazine/Nov...</td>\n    </tr>\n    <tr>\n      <th>1</th>\n      <td>2</td>\n      <td>Au Cheval</td>\n      <td>Fried Bologna</td>\n      <td>http://www.chicagomag.com/Chicago-Magazine/Nov...</td>\n    </tr>\n    <tr>\n      <th>2</th>\n      <td>3</td>\n      <td>Xoco</td>\n      <td>Woodland Mushroom</td>\n      <td>http://www.chicagomag.com/Chicago-Magazine/Nov...</td>\n    </tr>\n    <tr>\n      <th>3</th>\n      <td>4</td>\n      <td>Al’s Deli</td>\n      <td>Roast Beef</td>\n      <td>http://www.chicagomag.com/Chicago-Magazine/Nov...</td>\n    </tr>\n    <tr>\n      <th>4</th>\n      <td>5</td>\n      <td>Publican Quality Meats</td>\n      <td>PB&amp;L</td>\n      <td>http://www.chicagomag.com/Chicago-Magazine/Nov...</td>\n    </tr>\n  </tbody>\n</table>\n</div>"
     },
     "metadata": {},
     "execution_count": 12
    }
   ],
   "source": [
    "import pandas as pd \n",
    "df = pd.DataFrame({\n",
    "    'Rank': rank_list,\n",
    "    'Cafe': cafe_list,\n",
    "    'Menu': menu_list,\n",
    "    'URL': url_list\n",
    "})\n",
    "df.head()"
   ]
  },
  {
   "cell_type": "code",
   "execution_count": 13,
   "metadata": {},
   "outputs": [],
   "source": [
    "df.to_csv('chicago.csv', sep= ',', encoding='utf8')"
   ]
  },
  {
   "source": [
    "### 3. 다수의 웹페이지에 자동으로 접근해서 원하는 정보 가져오기"
   ],
   "cell_type": "markdown",
   "metadata": {}
  },
  {
   "cell_type": "code",
   "execution_count": 27,
   "metadata": {},
   "outputs": [],
   "source": [
    "html = urlopen(df['URL'][0])\n",
    "soup_tmp = BeautifulSoup(html, 'html.parser')"
   ]
  },
  {
   "cell_type": "code",
   "execution_count": 28,
   "metadata": {},
   "outputs": [
    {
     "output_type": "execute_result",
     "data": {
      "text/plain": [
       "<p class=\"addy\">\n",
       "<em>$10. 2109 W. Chicago Ave., 773-772-0406, <a href=\"http://www.theoldoaktap.com/\">theoldoaktap.com</a></em></p>"
      ]
     },
     "metadata": {},
     "execution_count": 28
    }
   ],
   "source": [
    "soup_tmp.select_one('.addy')"
   ]
  },
  {
   "cell_type": "code",
   "execution_count": 29,
   "metadata": {},
   "outputs": [
    {
     "output_type": "execute_result",
     "data": {
      "text/plain": [
       "'\\n$10. 2109 W. Chicago Ave., 773-772-0406, theoldoaktap.com'"
      ]
     },
     "metadata": {},
     "execution_count": 29
    }
   ],
   "source": [
    "soup_tmp.select_one('.addy').get_text()"
   ]
  },
  {
   "cell_type": "code",
   "execution_count": 30,
   "metadata": {},
   "outputs": [
    {
     "output_type": "execute_result",
     "data": {
      "text/plain": [
       "3"
      ]
     },
     "metadata": {},
     "execution_count": 30
    }
   ],
   "source": [
    "tmp = soup_tmp.select_one('.addy').get_text().split(',')\n",
    "len(tmp)"
   ]
  },
  {
   "cell_type": "code",
   "execution_count": 31,
   "metadata": {},
   "outputs": [
    {
     "output_type": "execute_result",
     "data": {
      "text/plain": [
       "'\\n$10. 2109 W. Chicago Ave.'"
      ]
     },
     "metadata": {},
     "execution_count": 31
    }
   ],
   "source": [
    "tmp[0]"
   ]
  },
  {
   "cell_type": "code",
   "execution_count": 32,
   "metadata": {},
   "outputs": [
    {
     "output_type": "execute_result",
     "data": {
      "text/plain": [
       "'$10'"
      ]
     },
     "metadata": {},
     "execution_count": 32
    }
   ],
   "source": [
    "price = tmp[0].split()[0][:-1]\n",
    "price"
   ]
  },
  {
   "cell_type": "code",
   "execution_count": 24,
   "metadata": {},
   "outputs": [
    {
     "output_type": "execute_result",
     "data": {
      "text/plain": [
       "'2109 W. Chicago Ave.'"
      ]
     },
     "metadata": {},
     "execution_count": 24
    }
   ],
   "source": [
    "addr = ' '.join(tmp[0].split()[1:])\n",
    "addr"
   ]
  },
  {
   "cell_type": "code",
   "execution_count": 33,
   "metadata": {},
   "outputs": [
    {
     "output_type": "execute_result",
     "data": {
      "text/plain": [
       "'773-772-0406'"
      ]
     },
     "metadata": {},
     "execution_count": 33
    }
   ],
   "source": [
    "tmp[1].strip()"
   ]
  },
  {
   "cell_type": "code",
   "execution_count": 34,
   "metadata": {},
   "outputs": [],
   "source": [
    "from tqdm import tqdm_notebook"
   ]
  },
  {
   "cell_type": "code",
   "execution_count": 36,
   "metadata": {},
   "outputs": [
    {
     "output_type": "display_data",
     "data": {
      "text/plain": "HBox(children=(FloatProgress(value=0.0, max=50.0), HTML(value='')))",
      "application/vnd.jupyter.widget-view+json": {
       "version_major": 2,
       "version_minor": 0,
       "model_id": "3a9e40f99f784eb780e52a71d6c2f806"
      }
     },
     "metadata": {}
    },
    {
     "output_type": "stream",
     "name": "stdout",
     "text": [
      "\n"
     ]
    }
   ],
   "source": [
    "rank_list = []; url_list = []; menu_list = []; cafe_list = []\n",
    "price_list = []; addr_list = []; tel_list = []; hp_list = []\n",
    "for rest in tqdm_notebook(rest_list):\n",
    "    rank = int(rest.select_one('.sammyRank').string)\n",
    "    url = urljoin(url_base, rest.find('a')['href'])\n",
    "    tmp = rest.find('a').get_text().split('\\n')\n",
    "    menu = tmp[0].replace('\\r', '')\n",
    "    cafe = tmp[1]\n",
    "    rank_list.append(rank)\n",
    "    url_list.append(url)\n",
    "    menu_list.append(menu)\n",
    "    cafe_list.append(cafe)\n",
    "\n",
    "    html = urlopen(url)\n",
    "    soup_tmp = BeautifulSoup(html, 'html.parser')\n",
    "    tmp = soup_tmp.select_one('.addy').get_text().split(',')\n",
    "    price = tmp[0].split()[0][:-1]\n",
    "    price_list.append(price)\n",
    "    addr = ' '.join(tmp[0].split()[1:])\n",
    "    if len(tmp) == 1:\n",
    "        addr_list.append(addr)\n",
    "        tel_list.append(' ')\n",
    "        hp_list.append(' ')\n",
    "    elif len(tmp) == 2:\n",
    "        if addr.find('Multiple') >= 0:\n",
    "            addr_list.append(' ')\n",
    "            tel_list.append(' ')\n",
    "            hp_list.append(tmp[1])\n",
    "        else:\n",
    "            addr_list.append(addr)\n",
    "            tel_list.append(tmp[1].strip())\n",
    "            hp_list.append(' ')\n",
    "    elif len(tmp) == 3:\n",
    "        addr_list.append(addr)\n",
    "        tel_list.append(tmp[1].strip())\n",
    "        hp_list.append(tmp[2])\n",
    "    elif len(tmp) == 4:\n",
    "        addr += ', ' + tmp[1]\n",
    "        addr_list.append(addr)\n",
    "        tel_list.append(tmp[2].strip())\n",
    "        hp_list.append(tmp[3])"
   ]
  },
  {
   "cell_type": "code",
   "execution_count": 37,
   "metadata": {},
   "outputs": [
    {
     "output_type": "execute_result",
     "data": {
      "text/plain": [
       "   Rank                    Cafe               Menu  Price  \\\n",
       "0     1             Old Oak Tap                BLT    $10   \n",
       "1     2               Au Cheval      Fried Bologna     $9   \n",
       "2     3                    Xoco  Woodland Mushroom  $9.50   \n",
       "3     4               Al’s Deli         Roast Beef  $9.40   \n",
       "4     5  Publican Quality Meats               PB&L    $10   \n",
       "\n",
       "                    Address     Telephone                  Home Page  \n",
       "0      2109 W. Chicago Ave.  773-772-0406           theoldoaktap.com  \n",
       "1       800 W. Randolph St.  312-929-4580        aucheval.tumblr.com  \n",
       "2          445 N. Clark St.  312-334-3688            rickbayless.com  \n",
       "3  914 Noyes St.,  Evanston  847-475-9400                alsdeli.net  \n",
       "4        825 W. Fulton Mkt.  312-445-8977   publicanqualitymeats.com  "
      ],
      "text/html": "<div>\n<style scoped>\n    .dataframe tbody tr th:only-of-type {\n        vertical-align: middle;\n    }\n\n    .dataframe tbody tr th {\n        vertical-align: top;\n    }\n\n    .dataframe thead th {\n        text-align: right;\n    }\n</style>\n<table border=\"1\" class=\"dataframe\">\n  <thead>\n    <tr style=\"text-align: right;\">\n      <th></th>\n      <th>Rank</th>\n      <th>Cafe</th>\n      <th>Menu</th>\n      <th>Price</th>\n      <th>Address</th>\n      <th>Telephone</th>\n      <th>Home Page</th>\n    </tr>\n  </thead>\n  <tbody>\n    <tr>\n      <th>0</th>\n      <td>1</td>\n      <td>Old Oak Tap</td>\n      <td>BLT</td>\n      <td>$10</td>\n      <td>2109 W. Chicago Ave.</td>\n      <td>773-772-0406</td>\n      <td>theoldoaktap.com</td>\n    </tr>\n    <tr>\n      <th>1</th>\n      <td>2</td>\n      <td>Au Cheval</td>\n      <td>Fried Bologna</td>\n      <td>$9</td>\n      <td>800 W. Randolph St.</td>\n      <td>312-929-4580</td>\n      <td>aucheval.tumblr.com</td>\n    </tr>\n    <tr>\n      <th>2</th>\n      <td>3</td>\n      <td>Xoco</td>\n      <td>Woodland Mushroom</td>\n      <td>$9.50</td>\n      <td>445 N. Clark St.</td>\n      <td>312-334-3688</td>\n      <td>rickbayless.com</td>\n    </tr>\n    <tr>\n      <th>3</th>\n      <td>4</td>\n      <td>Al’s Deli</td>\n      <td>Roast Beef</td>\n      <td>$9.40</td>\n      <td>914 Noyes St.,  Evanston</td>\n      <td>847-475-9400</td>\n      <td>alsdeli.net</td>\n    </tr>\n    <tr>\n      <th>4</th>\n      <td>5</td>\n      <td>Publican Quality Meats</td>\n      <td>PB&amp;L</td>\n      <td>$10</td>\n      <td>825 W. Fulton Mkt.</td>\n      <td>312-445-8977</td>\n      <td>publicanqualitymeats.com</td>\n    </tr>\n  </tbody>\n</table>\n</div>"
     },
     "metadata": {},
     "execution_count": 37
    }
   ],
   "source": [
    "df2 = pd.DataFrame({\n",
    "    'Rank': rank_list,\n",
    "    'Cafe': cafe_list,\n",
    "    'Menu': menu_list,\n",
    "    'Price': price_list,\n",
    "    'Address': addr_list,\n",
    "    'Telephone': tel_list,\n",
    "    'Home Page': hp_list\n",
    "})\n",
    "df2.head()"
   ]
  },
  {
   "source": [
    "## 맛집위치 구글맵스에 표기하기"
   ],
   "cell_type": "markdown",
   "metadata": {}
  },
  {
   "cell_type": "code",
   "execution_count": 57,
   "metadata": {},
   "outputs": [],
   "source": [
    "import numpy as np\n",
    "import folium\n",
    "import googlemaps"
   ]
  },
  {
   "cell_type": "code",
   "execution_count": 58,
   "metadata": {},
   "outputs": [],
   "source": [
    "key_fd = open('googlemapskey.txt', mode='r')\n",
    "gmaps_key = key_fd.read(100)\n",
    "key_fd.close()"
   ]
  },
  {
   "cell_type": "code",
   "execution_count": 59,
   "metadata": {},
   "outputs": [],
   "source": [
    "gmaps = googlemaps.Client(key=gmaps_key)"
   ]
  },
  {
   "cell_type": "code",
   "execution_count": 62,
   "metadata": {},
   "outputs": [
    {
     "output_type": "display_data",
     "data": {
      "text/plain": "HBox(children=(FloatProgress(value=0.0, max=50.0), HTML(value='')))",
      "application/vnd.jupyter.widget-view+json": {
       "version_major": 2,
       "version_minor": 0,
       "model_id": "f785bec784994b4d9dd177e768dd07c4"
      }
     },
     "metadata": {}
    },
    {
     "output_type": "stream",
     "name": "stdout",
     "text": [
      "\n"
     ]
    }
   ],
   "source": [
    "lat = []\n",
    "lng = []\n",
    "\n",
    "for n in tqdm_notebook(df2.index):\n",
    "    if df2['Address'][n].find(' ') != 0:\n",
    "        target_name = df2['Address'][n]+', '+'Chicago'\n",
    "        gmaps_output = gmaps.geocode(target_name)\n",
    "        location_output = gmaps_output[0].get('geometry')\n",
    "        lat.append(location_output['location']['lat'])\n",
    "        lng.append(location_output['location']['lng'])\n",
    "    else:\n",
    "        lat.append(np.nan)\n",
    "        lng.append(np.nan)"
   ]
  },
  {
   "cell_type": "code",
   "execution_count": 63,
   "metadata": {},
   "outputs": [
    {
     "output_type": "stream",
     "name": "stdout",
     "text": [
      "[41.8956049, 41.8846582, 41.8905226, 42.0583217, 41.8866036, 41.9002501, 41.8590541, 41.9102031, 41.9097558, 41.8345302, 41.9276207, nan, 41.9384419, 41.9451044, 41.930109, 41.89129000000001, 41.8678529, 41.8852691, 41.9080539, 41.91369539999999, 41.9537106, nan, 41.9794496, 41.9541563, nan, 42.156691, nan, 41.9652987, 41.90272179999999, 41.8893683, nan, 41.9105258, 41.8896188, 41.91504990000001, 41.9218521, 41.9797099, 41.9617122, 41.89296119999999, nan, 41.9047551, 41.7913185, 42.2518352, 41.9152875, 41.8863622, 41.8758102, 41.8960738, 41.89897850000001, 41.9105832, 41.8831061, 41.9431632]\n"
     ]
    }
   ],
   "source": [
    "print(lat)"
   ]
  },
  {
   "cell_type": "code",
   "execution_count": 64,
   "metadata": {},
   "outputs": [
    {
     "output_type": "execute_result",
     "data": {
      "text/plain": [
       "   Rank                    Cafe               Menu  Price  \\\n",
       "0     1             Old Oak Tap                BLT    $10   \n",
       "1     2               Au Cheval      Fried Bologna     $9   \n",
       "2     3                    Xoco  Woodland Mushroom  $9.50   \n",
       "3     4               Al’s Deli         Roast Beef  $9.40   \n",
       "4     5  Publican Quality Meats               PB&L    $10   \n",
       "\n",
       "                    Address     Telephone                  Home Page  \\\n",
       "0      2109 W. Chicago Ave.  773-772-0406           theoldoaktap.com   \n",
       "1       800 W. Randolph St.  312-929-4580        aucheval.tumblr.com   \n",
       "2          445 N. Clark St.  312-334-3688            rickbayless.com   \n",
       "3  914 Noyes St.,  Evanston  847-475-9400                alsdeli.net   \n",
       "4        825 W. Fulton Mkt.  312-445-8977   publicanqualitymeats.com   \n",
       "\n",
       "   Lattitude  Longitude  \n",
       "0  41.895605 -87.679961  \n",
       "1  41.884658 -87.647667  \n",
       "2  41.890523 -87.630783  \n",
       "3  42.058322 -87.683748  \n",
       "4  41.886604 -87.648536  "
      ],
      "text/html": "<div>\n<style scoped>\n    .dataframe tbody tr th:only-of-type {\n        vertical-align: middle;\n    }\n\n    .dataframe tbody tr th {\n        vertical-align: top;\n    }\n\n    .dataframe thead th {\n        text-align: right;\n    }\n</style>\n<table border=\"1\" class=\"dataframe\">\n  <thead>\n    <tr style=\"text-align: right;\">\n      <th></th>\n      <th>Rank</th>\n      <th>Cafe</th>\n      <th>Menu</th>\n      <th>Price</th>\n      <th>Address</th>\n      <th>Telephone</th>\n      <th>Home Page</th>\n      <th>Lattitude</th>\n      <th>Longitude</th>\n    </tr>\n  </thead>\n  <tbody>\n    <tr>\n      <th>0</th>\n      <td>1</td>\n      <td>Old Oak Tap</td>\n      <td>BLT</td>\n      <td>$10</td>\n      <td>2109 W. Chicago Ave.</td>\n      <td>773-772-0406</td>\n      <td>theoldoaktap.com</td>\n      <td>41.895605</td>\n      <td>-87.679961</td>\n    </tr>\n    <tr>\n      <th>1</th>\n      <td>2</td>\n      <td>Au Cheval</td>\n      <td>Fried Bologna</td>\n      <td>$9</td>\n      <td>800 W. Randolph St.</td>\n      <td>312-929-4580</td>\n      <td>aucheval.tumblr.com</td>\n      <td>41.884658</td>\n      <td>-87.647667</td>\n    </tr>\n    <tr>\n      <th>2</th>\n      <td>3</td>\n      <td>Xoco</td>\n      <td>Woodland Mushroom</td>\n      <td>$9.50</td>\n      <td>445 N. Clark St.</td>\n      <td>312-334-3688</td>\n      <td>rickbayless.com</td>\n      <td>41.890523</td>\n      <td>-87.630783</td>\n    </tr>\n    <tr>\n      <th>3</th>\n      <td>4</td>\n      <td>Al’s Deli</td>\n      <td>Roast Beef</td>\n      <td>$9.40</td>\n      <td>914 Noyes St.,  Evanston</td>\n      <td>847-475-9400</td>\n      <td>alsdeli.net</td>\n      <td>42.058322</td>\n      <td>-87.683748</td>\n    </tr>\n    <tr>\n      <th>4</th>\n      <td>5</td>\n      <td>Publican Quality Meats</td>\n      <td>PB&amp;L</td>\n      <td>$10</td>\n      <td>825 W. Fulton Mkt.</td>\n      <td>312-445-8977</td>\n      <td>publicanqualitymeats.com</td>\n      <td>41.886604</td>\n      <td>-87.648536</td>\n    </tr>\n  </tbody>\n</table>\n</div>"
     },
     "metadata": {},
     "execution_count": 64
    }
   ],
   "source": [
    "df2['Lattitude'] = lat\n",
    "df2['Longitude'] = lng\n",
    "df2.head()"
   ]
  },
  {
   "cell_type": "code",
   "execution_count": 65,
   "metadata": {},
   "outputs": [
    {
     "output_type": "execute_result",
     "data": {
      "text/plain": [
       "<folium.folium.Map at 0x1a9a81b71c0>"
      ],
      "text/html": "<div style=\"width:100%;\"><div style=\"position:relative;width:100%;height:0;padding-bottom:60%;\"><span style=\"color:#565656\">Make this Notebook Trusted to load map: File -> Trust Notebook</span><iframe src=\"about:blank\" style=\"position:absolute;width:100%;height:100%;left:0;top:0;border:none !important;\" data-html=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 onload=\"this.contentDocument.open();this.contentDocument.write(atob(this.getAttribute('data-html')));this.contentDocument.close();\" allowfullscreen webkitallowfullscreen mozallowfullscreen></iframe></div></div>"
     },
     "metadata": {},
     "execution_count": 65
    }
   ],
   "source": [
    "mapping = folium.Map(location=[df2['Lattitude'].mean(), \n",
    "                            df2['Longitude'].mean()], zoom_start=11)\n",
    "folium.Marker([df2['Lattitude'].mean(), df2['Longitude'].mean()], \n",
    "                                      popup='center').add_to(mapping)\n",
    "mapping"
   ]
  },
  {
   "cell_type": "code",
   "execution_count": 66,
   "metadata": {},
   "outputs": [
    {
     "output_type": "execute_result",
     "data": {
      "text/plain": [
       "<folium.folium.Map at 0x1a9a81af700>"
      ],
      "text/html": "<div style=\"width:100%;\"><div style=\"position:relative;width:100%;height:0;padding-bottom:60%;\"><span style=\"color:#565656\">Make this Notebook Trusted to load map: File -> Trust Notebook</span><iframe src=\"about:blank\" style=\"position:absolute;width:100%;height:100%;left:0;top:0;border:none !important;\" data-html=PCFET0NUWVBFIGh0bWw+CjxoZWFkPiAgICAKICAgIDxtZXRhIGh0dHAtZXF1aXY9ImNvbnRlbnQtdHlwZSIgY29udGVudD0idGV4dC9odG1sOyBjaGFyc2V0PVVURi04IiAvPgogICAgCiAgICAgICAgPHNjcmlwdD4KICAgICAgICAgICAgTF9OT19UT1VDSCA9IGZhbHNlOwogICAgICAgICAgICBMX0RJU0FCTEVfM0QgPSBmYWxzZTsKICAgICAgICA8L3NjcmlwdD4KICAgIAogICAgPHNjcmlwdCBzcmM9Imh0dHBzOi8vY2RuLmpzZGVsaXZyLm5ldC9ucG0vbGVhZmxldEAxLjYuMC9kaXN0L2xlYWZsZXQuanMiPjwvc2NyaXB0PgogICAgPHNjcmlwdCBzcmM9Imh0dHBzOi8vY29kZS5qcXVlcnkuY29tL2pxdWVyeS0xLjEyLjQubWluLmpzIj48L3NjcmlwdD4KICAgIDxzY3JpcHQgc3JjPSJodHRwczovL21heGNkbi5ib290c3RyYXBjZG4uY29tL2Jvb3RzdHJhcC8zLjIuMC9qcy9ib290c3RyYXAubWluLmpzIj48L3NjcmlwdD4KICAgIDxzY3JpcHQgc3JjPSJodHRwczovL2NkbmpzLmNsb3VkZmxhcmUuY29tL2FqYXgvbGlicy9MZWFmbGV0LmF3ZXNvbWUtbWFya2Vycy8yLjAuMi9sZWFmbGV0LmF3ZXNvbWUtbWFya2Vycy5qcyI+PC9zY3JpcHQ+CiAgICA8bGluayByZWw9InN0eWxlc2hlZXQiIGhyZWY9Imh0dHBzOi8vY2RuLmpzZGVsaXZyLm5ldC9ucG0vbGVhZmxldEAxLjYuMC9kaXN0L2xlYWZsZXQuY3NzIi8+CiAgICA8bGluayByZWw9InN0eWxlc2hlZXQiIGhyZWY9Imh0dHBzOi8vbWF4Y2RuLmJvb3RzdHJhcGNkbi5jb20vYm9vdHN0cmFwLzMuMi4wL2Nzcy9ib290c3RyYXAubWluLmNzcyIvPgogICAgPGxpbmsgcmVsPSJzdHlsZXNoZWV0IiBocmVmPSJodHRwczovL21heGNkbi5ib290c3RyYXBjZG4uY29tL2Jvb3RzdHJhcC8zLjIuMC9jc3MvYm9vdHN0cmFwLXRoZW1lLm1pbi5jc3MiLz4KICAgIDxsaW5rIHJlbD0ic3R5bGVzaGVldCIgaHJlZj0iaHR0cHM6Ly9tYXhjZG4uYm9vdHN0cmFwY2RuLmNvbS9mb250LWF3ZXNvbWUvNC42LjMvY3NzL2ZvbnQtYXdlc29tZS5taW4uY3NzIi8+CiAgICA8bGluayByZWw9InN0eWxlc2hlZXQiIGhyZWY9Imh0dHBzOi8vY2RuanMuY2xvdWRmbGFyZS5jb20vYWpheC9saWJzL0xlYWZsZXQuYXdlc29tZS1tYXJrZXJzLzIuMC4yL2xlYWZsZXQuYXdlc29tZS1tYXJrZXJzLmNzcyIvPgogICAgPGxpbmsgcmVsPSJzdHlsZXNoZWV0IiBocmVmPSJodHRwczovL3Jhd2Nkbi5naXRoYWNrLmNvbS9weXRob24tdmlzdWFsaXphdGlvbi9mb2xpdW0vbWFzdGVyL2ZvbGl1bS90ZW1wbGF0ZXMvbGVhZmxldC5hd2Vzb21lLnJvdGF0ZS5jc3MiLz4KICAgIDxzdHlsZT5odG1sLCBib2R5IHt3aWR0aDogMTAwJTtoZWlnaHQ6IDEwMCU7bWFyZ2luOiAwO3BhZGRpbmc6IDA7fTwvc3R5bGU+CiAgICA8c3R5bGU+I21hcCB7cG9zaXRpb246YWJzb2x1dGU7dG9wOjA7Ym90dG9tOjA7cmlnaHQ6MDtsZWZ0OjA7fTwvc3R5bGU+CiAgICAKICAgICAgICAgICAgPG1ldGEgbmFtZT0idmlld3BvcnQiIGNvbnRlbnQ9IndpZHRoPWRldmljZS13aWR0aCwKICAgICAgICAgICAgICAgIGluaXRpYWwtc2NhbGU9MS4wLCBtYXhpbXVtLXNjYWxlPTEuMCwgdXNlci1zY2FsYWJsZT1ubyIgLz4KICAgICAgICAgICAgPHN0eWxlPgogICAgICAgICAgICAgICAgI21hcF8zNzg2M2IyMWJhM2U0MjdhYjVmZGFkYzFmYTBiODNiZSB7CiAgICAgICAgICAgICAgICAgICAgcG9zaXRpb246IHJlbGF0aXZlOwogICAgICAgICAgICAgICAgICAgIHdpZHRoOiAxMDAuMCU7CiAgICAgICAgICAgICAgICAgICAgaGVpZ2h0OiAxMDAuMCU7CiAgICAgICAgICAgICAgICAgICAgbGVmdDogMC4wJTsKICAgICAgICAgICAgICAgICAgICB0b3A6IDAuMCU7CiAgICAgICAgICAgICAgICB9CiAgICAgICAgICAgIDwvc3R5bGU+CiAgICAgICAgCjwvaGVhZD4KPGJvZHk+ICAgIAogICAgCiAgICAgICAgICAgIDxkaXYgY2xhc3M9ImZvbGl1bS1tYXAiIGlkPSJtYXBfMzc4NjNiMjFiYTNlNDI3YWI1ZmRhZGMxZmEwYjgzYmUiID48L2Rpdj4KICAgICAgICAKPC9ib2R5Pgo8c2NyaXB0PiAgICAKICAgIAogICAgICAgICAgICB2YXIgbWFwXzM3ODYzYjIxYmEzZTQyN2FiNWZkYWRjMWZhMGI4M2JlID0gTC5tYXAoCiAgICAgICAgICAgICAgICAibWFwXzM3ODYzYjIxYmEzZTQyN2FiNWZkYWRjMWZhMGI4M2JlIiwKICAgICAgICAgICAgICAgIHsKICAgICAgICAgICAgICAgICAgICBjZW50ZXI6IFs0MS45MjQyNTA5Mzg2MzYzNywgLTg3LjY4MDk4NDk2MzYzNjMzXSwKICAgICAgICAgICAgICAgICAgICBjcnM6IEwuQ1JTLkVQU0czODU3LAogICAgICAgICAgICAgICAgICAgIHpvb206IDExLAogICAgICAgICAgICAgICAgICAgIHpvb21Db250cm9sOiB0cnVlLAogICAgICAgICAgICAgICAgICAgIHByZWZlckNhbnZhczogZmFsc2UsCiAgICAgICAgICAgICAgICB9CiAgICAgICAgICAgICk7CgogICAgICAgICAgICAKCiAgICAgICAgCiAgICAKICAgICAgICAgICAgdmFyIHRpbGVfbGF5ZXJfOGI4NDIzMzIyNTQyNDZlZmI1MjZjNzY5ZWVlY2Q3ZmIgPSBMLnRpbGVMYXllcigKICAgICAgICAgICAgICAgICJodHRwczovL3tzfS50aWxlLm9wZW5zdHJlZXRtYXAub3JnL3t6fS97eH0ve3l9LnBuZyIsCiAgICAgICAgICAgICAgICB7ImF0dHJpYnV0aW9uIjogIkRhdGEgYnkgXHUwMDI2Y29weTsgXHUwMDNjYSBocmVmPVwiaHR0cDovL29wZW5zdHJlZXRtYXAub3JnXCJcdTAwM2VPcGVuU3RyZWV0TWFwXHUwMDNjL2FcdTAwM2UsIHVuZGVyIFx1MDAzY2EgaHJlZj1cImh0dHA6Ly93d3cub3BlbnN0cmVldG1hcC5vcmcvY29weXJpZ2h0XCJcdTAwM2VPRGJMXHUwMDNjL2FcdTAwM2UuIiwgImRldGVjdFJldGluYSI6IGZhbHNlLCAibWF4TmF0aXZlWm9vbSI6IDE4LCAibWF4Wm9vbSI6IDE4LCAibWluWm9vbSI6IDAsICJub1dyYXAiOiBmYWxzZSwgIm9wYWNpdHkiOiAxLCAic3ViZG9tYWlucyI6ICJhYmMiLCAidG1zIjogZmFsc2V9CiAgICAgICAgICAgICkuYWRkVG8obWFwXzM3ODYzYjIxYmEzZTQyN2FiNWZkYWRjMWZhMGI4M2JlKTsKICAgICAgICAKICAgIAogICAgICAgICAgICB2YXIgbWFya2VyXzA4NjViM2UxODk0MTQyZTY4YmI5MWNhZTllMWRhMWI4ID0gTC5tYXJrZXIoCiAgICAgICAgICAgICAgICBbNDEuODk1NjA0OSwgLTg3LjY3OTk2MTQ5OTk5OTk5XSwKICAgICAgICAgICAgICAgIHt9CiAgICAgICAgICAgICkuYWRkVG8obWFwXzM3ODYzYjIxYmEzZTQyN2FiNWZkYWRjMWZhMGI4M2JlKTsKICAgICAgICAKICAgIAogICAgICAgIHZhciBwb3B1cF83YmFjNDNhZjgwYjg0YjhjYmJhYmNlMzM4Y2U1NmY4ZiA9IEwucG9wdXAoeyJtYXhXaWR0aCI6ICIxMDAlIn0pOwoKICAgICAgICAKICAgICAgICAgICAgdmFyIGh0bWxfMTgwNzFiM2QzNDc3NDIxNDkwNDQyYWJiYmVjMmRlOTAgPSAkKGA8ZGl2IGlkPSJodG1sXzE4MDcxYjNkMzQ3NzQyMTQ5MDQ0MmFiYmJlYzJkZTkwIiBzdHlsZT0id2lkdGg6IDEwMC4wJTsgaGVpZ2h0OiAxMDAuMCU7Ij5PbGQgT2FrIFRhcDwvZGl2PmApWzBdOwogICAgICAgICAgICBwb3B1cF83YmFjNDNhZjgwYjg0YjhjYmJhYmNlMzM4Y2U1NmY4Zi5zZXRDb250ZW50KGh0bWxfMTgwNzFiM2QzNDc3NDIxNDkwNDQyYWJiYmVjMmRlOTApOwogICAgICAgIAoKICAgICAgICBtYXJrZXJfMDg2NWIzZTE4OTQxNDJlNjhiYjkxY2FlOWUxZGExYjguYmluZFBvcHVwKHBvcHVwXzdiYWM0M2FmODBiODRiOGNiYmFiY2UzMzhjZTU2ZjhmKQogICAgICAgIDsKCiAgICAgICAgCiAgICAKICAgIAogICAgICAgICAgICB2YXIgbWFya2VyXzhiNWVhNmVkNjg0ODRmMDM5N2U2NzBmNjhlMDliZjE1ID0gTC5tYXJrZXIoCiAgICAgICAgICAgICAgICBbNDEuODg0NjU4MiwgLTg3LjY0NzY2NjhdLAogICAgICAgICAgICAgICAge30KICAgICAgICAgICAgKS5hZGRUbyhtYXBfMzc4NjNiMjFiYTNlNDI3YWI1ZmRhZGMxZmEwYjgzYmUpOwogICAgICAgIAogICAgCiAgICAgICAgdmFyIHBvcHVwXzQyZDM1ZjIyNjdlNjQxOTNhNmQwN2RmZDUyOGNmMTBkID0gTC5wb3B1cCh7Im1heFdpZHRoIjogIjEwMCUifSk7CgogICAgICAgIAogICAgICAgICAgICB2YXIgaHRtbF9kZDNlNTI0ZDdkOTM0MDJmOTczMTZjODBmMDAyMWJiOCA9ICQoYDxkaXYgaWQ9Imh0bWxfZGQzZTUyNGQ3ZDkzNDAyZjk3MzE2YzgwZjAwMjFiYjgiIHN0eWxlPSJ3aWR0aDogMTAwLjAlOyBoZWlnaHQ6IDEwMC4wJTsiPkF1IENoZXZhbDwvZGl2PmApWzBdOwogICAgICAgICAgICBwb3B1cF80MmQzNWYyMjY3ZTY0MTkzYTZkMDdkZmQ1MjhjZjEwZC5zZXRDb250ZW50KGh0bWxfZGQzZTUyNGQ3ZDkzNDAyZjk3MzE2YzgwZjAwMjFiYjgpOwogICAgICAgIAoKICAgICAgICBtYXJrZXJfOGI1ZWE2ZWQ2ODQ4NGYwMzk3ZTY3MGY2OGUwOWJmMTUuYmluZFBvcHVwKHBvcHVwXzQyZDM1ZjIyNjdlNjQxOTNhNmQwN2RmZDUyOGNmMTBkKQogICAgICAgIDsKCiAgICAgICAgCiAgICAKICAgIAogICAgICAgICAgICB2YXIgbWFya2VyXzczYWFmNmZiODU2ZjQxMWQ5OGVhYjg3NTdkMGJiNjMyID0gTC5tYXJrZXIoCiAgICAgICAgICAgICAgICBbNDEuODkwNTIyNiwgLTg3LjYzMDc4MzRdLAogICAgICAgICAgICAgICAge30KICAgICAgICAgICAgKS5hZGRUbyhtYXBfMzc4NjNiMjFiYTNlNDI3YWI1ZmRhZGMxZmEwYjgzYmUpOwogICAgICAgIAogICAgCiAgICAgICAgdmFyIHBvcHVwX2FlMGE4MjE5ZGMwNjQ1Yjk4ZjE0MWI4NDY5MGQ5Y2MwID0gTC5wb3B1cCh7Im1heFdpZHRoIjogIjEwMCUifSk7CgogICAgICAgIAogICAgICAgICAgICB2YXIgaHRtbF9jMWZiMzlhYTg5NDA0YTZhODZiNWQwNjJmYTA2ZmIxZiA9ICQoYDxkaXYgaWQ9Imh0bWxfYzFmYjM5YWE4OTQwNGE2YTg2YjVkMDYyZmEwNmZiMWYiIHN0eWxlPSJ3aWR0aDogMTAwLjAlOyBoZWlnaHQ6IDEwMC4wJTsiPlhvY288L2Rpdj5gKVswXTsKICAgICAgICAgICAgcG9wdXBfYWUwYTgyMTlkYzA2NDViOThmMTQxYjg0NjkwZDljYzAuc2V0Q29udGVudChodG1sX2MxZmIzOWFhODk0MDRhNmE4NmI1ZDA2MmZhMDZmYjFmKTsKICAgICAgICAKCiAgICAgICAgbWFya2VyXzczYWFmNmZiODU2ZjQxMWQ5OGVhYjg3NTdkMGJiNjMyLmJpbmRQb3B1cChwb3B1cF9hZTBhODIxOWRjMDY0NWI5OGYxNDFiODQ2OTBkOWNjMCkKICAgICAgICA7CgogICAgICAgIAogICAgCiAgICAKICAgICAgICAgICAgdmFyIG1hcmtlcl9hOTVkNjcxZmY4ODM0NWVmODA1Zjg1YmVkNjI3NjYyMiA9IEwubWFya2VyKAogICAgICAgICAgICAgICAgWzQyLjA1ODMyMTcsIC04Ny42ODM3NDc5XSwKICAgICAgICAgICAgICAgIHt9CiAgICAgICAgICAgICkuYWRkVG8obWFwXzM3ODYzYjIxYmEzZTQyN2FiNWZkYWRjMWZhMGI4M2JlKTsKICAgICAgICAKICAgIAogICAgICAgIHZhciBwb3B1cF83MDcyYTk4NDNlYzc0YmU4OGYzMGI5MjlhZGI3Y2YxZCA9IEwucG9wdXAoeyJtYXhXaWR0aCI6ICIxMDAlIn0pOwoKICAgICAgICAKICAgICAgICAgICAgdmFyIGh0bWxfZWRiZmY1ZTM2NTg2NGI1NTk3YzNmMDJlNWI5NzU4YjQgPSAkKGA8ZGl2IGlkPSJodG1sX2VkYmZmNWUzNjU4NjRiNTU5N2MzZjAyZTViOTc1OGI0IiBzdHlsZT0id2lkdGg6IDEwMC4wJTsgaGVpZ2h0OiAxMDAuMCU7Ij5BbOKAmXMgRGVsaTwvZGl2PmApWzBdOwogICAgICAgICAgICBwb3B1cF83MDcyYTk4NDNlYzc0YmU4OGYzMGI5MjlhZGI3Y2YxZC5zZXRDb250ZW50KGh0bWxfZWRiZmY1ZTM2NTg2NGI1NTk3YzNmMDJlNWI5NzU4YjQpOwogICAgICAgIAoKICAgICAgICBtYXJrZXJfYTk1ZDY3MWZmODgzNDVlZjgwNWY4NWJlZDYyNzY2MjIuYmluZFBvcHVwKHBvcHVwXzcwNzJhOTg0M2VjNzRiZTg4ZjMwYjkyOWFkYjdjZjFkKQogICAgICAgIDsKCiAgICAgICAgCiAgICAKICAgIAogICAgICAgICAgICB2YXIgbWFya2VyX2E1MGU2NzA5NTAyMTQ1ODk4OGZmYzU2MTAxODk1NGU0ID0gTC5tYXJrZXIoCiAgICAgICAgICAgICAgICBbNDEuODg2NjAzNiwgLTg3LjY0ODUzNjQ5OTk5OTk5XSwKICAgICAgICAgICAgICAgIHt9CiAgICAgICAgICAgICkuYWRkVG8obWFwXzM3ODYzYjIxYmEzZTQyN2FiNWZkYWRjMWZhMGI4M2JlKTsKICAgICAgICAKICAgIAogICAgICAgIHZhciBwb3B1cF9mZTA5NGE2OWVlZTY0MTIwYjAzNjcwOGUwNmZhNWZhNiA9IEwucG9wdXAoeyJtYXhXaWR0aCI6ICIxMDAlIn0pOwoKICAgICAgICAKICAgICAgICAgICAgdmFyIGh0bWxfOWQwN2Q0NmRjNjRmNDdhZWI4MTg1MjUzOTE3ZmY5M2IgPSAkKGA8ZGl2IGlkPSJodG1sXzlkMDdkNDZkYzY0ZjQ3YWViODE4NTI1MzkxN2ZmOTNiIiBzdHlsZT0id2lkdGg6IDEwMC4wJTsgaGVpZ2h0OiAxMDAuMCU7Ij5QdWJsaWNhbiBRdWFsaXR5IE1lYXRzPC9kaXY+YClbMF07CiAgICAgICAgICAgIHBvcHVwX2ZlMDk0YTY5ZWVlNjQxMjBiMDM2NzA4ZTA2ZmE1ZmE2LnNldENvbnRlbnQoaHRtbF85ZDA3ZDQ2ZGM2NGY0N2FlYjgxODUyNTM5MTdmZjkzYik7CiAgICAgICAgCgogICAgICAgIG1hcmtlcl9hNTBlNjcwOTUwMjE0NTg5ODhmZmM1NjEwMTg5NTRlNC5iaW5kUG9wdXAocG9wdXBfZmUwOTRhNjllZWU2NDEyMGIwMzY3MDhlMDZmYTVmYTYpCiAgICAgICAgOwoKICAgICAgICAKICAgIAogICAgCiAgICAgICAgICAgIHZhciBtYXJrZXJfNzA3ZTExYzQ5ZmY2NDQ5Mjk5Yzg1YTQyZWMzMGExMjYgPSBMLm1hcmtlcigKICAgICAgICAgICAgICAgIFs0MS45MDAyNTAxLCAtODcuNjI1MDc4MV0sCiAgICAgICAgICAgICAgICB7fQogICAgICAgICAgICApLmFkZFRvKG1hcF8zNzg2M2IyMWJhM2U0MjdhYjVmZGFkYzFmYTBiODNiZSk7CiAgICAgICAgCiAgICAKICAgICAgICB2YXIgcG9wdXBfZTg3MjUwOTgxMzUwNDQyNTg1MTgxY2Q2MGE0YmM2YzQgPSBMLnBvcHVwKHsibWF4V2lkdGgiOiAiMTAwJSJ9KTsKCiAgICAgICAgCiAgICAgICAgICAgIHZhciBodG1sX2ZhMDQ0MjFmODA3ZTRlYmM4ODU0ODdkODUwZTBhOGQwID0gJChgPGRpdiBpZD0iaHRtbF9mYTA0NDIxZjgwN2U0ZWJjODg1NDg3ZDg1MGUwYThkMCIgc3R5bGU9IndpZHRoOiAxMDAuMCU7IGhlaWdodDogMTAwLjAlOyI+SGVuZHJpY2t4IEJlbGdpYW4gQnJlYWQgQ3JhZnRlcjwvZGl2PmApWzBdOwogICAgICAgICAgICBwb3B1cF9lODcyNTA5ODEzNTA0NDI1ODUxODFjZDYwYTRiYzZjNC5zZXRDb250ZW50KGh0bWxfZmEwNDQyMWY4MDdlNGViYzg4NTQ4N2Q4NTBlMGE4ZDApOwogICAgICAgIAoKICAgICAgICBtYXJrZXJfNzA3ZTExYzQ5ZmY2NDQ5Mjk5Yzg1YTQyZWMzMGExMjYuYmluZFBvcHVwKHBvcHVwX2U4NzI1MDk4MTM1MDQ0MjU4NTE4MWNkNjBhNGJjNmM0KQogICAgICAgIDsKCiAgICAgICAgCiAgICAKICAgIAogICAgICAgICAgICB2YXIgbWFya2VyX2YxNGU4YWNlYTZhNzRlZjQ4ZmRhOGFkMGFhYTYzMWI3ID0gTC5tYXJrZXIoCiAgICAgICAgICAgICAgICBbNDEuODU5MDU0MSwgLTg3LjYyNTIwMDddLAogICAgICAgICAgICAgICAge30KICAgICAgICAgICAgKS5hZGRUbyhtYXBfMzc4NjNiMjFiYTNlNDI3YWI1ZmRhZGMxZmEwYjgzYmUpOwogICAgICAgIAogICAgCiAgICAgICAgdmFyIHBvcHVwXzNlODExYjA5YTU4MDRiMzg4ZWJjMjhlYTQxZTJlMDViID0gTC5wb3B1cCh7Im1heFdpZHRoIjogIjEwMCUifSk7CgogICAgICAgIAogICAgICAgICAgICB2YXIgaHRtbF9kZGU1NzZlY2E3NTg0Y2Y0YjY5NTg0NDI0MWI3YTNmMyA9ICQoYDxkaXYgaWQ9Imh0bWxfZGRlNTc2ZWNhNzU4NGNmNGI2OTU4NDQyNDFiN2EzZjMiIHN0eWxlPSJ3aWR0aDogMTAwLjAlOyBoZWlnaHQ6IDEwMC4wJTsiPkFjYWRpYTwvZGl2PmApWzBdOwogICAgICAgICAgICBwb3B1cF8zZTgxMWIwOWE1ODA0YjM4OGViYzI4ZWE0MWUyZTA1Yi5zZXRDb250ZW50KGh0bWxfZGRlNTc2ZWNhNzU4NGNmNGI2OTU4NDQyNDFiN2EzZjMpOwogICAgICAgIAoKICAgICAgICBtYXJrZXJfZjE0ZThhY2VhNmE3NGVmNDhmZGE4YWQwYWFhNjMxYjcuYmluZFBvcHVwKHBvcHVwXzNlODExYjA5YTU4MDRiMzg4ZWJjMjhlYTQxZTJlMDViKQogICAgICAgIDsKCiAgICAgICAgCiAgICAKICAgIAogICAgICAgICAgICB2YXIgbWFya2VyXzhhODNlYjRkNjkzNTQwNTY4YTgwYjQxZDYzYjc5Y2Y3ID0gTC5tYXJrZXIoCiAgICAgICAgICAgICAgICBbNDEuOTEwMjAzMSwgLTg3LjY4Mjg3NTI5OTk5OTk5XSwKICAgICAgICAgICAgICAgIHt9CiAgICAgICAgICAgICkuYWRkVG8obWFwXzM3ODYzYjIxYmEzZTQyN2FiNWZkYWRjMWZhMGI4M2JlKTsKICAgICAgICAKICAgIAogICAgICAgIHZhciBwb3B1cF9hZTAwOTY2NTE2ZDc0Y2E1OTkyZmFlMWM1YWE1NjA0ZCA9IEwucG9wdXAoeyJtYXhXaWR0aCI6ICIxMDAlIn0pOwoKICAgICAgICAKICAgICAgICAgICAgdmFyIGh0bWxfNzkyMTA1M2MwMTdjNGViZDk5Mjc1NTllNDc3ZDRkMjYgPSAkKGA8ZGl2IGlkPSJodG1sXzc5MjEwNTNjMDE3YzRlYmQ5OTI3NTU5ZTQ3N2Q0ZDI2IiBzdHlsZT0id2lkdGg6IDEwMC4wJTsgaGVpZ2h0OiAxMDAuMCU7Ij5CaXJjaHdvb2QgS2l0Y2hlbjwvZGl2PmApWzBdOwogICAgICAgICAgICBwb3B1cF9hZTAwOTY2NTE2ZDc0Y2E1OTkyZmFlMWM1YWE1NjA0ZC5zZXRDb250ZW50KGh0bWxfNzkyMTA1M2MwMTdjNGViZDk5Mjc1NTllNDc3ZDRkMjYpOwogICAgICAgIAoKICAgICAgICBtYXJrZXJfOGE4M2ViNGQ2OTM1NDA1NjhhODBiNDFkNjNiNzljZjcuYmluZFBvcHVwKHBvcHVwX2FlMDA5NjY1MTZkNzRjYTU5OTJmYWUxYzVhYTU2MDRkKQogICAgICAgIDsKCiAgICAgICAgCiAgICAKICAgIAogICAgICAgICAgICB2YXIgbWFya2VyXzM5ZDRhN2YxYzU2YTQ1ZDFiM2UwNDMxY2FiN2FiODYzID0gTC5tYXJrZXIoCiAgICAgICAgICAgICAgICBbNDEuOTA5NzU1OCwgLTg3LjcxNzY3MjddLAogICAgICAgICAgICAgICAge30KICAgICAgICAgICAgKS5hZGRUbyhtYXBfMzc4NjNiMjFiYTNlNDI3YWI1ZmRhZGMxZmEwYjgzYmUpOwogICAgICAgIAogICAgCiAgICAgICAgdmFyIHBvcHVwX2YyNjA5MDAzM2JlMDRmM2Y4YWI4N2M3MDliYjUwY2E2ID0gTC5wb3B1cCh7Im1heFdpZHRoIjogIjEwMCUifSk7CgogICAgICAgIAogICAgICAgICAgICB2YXIgaHRtbF9hNTJkMWVhZDJhNTk0NjM1YWFhNzYxMDA5ODQwYWE3MCA9ICQoYDxkaXYgaWQ9Imh0bWxfYTUyZDFlYWQyYTU5NDYzNWFhYTc2MTAwOTg0MGFhNzAiIHN0eWxlPSJ3aWR0aDogMTAwLjAlOyBoZWlnaHQ6IDEwMC4wJTsiPkNlbWl0YXMgUHVlYmxhPC9kaXY+YClbMF07CiAgICAgICAgICAgIHBvcHVwX2YyNjA5MDAzM2JlMDRmM2Y4YWI4N2M3MDliYjUwY2E2LnNldENvbnRlbnQoaHRtbF9hNTJkMWVhZDJhNTk0NjM1YWFhNzYxMDA5ODQwYWE3MCk7CiAgICAgICAgCgogICAgICAgIG1hcmtlcl8zOWQ0YTdmMWM1NmE0NWQxYjNlMDQzMWNhYjdhYjg2My5iaW5kUG9wdXAocG9wdXBfZjI2MDkwMDMzYmUwNGYzZjhhYjg3YzcwOWJiNTBjYTYpCiAgICAgICAgOwoKICAgICAgICAKICAgIAogICAgCiAgICAgICAgICAgIHZhciBtYXJrZXJfZWU3NDc5MGJiYjMwNDNiYzgxNTNhNTliNGY4YzkyZWQgPSBMLm1hcmtlcigKICAgICAgICAgICAgICAgIFs0MS44MzQ1MzAyLCAtODcuNjQ1NjQ5Ml0sCiAgICAgICAgICAgICAgICB7fQogICAgICAgICAgICApLmFkZFRvKG1hcF8zNzg2M2IyMWJhM2U0MjdhYjVmZGFkYzFmYTBiODNiZSk7CiAgICAgICAgCiAgICAKICAgICAgICB2YXIgcG9wdXBfODViZmZiYjFlOGM0NGNhZDhhZDU5Nzk0YzlmNzFiOGEgPSBMLnBvcHVwKHsibWF4V2lkdGgiOiAiMTAwJSJ9KTsKCiAgICAgICAgCiAgICAgICAgICAgIHZhciBodG1sXzlhM2FkM2E4NjlkZDQ3NmZiNWFjY2Y1NGY4MDkwZmQwID0gJChgPGRpdiBpZD0iaHRtbF85YTNhZDNhODY5ZGQ0NzZmYjVhY2NmNTRmODA5MGZkMCIgc3R5bGU9IndpZHRoOiAxMDAuMCU7IGhlaWdodDogMTAwLjAlOyI+TmFuYTwvZGl2PmApWzBdOwogICAgICAgICAgICBwb3B1cF84NWJmZmJiMWU4YzQ0Y2FkOGFkNTk3OTRjOWY3MWI4YS5zZXRDb250ZW50KGh0bWxfOWEzYWQzYTg2OWRkNDc2ZmI1YWNjZjU0ZjgwOTBmZDApOwogICAgICAgIAoKICAgICAgICBtYXJrZXJfZWU3NDc5MGJiYjMwNDNiYzgxNTNhNTliNGY4YzkyZWQuYmluZFBvcHVwKHBvcHVwXzg1YmZmYmIxZThjNDRjYWQ4YWQ1OTc5NGM5ZjcxYjhhKQogICAgICAgIDsKCiAgICAgICAgCiAgICAKICAgIAogICAgICAgICAgICB2YXIgbWFya2VyXzAyODMzMTc2MzQ4YjRmMWU5OWNjZjRhOTdjYjhiMjlkID0gTC5tYXJrZXIoCiAgICAgICAgICAgICAgICBbNDEuOTI3NjIwNywgLTg3LjcwNjc5Ml0sCiAgICAgICAgICAgICAgICB7fQogICAgICAgICAgICApLmFkZFRvKG1hcF8zNzg2M2IyMWJhM2U0MjdhYjVmZGFkYzFmYTBiODNiZSk7CiAgICAgICAgCiAgICAKICAgICAgICB2YXIgcG9wdXBfNjlhYjViNWI0MDc0NGVmNzhjOWU0MmM3YzUxY2NiOWYgPSBMLnBvcHVwKHsibWF4V2lkdGgiOiAiMTAwJSJ9KTsKCiAgICAgICAgCiAgICAgICAgICAgIHZhciBodG1sXzc3MzllODc0NDljZjQ2Njk5NDViYjY4NjIxYTJiNzI0ID0gJChgPGRpdiBpZD0iaHRtbF83NzM5ZTg3NDQ5Y2Y0NjY5OTQ1YmI2ODYyMWEyYjcyNCIgc3R5bGU9IndpZHRoOiAxMDAuMCU7IGhlaWdodDogMTAwLjAlOyI+THVsYSBDYWZlPC9kaXY+YClbMF07CiAgICAgICAgICAgIHBvcHVwXzY5YWI1YjViNDA3NDRlZjc4YzllNDJjN2M1MWNjYjlmLnNldENvbnRlbnQoaHRtbF83NzM5ZTg3NDQ5Y2Y0NjY5OTQ1YmI2ODYyMWEyYjcyNCk7CiAgICAgICAgCgogICAgICAgIG1hcmtlcl8wMjgzMzE3NjM0OGI0ZjFlOTljY2Y0YTk3Y2I4YjI5ZC5iaW5kUG9wdXAocG9wdXBfNjlhYjViNWI0MDc0NGVmNzhjOWU0MmM3YzUxY2NiOWYpCiAgICAgICAgOwoKICAgICAgICAKICAgIAogICAgCiAgICAgICAgICAgIHZhciBtYXJrZXJfMzU3OWYzZjg3NTJkNGNiOGIzM2Y5Y2UyZGU0NmFjMWEgPSBMLm1hcmtlcigKICAgICAgICAgICAgICAgIFs0MS45Mzg0NDE5LCAtODcuNjQ0NjQzNjk5OTk5OTldLAogICAgICAgICAgICAgICAge30KICAgICAgICAgICAgKS5hZGRUbyhtYXBfMzc4NjNiMjFiYTNlNDI3YWI1ZmRhZGMxZmEwYjgzYmUpOwogICAgICAgIAogICAgCiAgICAgICAgdmFyIHBvcHVwX2E0NTA5MTBhZDAzNzQ4MDFiZDE1YTc2MmIwMzE2ZDQxID0gTC5wb3B1cCh7Im1heFdpZHRoIjogIjEwMCUifSk7CgogICAgICAgIAogICAgICAgICAgICB2YXIgaHRtbF82NTEwMzQ4ZGRiMjQ0OGQzODA4NTY1Nzk3MmE3NjkxOSA9ICQoYDxkaXYgaWQ9Imh0bWxfNjUxMDM0OGRkYjI0NDhkMzgwODU2NTc5NzJhNzY5MTkiIHN0eWxlPSJ3aWR0aDogMTAwLjAlOyBoZWlnaHQ6IDEwMC4wJTsiPkZyb2cgbiBTbmFpbDwvZGl2PmApWzBdOwogICAgICAgICAgICBwb3B1cF9hNDUwOTEwYWQwMzc0ODAxYmQxNWE3NjJiMDMxNmQ0MS5zZXRDb250ZW50KGh0bWxfNjUxMDM0OGRkYjI0NDhkMzgwODU2NTc5NzJhNzY5MTkpOwogICAgICAgIAoKICAgICAgICBtYXJrZXJfMzU3OWYzZjg3NTJkNGNiOGIzM2Y5Y2UyZGU0NmFjMWEuYmluZFBvcHVwKHBvcHVwX2E0NTA5MTBhZDAzNzQ4MDFiZDE1YTc2MmIwMzE2ZDQxKQogICAgICAgIDsKCiAgICAgICAgCiAgICAKICAgIAogICAgICAgICAgICB2YXIgbWFya2VyX2E1NWZmMjhlNzc1NDRkM2FiNDY2ZmM5NjBiMzAwZGRhID0gTC5tYXJrZXIoCiAgICAgICAgICAgICAgICBbNDEuOTQ1MTA0NCwgLTg3LjY2MzY4MTJdLAogICAgICAgICAgICAgICAge30KICAgICAgICAgICAgKS5hZGRUbyhtYXBfMzc4NjNiMjFiYTNlNDI3YWI1ZmRhZGMxZmEwYjgzYmUpOwogICAgICAgIAogICAgCiAgICAgICAgdmFyIHBvcHVwXzM1MDY4MDk5MWZlYTRiM2RiMDAzYjNkYzM1NTVjZTlkID0gTC5wb3B1cCh7Im1heFdpZHRoIjogIjEwMCUifSk7CgogICAgICAgIAogICAgICAgICAgICB2YXIgaHRtbF9lYzUyZjM1ODAxOTk0ZjMwOTM0YmNlZGU3N2E2ZjQ4ZiA9ICQoYDxkaXYgaWQ9Imh0bWxfZWM1MmYzNTgwMTk5NGYzMDkzNGJjZWRlNzdhNmY0OGYiIHN0eWxlPSJ3aWR0aDogMTAwLjAlOyBoZWlnaHQ6IDEwMC4wJTsiPkNyb3NieeKAmXMgS2l0Y2hlbjwvZGl2PmApWzBdOwogICAgICAgICAgICBwb3B1cF8zNTA2ODA5OTFmZWE0YjNkYjAwM2IzZGMzNTU1Y2U5ZC5zZXRDb250ZW50KGh0bWxfZWM1MmYzNTgwMTk5NGYzMDkzNGJjZWRlNzdhNmY0OGYpOwogICAgICAgIAoKICAgICAgICBtYXJrZXJfYTU1ZmYyOGU3NzU0NGQzYWI0NjZmYzk2MGIzMDBkZGEuYmluZFBvcHVwKHBvcHVwXzM1MDY4MDk5MWZlYTRiM2RiMDAzYjNkYzM1NTVjZTlkKQogICAgICAgIDsKCiAgICAgICAgCiAgICAKICAgIAogICAgICAgICAgICB2YXIgbWFya2VyX2UwMDVmNzAxYTRhZDQ3NzFhMmViMDJiOGEwMDRlYWE1ID0gTC5tYXJrZXIoCiAgICAgICAgICAgICAgICBbNDEuOTMwMTA5LCAtODcuNzA3MjQwOF0sCiAgICAgICAgICAgICAgICB7fQogICAgICAgICAgICApLmFkZFRvKG1hcF8zNzg2M2IyMWJhM2U0MjdhYjVmZGFkYzFmYTBiODNiZSk7CiAgICAgICAgCiAgICAKICAgICAgICB2YXIgcG9wdXBfM2YyMTE1MDhjOWJiNGYzMWFjMzhiYTVjMzU2NzIzMWMgPSBMLnBvcHVwKHsibWF4V2lkdGgiOiAiMTAwJSJ9KTsKCiAgICAgICAgCiAgICAgICAgICAgIHZhciBodG1sX2VkZTU1YzZkNzY4YTRmMTViYTY3Mzk3NDk5ZDA0MDIyID0gJChgPGRpdiBpZD0iaHRtbF9lZGU1NWM2ZDc2OGE0ZjE1YmE2NzM5NzQ5OWQwNDAyMiIgc3R5bGU9IndpZHRoOiAxMDAuMCU7IGhlaWdodDogMTAwLjAlOyI+TG9uZ21hbiAmIEVhZ2xlPC9kaXY+YClbMF07CiAgICAgICAgICAgIHBvcHVwXzNmMjExNTA4YzliYjRmMzFhYzM4YmE1YzM1NjcyMzFjLnNldENvbnRlbnQoaHRtbF9lZGU1NWM2ZDc2OGE0ZjE1YmE2NzM5NzQ5OWQwNDAyMik7CiAgICAgICAgCgogICAgICAgIG1hcmtlcl9lMDA1ZjcwMWE0YWQ0NzcxYTJlYjAyYjhhMDA0ZWFhNS5iaW5kUG9wdXAocG9wdXBfM2YyMTE1MDhjOWJiNGYzMWFjMzhiYTVjMzU2NzIzMWMpCiAgICAgICAgOwoKICAgICAgICAKICAgIAogICAgCiAgICAgICAgICAgIHZhciBtYXJrZXJfZGFlMTA3ZDRhN2IxNGU3YzhjOGQ5YzBkNGJkMjRhNWQgPSBMLm1hcmtlcigKICAgICAgICAgICAgICAgIFs0MS44OTEyOTAwMDAwMDAwMSwgLTg3LjY1NTU1N10sCiAgICAgICAgICAgICAgICB7fQogICAgICAgICAgICApLmFkZFRvKG1hcF8zNzg2M2IyMWJhM2U0MjdhYjVmZGFkYzFmYTBiODNiZSk7CiAgICAgICAgCiAgICAKICAgICAgICB2YXIgcG9wdXBfNTgyMGY1NDcxMTYyNGI1Y2EzODE2Yzk3OWFkNGZmMTQgPSBMLnBvcHVwKHsibWF4V2lkdGgiOiAiMTAwJSJ9KTsKCiAgICAgICAgCiAgICAgICAgICAgIHZhciBodG1sXzQwYzYzOWQ1NTM5NjQ5MTJhNTc1NzQ5OTBmNTA4ZjY5ID0gJChgPGRpdiBpZD0iaHRtbF80MGM2MzlkNTUzOTY0OTEyYTU3NTc0OTkwZjUwOGY2OSIgc3R5bGU9IndpZHRoOiAxMDAuMCU7IGhlaWdodDogMTAwLjAlOyI+QmFyaTwvZGl2PmApWzBdOwogICAgICAgICAgICBwb3B1cF81ODIwZjU0NzExNjI0YjVjYTM4MTZjOTc5YWQ0ZmYxNC5zZXRDb250ZW50KGh0bWxfNDBjNjM5ZDU1Mzk2NDkxMmE1NzU3NDk5MGY1MDhmNjkpOwogICAgICAgIAoKICAgICAgICBtYXJrZXJfZGFlMTA3ZDRhN2IxNGU3YzhjOGQ5YzBkNGJkMjRhNWQuYmluZFBvcHVwKHBvcHVwXzU4MjBmNTQ3MTE2MjRiNWNhMzgxNmM5NzlhZDRmZjE0KQogICAgICAgIDsKCiAgICAgICAgCiAgICAKICAgIAogICAgICAgICAgICB2YXIgbWFya2VyXzk0YTZjM2MyOGU0NTRmNjM5YTg5OWZlNDY4ODM5ZWYxID0gTC5tYXJrZXIoCiAgICAgICAgICAgICAgICBbNDEuODY3ODUyOSwgLTg3LjY0MTkyODldLAogICAgICAgICAgICAgICAge30KICAgICAgICAgICAgKS5hZGRUbyhtYXBfMzc4NjNiMjFiYTNlNDI3YWI1ZmRhZGMxZmEwYjgzYmUpOwogICAgICAgIAogICAgCiAgICAgICAgdmFyIHBvcHVwX2NlNDE4MDM3OTM1NjRlNDA4NDA2MTg2MmU0NGI3MTdmID0gTC5wb3B1cCh7Im1heFdpZHRoIjogIjEwMCUifSk7CgogICAgICAgIAogICAgICAgICAgICB2YXIgaHRtbF9mNTZhNDUzODg0YmQ0NjA0YjdlMzkwOWM4OTMzNTkzOSA9ICQoYDxkaXYgaWQ9Imh0bWxfZjU2YTQ1Mzg4NGJkNDYwNGI3ZTM5MDljODkzMzU5MzkiIHN0eWxlPSJ3aWR0aDogMTAwLjAlOyBoZWlnaHQ6IDEwMC4wJTsiPk1hbm554oCZczwvZGl2PmApWzBdOwogICAgICAgICAgICBwb3B1cF9jZTQxODAzNzkzNTY0ZTQwODQwNjE4NjJlNDRiNzE3Zi5zZXRDb250ZW50KGh0bWxfZjU2YTQ1Mzg4NGJkNDYwNGI3ZTM5MDljODkzMzU5MzkpOwogICAgICAgIAoKICAgICAgICBtYXJrZXJfOTRhNmMzYzI4ZTQ1NGY2MzlhODk5ZmU0Njg4MzllZjEuYmluZFBvcHVwKHBvcHVwX2NlNDE4MDM3OTM1NjRlNDA4NDA2MTg2MmU0NGI3MTdmKQogICAgICAgIDsKCiAgICAgICAgCiAgICAKICAgIAogICAgICAgICAgICB2YXIgbWFya2VyXzllNzhiZmM1ZTMwNTRlZmI5YzUwMTA4MWRhNDc1NWFkID0gTC5tYXJrZXIoCiAgICAgICAgICAgICAgICBbNDEuODg1MjY5MSwgLTg3LjYxODQ4MzddLAogICAgICAgICAgICAgICAge30KICAgICAgICAgICAgKS5hZGRUbyhtYXBfMzc4NjNiMjFiYTNlNDI3YWI1ZmRhZGMxZmEwYjgzYmUpOwogICAgICAgIAogICAgCiAgICAgICAgdmFyIHBvcHVwXzZmOWVmMmZkNmFkMjQyNzM5NTBkMThhZDhlNGJmZDJiID0gTC5wb3B1cCh7Im1heFdpZHRoIjogIjEwMCUifSk7CgogICAgICAgIAogICAgICAgICAgICB2YXIgaHRtbF9iODA5MzZkYWY1MjI0NTcwOTZhMmJkNmYzNDhjZGQ1MCA9ICQoYDxkaXYgaWQ9Imh0bWxfYjgwOTM2ZGFmNTIyNDU3MDk2YTJiZDZmMzQ4Y2RkNTAiIHN0eWxlPSJ3aWR0aDogMTAwLjAlOyBoZWlnaHQ6IDEwMC4wJTsiPkVnZ3nigJlzPC9kaXY+YClbMF07CiAgICAgICAgICAgIHBvcHVwXzZmOWVmMmZkNmFkMjQyNzM5NTBkMThhZDhlNGJmZDJiLnNldENvbnRlbnQoaHRtbF9iODA5MzZkYWY1MjI0NTcwOTZhMmJkNmYzNDhjZGQ1MCk7CiAgICAgICAgCgogICAgICAgIG1hcmtlcl85ZTc4YmZjNWUzMDU0ZWZiOWM1MDEwODFkYTQ3NTVhZC5iaW5kUG9wdXAocG9wdXBfNmY5ZWYyZmQ2YWQyNDI3Mzk1MGQxOGFkOGU0YmZkMmIpCiAgICAgICAgOwoKICAgICAgICAKICAgIAogICAgCiAgICAgICAgICAgIHZhciBtYXJrZXJfMGExZDQ3N2U4MThjNGYzZWE0YmQ0MTM0OWQ5ZWJjM2YgPSBMLm1hcmtlcigKICAgICAgICAgICAgICAgIFs0MS45MDgwNTM5LCAtODcuNjM0MzExM10sCiAgICAgICAgICAgICAgICB7fQogICAgICAgICAgICApLmFkZFRvKG1hcF8zNzg2M2IyMWJhM2U0MjdhYjVmZGFkYzFmYTBiODNiZSk7CiAgICAgICAgCiAgICAKICAgICAgICB2YXIgcG9wdXBfNTY5MTc2NjI1NWRiNDQzNGI1NGUzNzQ5MmFmNzJmMDggPSBMLnBvcHVwKHsibWF4V2lkdGgiOiAiMTAwJSJ9KTsKCiAgICAgICAgCiAgICAgICAgICAgIHZhciBodG1sXzIzNTMxNzU0MmUyOTQxYTQ4MjkxMGM5Y2Y3MWI0OWYwID0gJChgPGRpdiBpZD0iaHRtbF8yMzUzMTc1NDJlMjk0MWE0ODI5MTBjOWNmNzFiNDlmMCIgc3R5bGU9IndpZHRoOiAxMDAuMCU7IGhlaWdodDogMTAwLjAlOyI+T2xkIEplcnVzYWxlbTwvZGl2PmApWzBdOwogICAgICAgICAgICBwb3B1cF81NjkxNzY2MjU1ZGI0NDM0YjU0ZTM3NDkyYWY3MmYwOC5zZXRDb250ZW50KGh0bWxfMjM1MzE3NTQyZTI5NDFhNDgyOTEwYzljZjcxYjQ5ZjApOwogICAgICAgIAoKICAgICAgICBtYXJrZXJfMGExZDQ3N2U4MThjNGYzZWE0YmQ0MTM0OWQ5ZWJjM2YuYmluZFBvcHVwKHBvcHVwXzU2OTE3NjYyNTVkYjQ0MzRiNTRlMzc0OTJhZjcyZjA4KQogICAgICAgIDsKCiAgICAgICAgCiAgICAKICAgIAogICAgICAgICAgICB2YXIgbWFya2VyXzg2YzRkMzFmMGIzMjRlOGViNmE5NmIyOTQzNTJkZmEwID0gTC5tYXJrZXIoCiAgICAgICAgICAgICAgICBbNDEuOTEzNjk1Mzk5OTk5OTksIC04Ny42NzcxMjczXSwKICAgICAgICAgICAgICAgIHt9CiAgICAgICAgICAgICkuYWRkVG8obWFwXzM3ODYzYjIxYmEzZTQyN2FiNWZkYWRjMWZhMGI4M2JlKTsKICAgICAgICAKICAgIAogICAgICAgIHZhciBwb3B1cF9hZjczZGQyZjRiOWE0ZDVkYTEwMzUwYzVjYzM5OGY0YSA9IEwucG9wdXAoeyJtYXhXaWR0aCI6ICIxMDAlIn0pOwoKICAgICAgICAKICAgICAgICAgICAgdmFyIGh0bWxfMzM1ZWEzMTJlNjFjNGVjMDhhNjUwMTU1ZmIxZDUxZjcgPSAkKGA8ZGl2IGlkPSJodG1sXzMzNWVhMzEyZTYxYzRlYzA4YTY1MDE1NWZiMWQ1MWY3IiBzdHlsZT0id2lkdGg6IDEwMC4wJTsgaGVpZ2h0OiAxMDAuMCU7Ij5NaW5keeKAmXMgSG90Q2hvY29sYXRlPC9kaXY+YClbMF07CiAgICAgICAgICAgIHBvcHVwX2FmNzNkZDJmNGI5YTRkNWRhMTAzNTBjNWNjMzk4ZjRhLnNldENvbnRlbnQoaHRtbF8zMzVlYTMxMmU2MWM0ZWMwOGE2NTAxNTVmYjFkNTFmNyk7CiAgICAgICAgCgogICAgICAgIG1hcmtlcl84NmM0ZDMxZjBiMzI0ZThlYjZhOTZiMjk0MzUyZGZhMC5iaW5kUG9wdXAocG9wdXBfYWY3M2RkMmY0YjlhNGQ1ZGExMDM1MGM1Y2MzOThmNGEpCiAgICAgICAgOwoKICAgICAgICAKICAgIAogICAgCiAgICAgICAgICAgIHZhciBtYXJrZXJfZTc1YzlmYTM0NzU4NGNmZWE4NTkyODg2N2IwYTA5Y2MgPSBMLm1hcmtlcigKICAgICAgICAgICAgICAgIFs0MS45NTM3MTA2LCAtODcuNzA4NDUwNF0sCiAgICAgICAgICAgICAgICB7fQogICAgICAgICAgICApLmFkZFRvKG1hcF8zNzg2M2IyMWJhM2U0MjdhYjVmZGFkYzFmYTBiODNiZSk7CiAgICAgICAgCiAgICAKICAgICAgICB2YXIgcG9wdXBfMTg3MDBmODIzNmEzNGZkODkwY2EzZDYyMjlhNGVmNmIgPSBMLnBvcHVwKHsibWF4V2lkdGgiOiAiMTAwJSJ9KTsKCiAgICAgICAgCiAgICAgICAgICAgIHZhciBodG1sXzU5ZGI3NTFlY2ZkZDRjNDE4YzEwYTIyYTE3Mzk1Zjk3ID0gJChgPGRpdiBpZD0iaHRtbF81OWRiNzUxZWNmZGQ0YzQxOGMxMGEyMmExNzM5NWY5NyIgc3R5bGU9IndpZHRoOiAxMDAuMCU7IGhlaWdodDogMTAwLjAlOyI+T2xnYeKAmXMgRGVsaWNhdGVzc2VuPC9kaXY+YClbMF07CiAgICAgICAgICAgIHBvcHVwXzE4NzAwZjgyMzZhMzRmZDg5MGNhM2Q2MjI5YTRlZjZiLnNldENvbnRlbnQoaHRtbF81OWRiNzUxZWNmZGQ0YzQxOGMxMGEyMmExNzM5NWY5Nyk7CiAgICAgICAgCgogICAgICAgIG1hcmtlcl9lNzVjOWZhMzQ3NTg0Y2ZlYTg1OTI4ODY3YjBhMDljYy5iaW5kUG9wdXAocG9wdXBfMTg3MDBmODIzNmEzNGZkODkwY2EzZDYyMjlhNGVmNmIpCiAgICAgICAgOwoKICAgICAgICAKICAgIAogICAgCiAgICAgICAgICAgIHZhciBtYXJrZXJfN2JiYWMwMzRkZmU5NDk1NmFlY2EwZWI3MzM5MmM4NTAgPSBMLm1hcmtlcigKICAgICAgICAgICAgICAgIFs0MS45Nzk0NDk2LCAtODcuNjY3OTU3MTk5OTk5OTldLAogICAgICAgICAgICAgICAge30KICAgICAgICAgICAgKS5hZGRUbyhtYXBfMzc4NjNiMjFiYTNlNDI3YWI1ZmRhZGMxZmEwYjgzYmUpOwogICAgICAgIAogICAgCiAgICAgICAgdmFyIHBvcHVwX2MzOTA1MTc2Njk5YzQ3YzFhOTM5Yjg4MTc4ODdjYmE4ID0gTC5wb3B1cCh7Im1heFdpZHRoIjogIjEwMCUifSk7CgogICAgICAgIAogICAgICAgICAgICB2YXIgaHRtbF8yOGIzMWU0YTFhY2E0ZWFkOTdiMDlhM2FiN2MwNTUxZSA9ICQoYDxkaXYgaWQ9Imh0bWxfMjhiMzFlNGExYWNhNGVhZDk3YjA5YTNhYjdjMDU1MWUiIHN0eWxlPSJ3aWR0aDogMTAwLjAlOyBoZWlnaHQ6IDEwMC4wJTsiPkJpZyBKb25lczwvZGl2PmApWzBdOwogICAgICAgICAgICBwb3B1cF9jMzkwNTE3NjY5OWM0N2MxYTkzOWI4ODE3ODg3Y2JhOC5zZXRDb250ZW50KGh0bWxfMjhiMzFlNGExYWNhNGVhZDk3YjA5YTNhYjdjMDU1MWUpOwogICAgICAgIAoKICAgICAgICBtYXJrZXJfN2JiYWMwMzRkZmU5NDk1NmFlY2EwZWI3MzM5MmM4NTAuYmluZFBvcHVwKHBvcHVwX2MzOTA1MTc2Njk5YzQ3YzFhOTM5Yjg4MTc4ODdjYmE4KQogICAgICAgIDsKCiAgICAgICAgCiAgICAKICAgIAogICAgICAgICAgICB2YXIgbWFya2VyXzNiY2E3MWZiMGE3MjQ4NWQ4NTAwZmU0MmI0YjI2MDUxID0gTC5tYXJrZXIoCiAgICAgICAgICAgICAgICBbNDEuOTU0MTU2MywgLTg3LjcwMjcxMDddLAogICAgICAgICAgICAgICAge30KICAgICAgICAgICAgKS5hZGRUbyhtYXBfMzc4NjNiMjFiYTNlNDI3YWI1ZmRhZGMxZmEwYjgzYmUpOwogICAgICAgIAogICAgCiAgICAgICAgdmFyIHBvcHVwX2RhMjU1YWNiOWU0MzRkYWVhNjYzYjAwN2MxYzYwMTNmID0gTC5wb3B1cCh7Im1heFdpZHRoIjogIjEwMCUifSk7CgogICAgICAgIAogICAgICAgICAgICB2YXIgaHRtbF85YjU5YWI1OWRiNjg0OTA4OTM1YTU4OTZiNmEyYjViNCA9ICQoYDxkaXYgaWQ9Imh0bWxfOWI1OWFiNTlkYjY4NDkwODkzNWE1ODk2YjZhMmI1YjQiIHN0eWxlPSJ3aWR0aDogMTAwLjAlOyBoZWlnaHQ6IDEwMC4wJTsiPkxhIFBhbmU8L2Rpdj5gKVswXTsKICAgICAgICAgICAgcG9wdXBfZGEyNTVhY2I5ZTQzNGRhZWE2NjNiMDA3YzFjNjAxM2Yuc2V0Q29udGVudChodG1sXzliNTlhYjU5ZGI2ODQ5MDg5MzVhNTg5NmI2YTJiNWI0KTsKICAgICAgICAKCiAgICAgICAgbWFya2VyXzNiY2E3MWZiMGE3MjQ4NWQ4NTAwZmU0MmI0YjI2MDUxLmJpbmRQb3B1cChwb3B1cF9kYTI1NWFjYjllNDM0ZGFlYTY2M2IwMDdjMWM2MDEzZikKICAgICAgICA7CgogICAgICAgIAogICAgCiAgICAKICAgICAgICAgICAgdmFyIG1hcmtlcl8yNmFmYmVhMWFiZTE0MGY4YTMxNWMzMmFjYzRiM2MxYSA9IEwubWFya2VyKAogICAgICAgICAgICAgICAgWzQyLjE1NjY5MSwgLTg3LjgwMzYxOF0sCiAgICAgICAgICAgICAgICB7fQogICAgICAgICAgICApLmFkZFRvKG1hcF8zNzg2M2IyMWJhM2U0MjdhYjVmZGFkYzFmYTBiODNiZSk7CiAgICAgICAgCiAgICAKICAgICAgICB2YXIgcG9wdXBfMmE1NjU2Njg4YzA4NDEyNjhlMWE4NDU2ZTMyNmYyOTEgPSBMLnBvcHVwKHsibWF4V2lkdGgiOiAiMTAwJSJ9KTsKCiAgICAgICAgCiAgICAgICAgICAgIHZhciBodG1sXzdlNWY1MmVkMjFhNzQ5NGRiM2MyNDgzNDdlZTNlNzNhID0gJChgPGRpdiBpZD0iaHRtbF83ZTVmNTJlZDIxYTc0OTRkYjNjMjQ4MzQ3ZWUzZTczYSIgc3R5bGU9IndpZHRoOiAxMDAuMCU7IGhlaWdodDogMTAwLjAlOyI+TWF44oCZcyBEZWxpPC9kaXY+YClbMF07CiAgICAgICAgICAgIHBvcHVwXzJhNTY1NjY4OGMwODQxMjY4ZTFhODQ1NmUzMjZmMjkxLnNldENvbnRlbnQoaHRtbF83ZTVmNTJlZDIxYTc0OTRkYjNjMjQ4MzQ3ZWUzZTczYSk7CiAgICAgICAgCgogICAgICAgIG1hcmtlcl8yNmFmYmVhMWFiZTE0MGY4YTMxNWMzMmFjYzRiM2MxYS5iaW5kUG9wdXAocG9wdXBfMmE1NjU2Njg4YzA4NDEyNjhlMWE4NDU2ZTMyNmYyOTEpCiAgICAgICAgOwoKICAgICAgICAKICAgIAogICAgCiAgICAgICAgICAgIHZhciBtYXJrZXJfY2FkODY2MGQzY2I0NGMxNmEwYWU4MWNjMTg3YzFlMjkgPSBMLm1hcmtlcigKICAgICAgICAgICAgICAgIFs0MS45NjUyOTg3LCAtODcuNjc1NTc5NTk5OTk5OTldLAogICAgICAgICAgICAgICAge30KICAgICAgICAgICAgKS5hZGRUbyhtYXBfMzc4NjNiMjFiYTNlNDI3YWI1ZmRhZGMxZmEwYjgzYmUpOwogICAgICAgIAogICAgCiAgICAgICAgdmFyIHBvcHVwX2JlMmRiY2FhOTcyZjQxMjY4YjJhYjE4YWZhMTk2ZjdmID0gTC5wb3B1cCh7Im1heFdpZHRoIjogIjEwMCUifSk7CgogICAgICAgIAogICAgICAgICAgICB2YXIgaHRtbF83MGFiMjcxMzg5ODQ0NzM0YWE2N2EyODRkMTZjMWY3YiA9ICQoYDxkaXYgaWQ9Imh0bWxfNzBhYjI3MTM4OTg0NDczNGFhNjdhMjg0ZDE2YzFmN2IiIHN0eWxlPSJ3aWR0aDogMTAwLjAlOyBoZWlnaHQ6IDEwMC4wJTsiPkNpdHkgUHJvdmlzaW9uczwvZGl2PmApWzBdOwogICAgICAgICAgICBwb3B1cF9iZTJkYmNhYTk3MmY0MTI2OGIyYWIxOGFmYTE5NmY3Zi5zZXRDb250ZW50KGh0bWxfNzBhYjI3MTM4OTg0NDczNGFhNjdhMjg0ZDE2YzFmN2IpOwogICAgICAgIAoKICAgICAgICBtYXJrZXJfY2FkODY2MGQzY2I0NGMxNmEwYWU4MWNjMTg3YzFlMjkuYmluZFBvcHVwKHBvcHVwX2JlMmRiY2FhOTcyZjQxMjY4YjJhYjE4YWZhMTk2ZjdmKQogICAgICAgIDsKCiAgICAgICAgCiAgICAKICAgIAogICAgICAgICAgICB2YXIgbWFya2VyXzBjNTExMzA3YjY2MTQ4MTg4OTJiNDk0ZTIyZGYwOWExID0gTC5tYXJrZXIoCiAgICAgICAgICAgICAgICBbNDEuOTAyNzIxNzk5OTk5OTksIC04Ny42OTAyMTM1XSwKICAgICAgICAgICAgICAgIHt9CiAgICAgICAgICAgICkuYWRkVG8obWFwXzM3ODYzYjIxYmEzZTQyN2FiNWZkYWRjMWZhMGI4M2JlKTsKICAgICAgICAKICAgIAogICAgICAgIHZhciBwb3B1cF8yZDZjYzZhZThkOWU0ODg1YmRkZTVmOTBjYTczMjgxZSA9IEwucG9wdXAoeyJtYXhXaWR0aCI6ICIxMDAlIn0pOwoKICAgICAgICAKICAgICAgICAgICAgdmFyIGh0bWxfMjM0MWQ0MDRiMDNjNDZiMmFkOWJmNDdlNDViNWVmOWUgPSAkKGA8ZGl2IGlkPSJodG1sXzIzNDFkNDA0YjAzYzQ2YjJhZDliZjQ3ZTQ1YjVlZjllIiBzdHlsZT0id2lkdGg6IDEwMC4wJTsgaGVpZ2h0OiAxMDAuMCU7Ij5QYXBh4oCZcyBDYWNoZSBTYWJyb3NvPC9kaXY+YClbMF07CiAgICAgICAgICAgIHBvcHVwXzJkNmNjNmFlOGQ5ZTQ4ODViZGRlNWY5MGNhNzMyODFlLnNldENvbnRlbnQoaHRtbF8yMzQxZDQwNGIwM2M0NmIyYWQ5YmY0N2U0NWI1ZWY5ZSk7CiAgICAgICAgCgogICAgICAgIG1hcmtlcl8wYzUxMTMwN2I2NjE0ODE4ODkyYjQ5NGUyMmRmMDlhMS5iaW5kUG9wdXAocG9wdXBfMmQ2Y2M2YWU4ZDllNDg4NWJkZGU1ZjkwY2E3MzI4MWUpCiAgICAgICAgOwoKICAgICAgICAKICAgIAogICAgCiAgICAgICAgICAgIHZhciBtYXJrZXJfY2Y2YjA0ZGY5ZjVhNDdhMTg1NTJkNGE3ZDM3NmRiZTMgPSBMLm1hcmtlcigKICAgICAgICAgICAgICAgIFs0MS44ODkzNjgzLCAtODcuNjM0OTQ4N10sCiAgICAgICAgICAgICAgICB7fQogICAgICAgICAgICApLmFkZFRvKG1hcF8zNzg2M2IyMWJhM2U0MjdhYjVmZGFkYzFmYTBiODNiZSk7CiAgICAgICAgCiAgICAKICAgICAgICB2YXIgcG9wdXBfNzhhY2Q1NWQ3NmViNDMzZGI3YjhhMjJhNDAyOThkZTIgPSBMLnBvcHVwKHsibWF4V2lkdGgiOiAiMTAwJSJ9KTsKCiAgICAgICAgCiAgICAgICAgICAgIHZhciBodG1sXzU0ZGRhYzkzZTcxNDRmOGJiYjBkMzI5YTFjNjZjYTMzID0gJChgPGRpdiBpZD0iaHRtbF81NGRkYWM5M2U3MTQ0ZjhiYmIwZDMyOWExYzY2Y2EzMyIgc3R5bGU9IndpZHRoOiAxMDAuMCU7IGhlaWdodDogMTAwLjAlOyI+QmF2ZXR0ZeKAmXMgQmFyICYgQm9ldWY8L2Rpdj5gKVswXTsKICAgICAgICAgICAgcG9wdXBfNzhhY2Q1NWQ3NmViNDMzZGI3YjhhMjJhNDAyOThkZTIuc2V0Q29udGVudChodG1sXzU0ZGRhYzkzZTcxNDRmOGJiYjBkMzI5YTFjNjZjYTMzKTsKICAgICAgICAKCiAgICAgICAgbWFya2VyX2NmNmIwNGRmOWY1YTQ3YTE4NTUyZDRhN2QzNzZkYmUzLmJpbmRQb3B1cChwb3B1cF83OGFjZDU1ZDc2ZWI0MzNkYjdiOGEyMmE0MDI5OGRlMikKICAgICAgICA7CgogICAgICAgIAogICAgCiAgICAKICAgICAgICAgICAgdmFyIG1hcmtlcl9hMzVkYmJmOTlkZDc0YTk0OGM1ZGI3Y2M2NmRiNDFiOCA9IEwubWFya2VyKAogICAgICAgICAgICAgICAgWzQxLjkxMDUyNTgsIC04Ny42MzQzNzc1XSwKICAgICAgICAgICAgICAgIHt9CiAgICAgICAgICAgICkuYWRkVG8obWFwXzM3ODYzYjIxYmEzZTQyN2FiNWZkYWRjMWZhMGI4M2JlKTsKICAgICAgICAKICAgIAogICAgICAgIHZhciBwb3B1cF9mNzNlZjZkZjIxYzU0YjY3OTIwOTQyZmFmNDU0ODBmYyA9IEwucG9wdXAoeyJtYXhXaWR0aCI6ICIxMDAlIn0pOwoKICAgICAgICAKICAgICAgICAgICAgdmFyIGh0bWxfYzI5NTQ0OTAzOWJjNGRiY2I1OWNjYWVlNjM1ZjMxYjggPSAkKGA8ZGl2IGlkPSJodG1sX2MyOTU0NDkwMzliYzRkYmNiNTljY2FlZTYzNWYzMWI4IiBzdHlsZT0id2lkdGg6IDEwMC4wJTsgaGVpZ2h0OiAxMDAuMCU7Ij5MYSBGb3VybmV0dGU8L2Rpdj5gKVswXTsKICAgICAgICAgICAgcG9wdXBfZjczZWY2ZGYyMWM1NGI2NzkyMDk0MmZhZjQ1NDgwZmMuc2V0Q29udGVudChodG1sX2MyOTU0NDkwMzliYzRkYmNiNTljY2FlZTYzNWYzMWI4KTsKICAgICAgICAKCiAgICAgICAgbWFya2VyX2EzNWRiYmY5OWRkNzRhOTQ4YzVkYjdjYzY2ZGI0MWI4LmJpbmRQb3B1cChwb3B1cF9mNzNlZjZkZjIxYzU0YjY3OTIwOTQyZmFmNDU0ODBmYykKICAgICAgICA7CgogICAgICAgIAogICAgCiAgICAKICAgICAgICAgICAgdmFyIG1hcmtlcl82ZmI3NDA0MGNjNzc0MmIwYmNjNjllZWExNDU1MDI1NCA9IEwubWFya2VyKAogICAgICAgICAgICAgICAgWzQxLjg4OTYxODgsIC04Ny42NDQ4NDI1OTk5OTk5OV0sCiAgICAgICAgICAgICAgICB7fQogICAgICAgICAgICApLmFkZFRvKG1hcF8zNzg2M2IyMWJhM2U0MjdhYjVmZGFkYzFmYTBiODNiZSk7CiAgICAgICAgCiAgICAKICAgICAgICB2YXIgcG9wdXBfMzA2NGMyY2QxMGNkNDc4MTlmYjc5NmMwNjZmMWY0ZWEgPSBMLnBvcHVwKHsibWF4V2lkdGgiOiAiMTAwJSJ9KTsKCiAgICAgICAgCiAgICAgICAgICAgIHZhciBodG1sX2I3MDNmM2M5YzRhNDRkZTU5YmY2NGRhZjUzZDVhYzAwID0gJChgPGRpdiBpZD0iaHRtbF9iNzAzZjNjOWM0YTQ0ZGU1OWJmNjRkYWY1M2Q1YWMwMCIgc3R5bGU9IndpZHRoOiAxMDAuMCU7IGhlaWdodDogMTAwLjAlOyI+UGFyYW1vdW50IFJvb208L2Rpdj5gKVswXTsKICAgICAgICAgICAgcG9wdXBfMzA2NGMyY2QxMGNkNDc4MTlmYjc5NmMwNjZmMWY0ZWEuc2V0Q29udGVudChodG1sX2I3MDNmM2M5YzRhNDRkZTU5YmY2NGRhZjUzZDVhYzAwKTsKICAgICAgICAKCiAgICAgICAgbWFya2VyXzZmYjc0MDQwY2M3NzQyYjBiY2M2OWVlYTE0NTUwMjU0LmJpbmRQb3B1cChwb3B1cF8zMDY0YzJjZDEwY2Q0NzgxOWZiNzk2YzA2NmYxZjRlYSkKICAgICAgICA7CgogICAgICAgIAogICAgCiAgICAKICAgICAgICAgICAgdmFyIG1hcmtlcl81MjJhOWZlOTAzMjc0NjNlYjEwMmI4MWUzZWFiY2Q2NCA9IEwubWFya2VyKAogICAgICAgICAgICAgICAgWzQxLjkxNTA0OTkwMDAwMDAxLCAtODcuNjc3ODA0N10sCiAgICAgICAgICAgICAgICB7fQogICAgICAgICAgICApLmFkZFRvKG1hcF8zNzg2M2IyMWJhM2U0MjdhYjVmZGFkYzFmYTBiODNiZSk7CiAgICAgICAgCiAgICAKICAgICAgICB2YXIgcG9wdXBfMGVlZDdkNmViMTI2NDgyNWI3MzlhN2Q3MDlkMmMyNWIgPSBMLnBvcHVwKHsibWF4V2lkdGgiOiAiMTAwJSJ9KTsKCiAgICAgICAgCiAgICAgICAgICAgIHZhciBodG1sX2Y5OTMzMDhkNDk0ZTQ3NDg4M2VkMzg5NzYyZWUxNDg2ID0gJChgPGRpdiBpZD0iaHRtbF9mOTkzMzA4ZDQ5NGU0NzQ4ODNlZDM4OTc2MmVlMTQ4NiIgc3R5bGU9IndpZHRoOiAxMDAuMCU7IGhlaWdodDogMTAwLjAlOyI+TWVsdCBTYW5kd2ljaCBTaG9wcGU8L2Rpdj5gKVswXTsKICAgICAgICAgICAgcG9wdXBfMGVlZDdkNmViMTI2NDgyNWI3MzlhN2Q3MDlkMmMyNWIuc2V0Q29udGVudChodG1sX2Y5OTMzMDhkNDk0ZTQ3NDg4M2VkMzg5NzYyZWUxNDg2KTsKICAgICAgICAKCiAgICAgICAgbWFya2VyXzUyMmE5ZmU5MDMyNzQ2M2ViMTAyYjgxZTNlYWJjZDY0LmJpbmRQb3B1cChwb3B1cF8wZWVkN2Q2ZWIxMjY0ODI1YjczOWE3ZDcwOWQyYzI1YikKICAgICAgICA7CgogICAgICAgIAogICAgCiAgICAKICAgICAgICAgICAgdmFyIG1hcmtlcl9mYjY2OTc4NmE5NDI0ZDcxODRhMTQwYmExNjQ0NmNmMyA9IEwubWFya2VyKAogICAgICAgICAgICAgICAgWzQxLjkyMTg1MjEsIC04Ny42NTkyMTI0XSwKICAgICAgICAgICAgICAgIHt9CiAgICAgICAgICAgICkuYWRkVG8obWFwXzM3ODYzYjIxYmEzZTQyN2FiNWZkYWRjMWZhMGI4M2JlKTsKICAgICAgICAKICAgIAogICAgICAgIHZhciBwb3B1cF8wOTE4Nzk3ZGE5YTI0ZTg3YmVkODAwMjU3ZTJiNDBjMiA9IEwucG9wdXAoeyJtYXhXaWR0aCI6ICIxMDAlIn0pOwoKICAgICAgICAKICAgICAgICAgICAgdmFyIGh0bWxfOTE4YTBlOTA2NzYwNGU4ZGI1NzVhODM1ZDE3ZDExYzkgPSAkKGA8ZGl2IGlkPSJodG1sXzkxOGEwZTkwNjc2MDRlOGRiNTc1YTgzNWQxN2QxMWM5IiBzdHlsZT0id2lkdGg6IDEwMC4wJTsgaGVpZ2h0OiAxMDAuMCU7Ij5GbG9yaW9sZSBDYWZlICYgQmFrZXJ5PC9kaXY+YClbMF07CiAgICAgICAgICAgIHBvcHVwXzA5MTg3OTdkYTlhMjRlODdiZWQ4MDAyNTdlMmI0MGMyLnNldENvbnRlbnQoaHRtbF85MThhMGU5MDY3NjA0ZThkYjU3NWE4MzVkMTdkMTFjOSk7CiAgICAgICAgCgogICAgICAgIG1hcmtlcl9mYjY2OTc4NmE5NDI0ZDcxODRhMTQwYmExNjQ0NmNmMy5iaW5kUG9wdXAocG9wdXBfMDkxODc5N2RhOWEyNGU4N2JlZDgwMDI1N2UyYjQwYzIpCiAgICAgICAgOwoKICAgICAgICAKICAgIAogICAgCiAgICAgICAgICAgIHZhciBtYXJrZXJfYzY4YjU2ODY1MTM5NDUyOGJhN2U0YTcwOTUzMGUzZDkgPSBMLm1hcmtlcigKICAgICAgICAgICAgICAgIFs0MS45Nzk3MDk5LCAtODcuNjY5MzQ0MDk5OTk5OTldLAogICAgICAgICAgICAgICAge30KICAgICAgICAgICAgKS5hZGRUbyhtYXBfMzc4NjNiMjFiYTNlNDI3YWI1ZmRhZGMxZmEwYjgzYmUpOwogICAgICAgIAogICAgCiAgICAgICAgdmFyIHBvcHVwXzUwYjEwOWE2N2ZmNTRiZDdiMTdhOWE0YWY1ZGEwMWU4ID0gTC5wb3B1cCh7Im1heFdpZHRoIjogIjEwMCUifSk7CgogICAgICAgIAogICAgICAgICAgICB2YXIgaHRtbF9jMDA2NGZiMmRhODI0OWQ3OGM4Yjk1YmNmZDg5OTliMiA9ICQoYDxkaXYgaWQ9Imh0bWxfYzAwNjRmYjJkYTgyNDlkNzhjOGI5NWJjZmQ4OTk5YjIiIHN0eWxlPSJ3aWR0aDogMTAwLjAlOyBoZWlnaHQ6IDEwMC4wJTsiPkZpcnN0IFNsaWNlIFBpZSBDYWbDqTwvZGl2PmApWzBdOwogICAgICAgICAgICBwb3B1cF81MGIxMDlhNjdmZjU0YmQ3YjE3YTlhNGFmNWRhMDFlOC5zZXRDb250ZW50KGh0bWxfYzAwNjRmYjJkYTgyNDlkNzhjOGI5NWJjZmQ4OTk5YjIpOwogICAgICAgIAoKICAgICAgICBtYXJrZXJfYzY4YjU2ODY1MTM5NDUyOGJhN2U0YTcwOTUzMGUzZDkuYmluZFBvcHVwKHBvcHVwXzUwYjEwOWE2N2ZmNTRiZDdiMTdhOWE0YWY1ZGEwMWU4KQogICAgICAgIDsKCiAgICAgICAgCiAgICAKICAgIAogICAgICAgICAgICB2YXIgbWFya2VyXzM1ZThiZWJjZDkwZjQzNTViMmJjZGRjM2VhMGU1NmE3ID0gTC5tYXJrZXIoCiAgICAgICAgICAgICAgICBbNDEuOTYxNzEyMiwgLTg3LjY3NTgxNjIwMDAwMDAxXSwKICAgICAgICAgICAgICAgIHt9CiAgICAgICAgICAgICkuYWRkVG8obWFwXzM3ODYzYjIxYmEzZTQyN2FiNWZkYWRjMWZhMGI4M2JlKTsKICAgICAgICAKICAgIAogICAgICAgIHZhciBwb3B1cF8xZTNiZTUxY2ExNDI0ODBjYTQ4ZWYxY2VmMmE3ZGExMiA9IEwucG9wdXAoeyJtYXhXaWR0aCI6ICIxMDAlIn0pOwoKICAgICAgICAKICAgICAgICAgICAgdmFyIGh0bWxfZDY0MmUzNmIxOWFlNDY0ZGI3MmIwNWYwMmU2MTc0ZjIgPSAkKGA8ZGl2IGlkPSJodG1sX2Q2NDJlMzZiMTlhZTQ2NGRiNzJiMDVmMDJlNjE3NGYyIiBzdHlsZT0id2lkdGg6IDEwMC4wJTsgaGVpZ2h0OiAxMDAuMCU7Ij5Ucm9xdWV0PC9kaXY+YClbMF07CiAgICAgICAgICAgIHBvcHVwXzFlM2JlNTFjYTE0MjQ4MGNhNDhlZjFjZWYyYTdkYTEyLnNldENvbnRlbnQoaHRtbF9kNjQyZTM2YjE5YWU0NjRkYjcyYjA1ZjAyZTYxNzRmMik7CiAgICAgICAgCgogICAgICAgIG1hcmtlcl8zNWU4YmViY2Q5MGY0MzU1YjJiY2RkYzNlYTBlNTZhNy5iaW5kUG9wdXAocG9wdXBfMWUzYmU1MWNhMTQyNDgwY2E0OGVmMWNlZjJhN2RhMTIpCiAgICAgICAgOwoKICAgICAgICAKICAgIAogICAgCiAgICAgICAgICAgIHZhciBtYXJrZXJfNzZmOGQ1YTFlMDhhNDNlYWE0NWI1Nzc0ZjNmMDAxZjUgPSBMLm1hcmtlcigKICAgICAgICAgICAgICAgIFs0MS44OTI5NjExOTk5OTk5OSwgLTg3LjYyNzgyMTRdLAogICAgICAgICAgICAgICAge30KICAgICAgICAgICAgKS5hZGRUbyhtYXBfMzc4NjNiMjFiYTNlNDI3YWI1ZmRhZGMxZmEwYjgzYmUpOwogICAgICAgIAogICAgCiAgICAgICAgdmFyIHBvcHVwX2U0M2E4OGU3Y2Q2MjQ5MjBhNGI1ZjhiYjc3YzEwYmYxID0gTC5wb3B1cCh7Im1heFdpZHRoIjogIjEwMCUifSk7CgogICAgICAgIAogICAgICAgICAgICB2YXIgaHRtbF8wN2E2NTE2MjczODU0YWExYWI5NWUwYWMwODllNmVlNSA9ICQoYDxkaXYgaWQ9Imh0bWxfMDdhNjUxNjI3Mzg1NGFhMWFiOTVlMGFjMDg5ZTZlZTUiIHN0eWxlPSJ3aWR0aDogMTAwLjAlOyBoZWlnaHQ6IDEwMC4wJTsiPkdyYWhhbXdpY2g8L2Rpdj5gKVswXTsKICAgICAgICAgICAgcG9wdXBfZTQzYTg4ZTdjZDYyNDkyMGE0YjVmOGJiNzdjMTBiZjEuc2V0Q29udGVudChodG1sXzA3YTY1MTYyNzM4NTRhYTFhYjk1ZTBhYzA4OWU2ZWU1KTsKICAgICAgICAKCiAgICAgICAgbWFya2VyXzc2ZjhkNWExZTA4YTQzZWFhNDViNTc3NGYzZjAwMWY1LmJpbmRQb3B1cChwb3B1cF9lNDNhODhlN2NkNjI0OTIwYTRiNWY4YmI3N2MxMGJmMSkKICAgICAgICA7CgogICAgICAgIAogICAgCiAgICAKICAgICAgICAgICAgdmFyIG1hcmtlcl8wZmY2ODgxODIwMGM0Y2Y2YWUyM2JiZTE0NzljYWE4OCA9IEwubWFya2VyKAogICAgICAgICAgICAgICAgWzQxLjkwNDc1NTEsIC04Ny45Mzk2NDU5XSwKICAgICAgICAgICAgICAgIHt9CiAgICAgICAgICAgICkuYWRkVG8obWFwXzM3ODYzYjIxYmEzZTQyN2FiNWZkYWRjMWZhMGI4M2JlKTsKICAgICAgICAKICAgIAogICAgICAgIHZhciBwb3B1cF84Yzg2YTRjNDJjNDE0MGI0ODIyNmFiN2RkOGQyNWI2NiA9IEwucG9wdXAoeyJtYXhXaWR0aCI6ICIxMDAlIn0pOwoKICAgICAgICAKICAgICAgICAgICAgdmFyIGh0bWxfOTIwYTJjNjJmYWNjNDIzZjljNzY3Y2FmYTBiYmMwYWQgPSAkKGA8ZGl2IGlkPSJodG1sXzkyMGEyYzYyZmFjYzQyM2Y5Yzc2N2NhZmEwYmJjMGFkIiBzdHlsZT0id2lkdGg6IDEwMC4wJTsgaGVpZ2h0OiAxMDAuMCU7Ij5Sb3NhbGlh4oCZcyBEZWxpPC9kaXY+YClbMF07CiAgICAgICAgICAgIHBvcHVwXzhjODZhNGM0MmM0MTQwYjQ4MjI2YWI3ZGQ4ZDI1YjY2LnNldENvbnRlbnQoaHRtbF85MjBhMmM2MmZhY2M0MjNmOWM3NjdjYWZhMGJiYzBhZCk7CiAgICAgICAgCgogICAgICAgIG1hcmtlcl8wZmY2ODgxODIwMGM0Y2Y2YWUyM2JiZTE0NzljYWE4OC5iaW5kUG9wdXAocG9wdXBfOGM4NmE0YzQyYzQxNDBiNDgyMjZhYjdkZDhkMjViNjYpCiAgICAgICAgOwoKICAgICAgICAKICAgIAogICAgCiAgICAgICAgICAgIHZhciBtYXJrZXJfMTQ1YThmOGNhZDU1NGFmZjg5ZmQ0YTQ3OTUzMWU3Y2QgPSBMLm1hcmtlcigKICAgICAgICAgICAgICAgIFs0MS43OTEzMTg1LCAtODcuNTkzODQ1Nl0sCiAgICAgICAgICAgICAgICB7fQogICAgICAgICAgICApLmFkZFRvKG1hcF8zNzg2M2IyMWJhM2U0MjdhYjVmZGFkYzFmYTBiODNiZSk7CiAgICAgICAgCiAgICAKICAgICAgICB2YXIgcG9wdXBfYTI4MTdiZDE1MDE3NDJhZTg4OWQyZjFhYTE1YThmNjAgPSBMLnBvcHVwKHsibWF4V2lkdGgiOiAiMTAwJSJ9KTsKCiAgICAgICAgCiAgICAgICAgICAgIHZhciBodG1sX2RhY2IyYTdkNzBjMTQzYjk4YjIyZTBhY2E1ZDVhNTEzID0gJChgPGRpdiBpZD0iaHRtbF9kYWNiMmE3ZDcwYzE0M2I5OGIyMmUwYWNhNWQ1YTUxMyIgc3R5bGU9IndpZHRoOiAxMDAuMCU7IGhlaWdodDogMTAwLjAlOyI+WiZIIE1hcmtldENhZmU8L2Rpdj5gKVswXTsKICAgICAgICAgICAgcG9wdXBfYTI4MTdiZDE1MDE3NDJhZTg4OWQyZjFhYTE1YThmNjAuc2V0Q29udGVudChodG1sX2RhY2IyYTdkNzBjMTQzYjk4YjIyZTBhY2E1ZDVhNTEzKTsKICAgICAgICAKCiAgICAgICAgbWFya2VyXzE0NWE4ZjhjYWQ1NTRhZmY4OWZkNGE0Nzk1MzFlN2NkLmJpbmRQb3B1cChwb3B1cF9hMjgxN2JkMTUwMTc0MmFlODg5ZDJmMWFhMTVhOGY2MCkKICAgICAgICA7CgogICAgICAgIAogICAgCiAgICAKICAgICAgICAgICAgdmFyIG1hcmtlcl9kODQxYTZmOWI4MmU0NzY1OGY5MmFmNzc1YTY0MTI0ZSA9IEwubWFya2VyKAogICAgICAgICAgICAgICAgWzQyLjI1MTgzNTIsIC04Ny44NDE0OTk4XSwKICAgICAgICAgICAgICAgIHt9CiAgICAgICAgICAgICkuYWRkVG8obWFwXzM3ODYzYjIxYmEzZTQyN2FiNWZkYWRjMWZhMGI4M2JlKTsKICAgICAgICAKICAgIAogICAgICAgIHZhciBwb3B1cF9kYmE5MGFiMTM5NjE0OTY2YWQzZmE0Mzc0MzRjZWQ4NCA9IEwucG9wdXAoeyJtYXhXaWR0aCI6ICIxMDAlIn0pOwoKICAgICAgICAKICAgICAgICAgICAgdmFyIGh0bWxfMjI1ODA3ZWVlMmMwNGJlOWE2NzRkMDQwNDM1MzZiYjEgPSAkKGA8ZGl2IGlkPSJodG1sXzIyNTgwN2VlZTJjMDRiZTlhNjc0ZDA0MDQzNTM2YmIxIiBzdHlsZT0id2lkdGg6IDEwMC4wJTsgaGVpZ2h0OiAxMDAuMCU7Ij5NYXJrZXQgSG91c2Ugb24gdGhlIFNxdWFyZTwvZGl2PmApWzBdOwogICAgICAgICAgICBwb3B1cF9kYmE5MGFiMTM5NjE0OTY2YWQzZmE0Mzc0MzRjZWQ4NC5zZXRDb250ZW50KGh0bWxfMjI1ODA3ZWVlMmMwNGJlOWE2NzRkMDQwNDM1MzZiYjEpOwogICAgICAgIAoKICAgICAgICBtYXJrZXJfZDg0MWE2ZjliODJlNDc2NThmOTJhZjc3NWE2NDEyNGUuYmluZFBvcHVwKHBvcHVwX2RiYTkwYWIxMzk2MTQ5NjZhZDNmYTQzNzQzNGNlZDg0KQogICAgICAgIDsKCiAgICAgICAgCiAgICAKICAgIAogICAgICAgICAgICB2YXIgbWFya2VyXzc0MGYwOWM5NGQwMDRiZDM4NmUyMGJlYjY0ZGJkMDAzID0gTC5tYXJrZXIoCiAgICAgICAgICAgICAgICBbNDEuOTE1Mjg3NSwgLTg3LjYzNDM4ODhdLAogICAgICAgICAgICAgICAge30KICAgICAgICAgICAgKS5hZGRUbyhtYXBfMzc4NjNiMjFiYTNlNDI3YWI1ZmRhZGMxZmEwYjgzYmUpOwogICAgICAgIAogICAgCiAgICAgICAgdmFyIHBvcHVwXzkyYmQ5Yjg3YTg3YTQyYTBhODc2Y2U1MWM1YmE3M2VjID0gTC5wb3B1cCh7Im1heFdpZHRoIjogIjEwMCUifSk7CgogICAgICAgIAogICAgICAgICAgICB2YXIgaHRtbF9mNzgxMTBkYTdiZmU0NGJlYmMxZTQ4MGQ3NGUzZDBjNSA9ICQoYDxkaXYgaWQ9Imh0bWxfZjc4MTEwZGE3YmZlNDRiZWJjMWU0ODBkNzRlM2QwYzUiIHN0eWxlPSJ3aWR0aDogMTAwLjAlOyBoZWlnaHQ6IDEwMC4wJTsiPkVsYWluZeKAmXMgQ29mZmVlIENhbGw8L2Rpdj5gKVswXTsKICAgICAgICAgICAgcG9wdXBfOTJiZDliODdhODdhNDJhMGE4NzZjZTUxYzViYTczZWMuc2V0Q29udGVudChodG1sX2Y3ODExMGRhN2JmZTQ0YmViYzFlNDgwZDc0ZTNkMGM1KTsKICAgICAgICAKCiAgICAgICAgbWFya2VyXzc0MGYwOWM5NGQwMDRiZDM4NmUyMGJlYjY0ZGJkMDAzLmJpbmRQb3B1cChwb3B1cF85MmJkOWI4N2E4N2E0MmEwYTg3NmNlNTFjNWJhNzNlYykKICAgICAgICA7CgogICAgICAgIAogICAgCiAgICAKICAgICAgICAgICAgdmFyIG1hcmtlcl82MjI5N2IxNDA2MTk0NDM1YjIxMjlmNjdiODc2NDQ3OCA9IEwubWFya2VyKAogICAgICAgICAgICAgICAgWzQxLjg4NjM2MjIsIC04Ny44MDIyMjk3XSwKICAgICAgICAgICAgICAgIHt9CiAgICAgICAgICAgICkuYWRkVG8obWFwXzM3ODYzYjIxYmEzZTQyN2FiNWZkYWRjMWZhMGI4M2JlKTsKICAgICAgICAKICAgIAogICAgICAgIHZhciBwb3B1cF9iYzJiYTI1ZmNiYzU0ZTAwODMyN2ZlMjY4NDkyNDE2OSA9IEwucG9wdXAoeyJtYXhXaWR0aCI6ICIxMDAlIn0pOwoKICAgICAgICAKICAgICAgICAgICAgdmFyIGh0bWxfMjczZTQyOWUwZTc1NGViYjhlNzljYzlmNjEyMzYyNDcgPSAkKGA8ZGl2IGlkPSJodG1sXzI3M2U0MjllMGU3NTRlYmI4ZTc5Y2M5ZjYxMjM2MjQ3IiBzdHlsZT0id2lkdGg6IDEwMC4wJTsgaGVpZ2h0OiAxMDAuMCU7Ij5NYXJpb24gU3RyZWV0IENoZWVzZSBNYXJrZXQ8L2Rpdj5gKVswXTsKICAgICAgICAgICAgcG9wdXBfYmMyYmEyNWZjYmM1NGUwMDgzMjdmZTI2ODQ5MjQxNjkuc2V0Q29udGVudChodG1sXzI3M2U0MjllMGU3NTRlYmI4ZTc5Y2M5ZjYxMjM2MjQ3KTsKICAgICAgICAKCiAgICAgICAgbWFya2VyXzYyMjk3YjE0MDYxOTQ0MzViMjEyOWY2N2I4NzY0NDc4LmJpbmRQb3B1cChwb3B1cF9iYzJiYTI1ZmNiYzU0ZTAwODMyN2ZlMjY4NDkyNDE2OSkKICAgICAgICA7CgogICAgICAgIAogICAgCiAgICAKICAgICAgICAgICAgdmFyIG1hcmtlcl84YjdjYzgxYzhjZmQ0Njk1OGExOWYyOGNjN2ZkMjk2MSA9IEwubWFya2VyKAogICAgICAgICAgICAgICAgWzQxLjg3NTgxMDIsIC04Ny42MjY0NDg5XSwKICAgICAgICAgICAgICAgIHt9CiAgICAgICAgICAgICkuYWRkVG8obWFwXzM3ODYzYjIxYmEzZTQyN2FiNWZkYWRjMWZhMGI4M2JlKTsKICAgICAgICAKICAgIAogICAgICAgIHZhciBwb3B1cF9hNTIwZTY5ZTA3MTc0YzE2ODVmZTNjYjhiYjdiYzQ5OSA9IEwucG9wdXAoeyJtYXhXaWR0aCI6ICIxMDAlIn0pOwoKICAgICAgICAKICAgICAgICAgICAgdmFyIGh0bWxfMWM2Y2RjYzFlNDIwNDJlZDgxMmZmMzEzNmU5NWE5MmUgPSAkKGA8ZGl2IGlkPSJodG1sXzFjNmNkY2MxZTQyMDQyZWQ4MTJmZjMxMzZlOTVhOTJlIiBzdHlsZT0id2lkdGg6IDEwMC4wJTsgaGVpZ2h0OiAxMDAuMCU7Ij5DYWZlY2l0bzwvZGl2PmApWzBdOwogICAgICAgICAgICBwb3B1cF9hNTIwZTY5ZTA3MTc0YzE2ODVmZTNjYjhiYjdiYzQ5OS5zZXRDb250ZW50KGh0bWxfMWM2Y2RjYzFlNDIwNDJlZDgxMmZmMzEzNmU5NWE5MmUpOwogICAgICAgIAoKICAgICAgICBtYXJrZXJfOGI3Y2M4MWM4Y2ZkNDY5NThhMTlmMjhjYzdmZDI5NjEuYmluZFBvcHVwKHBvcHVwX2E1MjBlNjllMDcxNzRjMTY4NWZlM2NiOGJiN2JjNDk5KQogICAgICAgIDsKCiAgICAgICAgCiAgICAKICAgIAogICAgICAgICAgICB2YXIgbWFya2VyXzQzMzNlMDc1YTEzNTQ3MGNhZGI4ZGM5YjgwYWE1NzUyID0gTC5tYXJrZXIoCiAgICAgICAgICAgICAgICBbNDEuODk2MDczOCwgLTg3LjY3NzgxODVdLAogICAgICAgICAgICAgICAge30KICAgICAgICAgICAgKS5hZGRUbyhtYXBfMzc4NjNiMjFiYTNlNDI3YWI1ZmRhZGMxZmEwYjgzYmUpOwogICAgICAgIAogICAgCiAgICAgICAgdmFyIHBvcHVwXzE4OGU1ZGNjODQ5ODRiMDU5YzI0ODE1Mjk5MGQ3MTBiID0gTC5wb3B1cCh7Im1heFdpZHRoIjogIjEwMCUifSk7CgogICAgICAgIAogICAgICAgICAgICB2YXIgaHRtbF81MzRkNzdlZjJiODg0MDY3YjA2MmViYmQwZWU2NmU0NyA9ICQoYDxkaXYgaWQ9Imh0bWxfNTM0ZDc3ZWYyYjg4NDA2N2IwNjJlYmJkMGVlNjZlNDciIHN0eWxlPSJ3aWR0aDogMTAwLjAlOyBoZWlnaHQ6IDEwMC4wJTsiPkNoaWNrcGVhPC9kaXY+YClbMF07CiAgICAgICAgICAgIHBvcHVwXzE4OGU1ZGNjODQ5ODRiMDU5YzI0ODE1Mjk5MGQ3MTBiLnNldENvbnRlbnQoaHRtbF81MzRkNzdlZjJiODg0MDY3YjA2MmViYmQwZWU2NmU0Nyk7CiAgICAgICAgCgogICAgICAgIG1hcmtlcl80MzMzZTA3NWExMzU0NzBjYWRiOGRjOWI4MGFhNTc1Mi5iaW5kUG9wdXAocG9wdXBfMTg4ZTVkY2M4NDk4NGIwNTljMjQ4MTUyOTkwZDcxMGIpCiAgICAgICAgOwoKICAgICAgICAKICAgIAogICAgCiAgICAgICAgICAgIHZhciBtYXJrZXJfMmY2MjQyNDc5YTI0NDEyNjlmNTM3MWE4M2FlZDE3MTcgPSBMLm1hcmtlcigKICAgICAgICAgICAgICAgIFs0MS44OTg5Nzg1MDAwMDAwMSwgLTg3LjYyNzM5MjZdLAogICAgICAgICAgICAgICAge30KICAgICAgICAgICAgKS5hZGRUbyhtYXBfMzc4NjNiMjFiYTNlNDI3YWI1ZmRhZGMxZmEwYjgzYmUpOwogICAgICAgIAogICAgCiAgICAgICAgdmFyIHBvcHVwXzdhYWNlNjhjNDMxMzRhYzhhZDYyZWY4NGU3ZjgyMmU4ID0gTC5wb3B1cCh7Im1heFdpZHRoIjogIjEwMCUifSk7CgogICAgICAgIAogICAgICAgICAgICB2YXIgaHRtbF85MDMzMzEyOTM3YmQ0MzIzYjcyMTQ5NmJmNTUzZjIxOSA9ICQoYDxkaXYgaWQ9Imh0bWxfOTAzMzMxMjkzN2JkNDMyM2I3MjE0OTZiZjU1M2YyMTkiIHN0eWxlPSJ3aWR0aDogMTAwLjAlOyBoZWlnaHQ6IDEwMC4wJTsiPlRoZSBHb2RkZXNzIGFuZCBHcm9jZXI8L2Rpdj5gKVswXTsKICAgICAgICAgICAgcG9wdXBfN2FhY2U2OGM0MzEzNGFjOGFkNjJlZjg0ZTdmODIyZTguc2V0Q29udGVudChodG1sXzkwMzMzMTI5MzdiZDQzMjNiNzIxNDk2YmY1NTNmMjE5KTsKICAgICAgICAKCiAgICAgICAgbWFya2VyXzJmNjI0MjQ3OWEyNDQxMjY5ZjUzNzFhODNhZWQxNzE3LmJpbmRQb3B1cChwb3B1cF83YWFjZTY4YzQzMTM0YWM4YWQ2MmVmODRlN2Y4MjJlOCkKICAgICAgICA7CgogICAgICAgIAogICAgCiAgICAKICAgICAgICAgICAgdmFyIG1hcmtlcl85ZTAxNzA4N2QyZDg0MDA5OWQ4NWJjMDUwMGI3MmUwYSA9IEwubWFya2VyKAogICAgICAgICAgICAgICAgWzQxLjkxMDU4MzIsIC04Ny45NDA0ODgzOTk5OTk5OV0sCiAgICAgICAgICAgICAgICB7fQogICAgICAgICAgICApLmFkZFRvKG1hcF8zNzg2M2IyMWJhM2U0MjdhYjVmZGFkYzFmYTBiODNiZSk7CiAgICAgICAgCiAgICAKICAgICAgICB2YXIgcG9wdXBfNmE0MzVhMDA1MmQ1NDNjZjhiNWI4M2FmZGNiMmQwNWQgPSBMLnBvcHVwKHsibWF4V2lkdGgiOiAiMTAwJSJ9KTsKCiAgICAgICAgCiAgICAgICAgICAgIHZhciBodG1sXzMwNDIxMGYwZDA1YjQyYTg4MmRkNDc2MDI2YjA3YmIxID0gJChgPGRpdiBpZD0iaHRtbF8zMDQyMTBmMGQwNWI0MmE4ODJkZDQ3NjAyNmIwN2JiMSIgc3R5bGU9IndpZHRoOiAxMDAuMCU7IGhlaWdodDogMTAwLjAlOyI+WmVud2ljaDwvZGl2PmApWzBdOwogICAgICAgICAgICBwb3B1cF82YTQzNWEwMDUyZDU0M2NmOGI1YjgzYWZkY2IyZDA1ZC5zZXRDb250ZW50KGh0bWxfMzA0MjEwZjBkMDViNDJhODgyZGQ0NzYwMjZiMDdiYjEpOwogICAgICAgIAoKICAgICAgICBtYXJrZXJfOWUwMTcwODdkMmQ4NDAwOTlkODViYzA1MDBiNzJlMGEuYmluZFBvcHVwKHBvcHVwXzZhNDM1YTAwNTJkNTQzY2Y4YjViODNhZmRjYjJkMDVkKQogICAgICAgIDsKCiAgICAgICAgCiAgICAKICAgIAogICAgICAgICAgICB2YXIgbWFya2VyX2VkY2E0MzRiNzdlNDQ4NmNiYTI2ZDliMWI3ZmZhOWY1ID0gTC5tYXJrZXIoCiAgICAgICAgICAgICAgICBbNDEuODgzMTA2MSwgLTg3LjYyNTQzODFdLAogICAgICAgICAgICAgICAge30KICAgICAgICAgICAgKS5hZGRUbyhtYXBfMzc4NjNiMjFiYTNlNDI3YWI1ZmRhZGMxZmEwYjgzYmUpOwogICAgICAgIAogICAgCiAgICAgICAgdmFyIHBvcHVwXzgxODAyNGU2YzRjZTRkNmVhODFhNWMzNTljOWZlYjMyID0gTC5wb3B1cCh7Im1heFdpZHRoIjogIjEwMCUifSk7CgogICAgICAgIAogICAgICAgICAgICB2YXIgaHRtbF80MTEwZjg1NmJkYWU0NDBkYjkxMDJkYjgzOGI3Nzk4YyA9ICQoYDxkaXYgaWQ9Imh0bWxfNDExMGY4NTZiZGFlNDQwZGI5MTAyZGI4MzhiNzc5OGMiIHN0eWxlPSJ3aWR0aDogMTAwLjAlOyBoZWlnaHQ6IDEwMC4wJTsiPlRvbmkgUGF0aXNzZXJpZTwvZGl2PmApWzBdOwogICAgICAgICAgICBwb3B1cF84MTgwMjRlNmM0Y2U0ZDZlYTgxYTVjMzU5YzlmZWIzMi5zZXRDb250ZW50KGh0bWxfNDExMGY4NTZiZGFlNDQwZGI5MTAyZGI4MzhiNzc5OGMpOwogICAgICAgIAoKICAgICAgICBtYXJrZXJfZWRjYTQzNGI3N2U0NDg2Y2JhMjZkOWIxYjdmZmE5ZjUuYmluZFBvcHVwKHBvcHVwXzgxODAyNGU2YzRjZTRkNmVhODFhNWMzNTljOWZlYjMyKQogICAgICAgIDsKCiAgICAgICAgCiAgICAKICAgIAogICAgICAgICAgICB2YXIgbWFya2VyXzk4YWE4YTIzNTc1OTQ3MTZhYzQwNWJiYTgyNzQ1NDVmID0gTC5tYXJrZXIoCiAgICAgICAgICAgICAgICBbNDEuOTQzMTYzMiwgLTg3LjY0NDUwNzFdLAogICAgICAgICAgICAgICAge30KICAgICAgICAgICAgKS5hZGRUbyhtYXBfMzc4NjNiMjFiYTNlNDI3YWI1ZmRhZGMxZmEwYjgzYmUpOwogICAgICAgIAogICAgCiAgICAgICAgdmFyIHBvcHVwXzYwN2M1ZTE2NjBjMDQ3NTA5NDBmNTI2ZDY5NGFlNWRkID0gTC5wb3B1cCh7Im1heFdpZHRoIjogIjEwMCUifSk7CgogICAgICAgIAogICAgICAgICAgICB2YXIgaHRtbF8wM2E4MzI1MDAxMWI0NGE5YTA4NmJmNzNiZjAyZGIxNCA9ICQoYDxkaXYgaWQ9Imh0bWxfMDNhODMyNTAwMTFiNDRhOWEwODZiZjczYmYwMmRiMTQiIHN0eWxlPSJ3aWR0aDogMTAwLjAlOyBoZWlnaHQ6IDEwMC4wJTsiPlBob2ViZeKAmXMgQmFrZXJ5PC9kaXY+YClbMF07CiAgICAgICAgICAgIHBvcHVwXzYwN2M1ZTE2NjBjMDQ3NTA5NDBmNTI2ZDY5NGFlNWRkLnNldENvbnRlbnQoaHRtbF8wM2E4MzI1MDAxMWI0NGE5YTA4NmJmNzNiZjAyZGIxNCk7CiAgICAgICAgCgogICAgICAgIG1hcmtlcl85OGFhOGEyMzU3NTk0NzE2YWM0MDViYmE4Mjc0NTQ1Zi5iaW5kUG9wdXAocG9wdXBfNjA3YzVlMTY2MGMwNDc1MDk0MGY1MjZkNjk0YWU1ZGQpCiAgICAgICAgOwoKICAgICAgICAKICAgIAo8L3NjcmlwdD4= onload=\"this.contentDocument.open();this.contentDocument.write(atob(this.getAttribute('data-html')));this.contentDocument.close();\" allowfullscreen webkitallowfullscreen mozallowfullscreen></iframe></div></div>"
     },
     "metadata": {},
     "execution_count": 66
    }
   ],
   "source": [
    "mapping = folium.Map(location=[df2['Lattitude'].mean(), \n",
    "                            df2['Longitude'].mean()], zoom_start=11)\n",
    "\n",
    "for n in df2.index:\n",
    "    if df2['Address'][n].find(' ') != 0:\n",
    "        folium.Marker([df2['Lattitude'][n], df2['Longitude'][n]], \n",
    "                                      popup=df['Cafe'][n]).add_to(mapping)\n",
    "\n",
    "mapping"
   ]
  },
  {
   "cell_type": "code",
   "execution_count": 67,
   "metadata": {},
   "outputs": [],
   "source": [
    "df2.to_csv('chicago3.csv', sep=',', encoding='utf8')"
   ]
  },
  {
   "cell_type": "code",
   "execution_count": null,
   "metadata": {},
   "outputs": [],
   "source": []
  }
 ]
}