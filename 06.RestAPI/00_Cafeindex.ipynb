{
 "metadata": {
  "language_info": {
   "codemirror_mode": {
    "name": "ipython",
    "version": 3
   },
   "file_extension": ".py",
   "mimetype": "text/x-python",
   "name": "python",
   "nbconvert_exporter": "python",
   "pygments_lexer": "ipython3",
   "version": "3.8.3-final"
  },
  "orig_nbformat": 2,
  "kernelspec": {
   "name": "python3",
   "display_name": "Python 3"
  }
 },
 "nbformat": 4,
 "nbformat_minor": 2,
 "cells": [
  {
   "source": [
    "# 커피지수"
   ],
   "cell_type": "markdown",
   "metadata": {}
  },
  {
   "cell_type": "code",
   "execution_count": 12,
   "metadata": {},
   "outputs": [],
   "source": [
    "from bs4 import BeautifulSoup\n",
    "import requests\n",
    "import pandas as pd"
   ]
  },
  {
   "cell_type": "code",
   "execution_count": 13,
   "metadata": {},
   "outputs": [
    {
     "output_type": "execute_result",
     "data": {
      "text/plain": [
       "         상가업소번호              상호명         지점명 상권업종대분류코드 상권업종대분류명 상권업종중분류코드  \\\n",
       "0      19911397    커피빈코리아선릉로93길점  코리아선릉로93길점         Q       음식       Q12   \n",
       "1      20020124            스완카페트         NaN         Q       음식       Q12   \n",
       "2      19973708               왕실         NaN         Q       음식       Q12   \n",
       "3      20004707              커피빈      코리아교대점         Q       음식       Q12   \n",
       "4      19993199     고려대학교교육관쎄리오점         NaN         Q       음식       Q12   \n",
       "...         ...              ...         ...       ...      ...       ...   \n",
       "93248  16309629  간단하지만특별한화피디Cafe      홍매뜨락마을         Q       음식       Q12   \n",
       "93249  16309593           투썸플레이스       전주평화점         Q       음식       Q12   \n",
       "93250  16309552           투썸플레이스    서산테크노밸리점         Q       음식       Q12   \n",
       "93251  16308545           우리들이야기         NaN         Q       음식       Q12   \n",
       "93252  16306530            테이블웍스         NaN         Q       음식       Q12   \n",
       "\n",
       "      상권업종중분류명 상권업종소분류코드     상권업종소분류명 표준산업분류코드  ...  \\\n",
       "0       커피점/카페    Q12A01  커피전문점/카페/다방   I56220  ...   \n",
       "1       커피점/카페    Q12A01  커피전문점/카페/다방   I56220  ...   \n",
       "2       커피점/카페    Q12A01  커피전문점/카페/다방   I56220  ...   \n",
       "3       커피점/카페    Q12A01  커피전문점/카페/다방   I56220  ...   \n",
       "4       커피점/카페    Q12A01  커피전문점/카페/다방   I56220  ...   \n",
       "...        ...       ...          ...      ...  ...   \n",
       "93248   커피점/카페    Q12A01  커피전문점/카페/다방   I56220  ...   \n",
       "93249   커피점/카페    Q12A01  커피전문점/카페/다방   I56220  ...   \n",
       "93250   커피점/카페    Q12A01  커피전문점/카페/다방   I56220  ...   \n",
       "93251   커피점/카페    Q12A01  커피전문점/카페/다방   I56220  ...   \n",
       "93252   커피점/카페    Q12A01  커피전문점/카페/다방   I56220  ...   \n",
       "\n",
       "                          건물관리번호                건물명                    도로명주소  \\\n",
       "0      1168010100106960042022041                NaN       서울특별시 강남구 선릉로93길 6   \n",
       "1      1156013300106040056037792                NaN  서울특별시 영등포구 도신로10가길 11-1   \n",
       "2      1114012700101050000019781                NaN      서울특별시 중구 남대문로 52-13   \n",
       "3      1165010800116570005024412           카이스시스템빌딩      서울특별시 서초구 서초중앙로 118   \n",
       "4      1129012500100010002039525  고려대학교안암캠퍼스(인문사회계)        서울특별시 성북구 안암로 145   \n",
       "...                          ...                ...                      ...   \n",
       "93248  4615010700100980004000001                NaN       전라남도 순천시 매곡2길 48-1   \n",
       "93249  4511113200107060007024618              자바데이브      전라북도 전주시 완산구 맏내3길 4   \n",
       "93250  4421036021110990000000001                NaN   충청남도 서산시 성연면 성연3로 57-7   \n",
       "93251  4615010700101390001075251           순복음사랑의교회          전라남도 순천시 매산길 26   \n",
       "93252  4511114100106000001000003                NaN     전라북도 전주시 완산구 우전로 208   \n",
       "\n",
       "          구우편번호    신우편번호  동정보  층정보  호정보          경도         위도  \n",
       "0      135080.0   6149.0  NaN    1  NaN  127.047883  37.505675  \n",
       "1      150070.0   7379.0  NaN    2  NaN  126.897710  37.503693  \n",
       "2      100810.0   4535.0  NaN    1  NaN  126.982419  37.562274  \n",
       "3      137070.0   6634.0  NaN    1  NaN  127.014217  37.492388  \n",
       "4      136701.0   2841.0  NaN    1   32  127.031702  37.588485  \n",
       "...         ...      ...  ...  ...  ...         ...        ...  \n",
       "93248  540948.0  57940.0  NaN  NaN  NaN  127.482852  34.959875  \n",
       "93249  560844.0  55134.0  NaN  NaN  NaN  127.131685  35.792891  \n",
       "93250  356852.0  31931.0  NaN  NaN  NaN  126.449741  36.823623  \n",
       "93251  540948.0  57940.0  NaN  NaN  NaN  127.482575  34.958675  \n",
       "93252  560800.0  55061.0  NaN  3.0  NaN  127.102077  35.812998  \n",
       "\n",
       "[93253 rows x 39 columns]"
      ],
      "text/html": "<div>\n<style scoped>\n    .dataframe tbody tr th:only-of-type {\n        vertical-align: middle;\n    }\n\n    .dataframe tbody tr th {\n        vertical-align: top;\n    }\n\n    .dataframe thead th {\n        text-align: right;\n    }\n</style>\n<table border=\"1\" class=\"dataframe\">\n  <thead>\n    <tr style=\"text-align: right;\">\n      <th></th>\n      <th>상가업소번호</th>\n      <th>상호명</th>\n      <th>지점명</th>\n      <th>상권업종대분류코드</th>\n      <th>상권업종대분류명</th>\n      <th>상권업종중분류코드</th>\n      <th>상권업종중분류명</th>\n      <th>상권업종소분류코드</th>\n      <th>상권업종소분류명</th>\n      <th>표준산업분류코드</th>\n      <th>...</th>\n      <th>건물관리번호</th>\n      <th>건물명</th>\n      <th>도로명주소</th>\n      <th>구우편번호</th>\n      <th>신우편번호</th>\n      <th>동정보</th>\n      <th>층정보</th>\n      <th>호정보</th>\n      <th>경도</th>\n      <th>위도</th>\n    </tr>\n  </thead>\n  <tbody>\n    <tr>\n      <th>0</th>\n      <td>19911397</td>\n      <td>커피빈코리아선릉로93길점</td>\n      <td>코리아선릉로93길점</td>\n      <td>Q</td>\n      <td>음식</td>\n      <td>Q12</td>\n      <td>커피점/카페</td>\n      <td>Q12A01</td>\n      <td>커피전문점/카페/다방</td>\n      <td>I56220</td>\n      <td>...</td>\n      <td>1168010100106960042022041</td>\n      <td>NaN</td>\n      <td>서울특별시 강남구 선릉로93길 6</td>\n      <td>135080.0</td>\n      <td>6149.0</td>\n      <td>NaN</td>\n      <td>1</td>\n      <td>NaN</td>\n      <td>127.047883</td>\n      <td>37.505675</td>\n    </tr>\n    <tr>\n      <th>1</th>\n      <td>20020124</td>\n      <td>스완카페트</td>\n      <td>NaN</td>\n      <td>Q</td>\n      <td>음식</td>\n      <td>Q12</td>\n      <td>커피점/카페</td>\n      <td>Q12A01</td>\n      <td>커피전문점/카페/다방</td>\n      <td>I56220</td>\n      <td>...</td>\n      <td>1156013300106040056037792</td>\n      <td>NaN</td>\n      <td>서울특별시 영등포구 도신로10가길 11-1</td>\n      <td>150070.0</td>\n      <td>7379.0</td>\n      <td>NaN</td>\n      <td>2</td>\n      <td>NaN</td>\n      <td>126.897710</td>\n      <td>37.503693</td>\n    </tr>\n    <tr>\n      <th>2</th>\n      <td>19973708</td>\n      <td>왕실</td>\n      <td>NaN</td>\n      <td>Q</td>\n      <td>음식</td>\n      <td>Q12</td>\n      <td>커피점/카페</td>\n      <td>Q12A01</td>\n      <td>커피전문점/카페/다방</td>\n      <td>I56220</td>\n      <td>...</td>\n      <td>1114012700101050000019781</td>\n      <td>NaN</td>\n      <td>서울특별시 중구 남대문로 52-13</td>\n      <td>100810.0</td>\n      <td>4535.0</td>\n      <td>NaN</td>\n      <td>1</td>\n      <td>NaN</td>\n      <td>126.982419</td>\n      <td>37.562274</td>\n    </tr>\n    <tr>\n      <th>3</th>\n      <td>20004707</td>\n      <td>커피빈</td>\n      <td>코리아교대점</td>\n      <td>Q</td>\n      <td>음식</td>\n      <td>Q12</td>\n      <td>커피점/카페</td>\n      <td>Q12A01</td>\n      <td>커피전문점/카페/다방</td>\n      <td>I56220</td>\n      <td>...</td>\n      <td>1165010800116570005024412</td>\n      <td>카이스시스템빌딩</td>\n      <td>서울특별시 서초구 서초중앙로 118</td>\n      <td>137070.0</td>\n      <td>6634.0</td>\n      <td>NaN</td>\n      <td>1</td>\n      <td>NaN</td>\n      <td>127.014217</td>\n      <td>37.492388</td>\n    </tr>\n    <tr>\n      <th>4</th>\n      <td>19993199</td>\n      <td>고려대학교교육관쎄리오점</td>\n      <td>NaN</td>\n      <td>Q</td>\n      <td>음식</td>\n      <td>Q12</td>\n      <td>커피점/카페</td>\n      <td>Q12A01</td>\n      <td>커피전문점/카페/다방</td>\n      <td>I56220</td>\n      <td>...</td>\n      <td>1129012500100010002039525</td>\n      <td>고려대학교안암캠퍼스(인문사회계)</td>\n      <td>서울특별시 성북구 안암로 145</td>\n      <td>136701.0</td>\n      <td>2841.0</td>\n      <td>NaN</td>\n      <td>1</td>\n      <td>32</td>\n      <td>127.031702</td>\n      <td>37.588485</td>\n    </tr>\n    <tr>\n      <th>...</th>\n      <td>...</td>\n      <td>...</td>\n      <td>...</td>\n      <td>...</td>\n      <td>...</td>\n      <td>...</td>\n      <td>...</td>\n      <td>...</td>\n      <td>...</td>\n      <td>...</td>\n      <td>...</td>\n      <td>...</td>\n      <td>...</td>\n      <td>...</td>\n      <td>...</td>\n      <td>...</td>\n      <td>...</td>\n      <td>...</td>\n      <td>...</td>\n      <td>...</td>\n      <td>...</td>\n    </tr>\n    <tr>\n      <th>93248</th>\n      <td>16309629</td>\n      <td>간단하지만특별한화피디Cafe</td>\n      <td>홍매뜨락마을</td>\n      <td>Q</td>\n      <td>음식</td>\n      <td>Q12</td>\n      <td>커피점/카페</td>\n      <td>Q12A01</td>\n      <td>커피전문점/카페/다방</td>\n      <td>I56220</td>\n      <td>...</td>\n      <td>4615010700100980004000001</td>\n      <td>NaN</td>\n      <td>전라남도 순천시 매곡2길 48-1</td>\n      <td>540948.0</td>\n      <td>57940.0</td>\n      <td>NaN</td>\n      <td>NaN</td>\n      <td>NaN</td>\n      <td>127.482852</td>\n      <td>34.959875</td>\n    </tr>\n    <tr>\n      <th>93249</th>\n      <td>16309593</td>\n      <td>투썸플레이스</td>\n      <td>전주평화점</td>\n      <td>Q</td>\n      <td>음식</td>\n      <td>Q12</td>\n      <td>커피점/카페</td>\n      <td>Q12A01</td>\n      <td>커피전문점/카페/다방</td>\n      <td>I56220</td>\n      <td>...</td>\n      <td>4511113200107060007024618</td>\n      <td>자바데이브</td>\n      <td>전라북도 전주시 완산구 맏내3길 4</td>\n      <td>560844.0</td>\n      <td>55134.0</td>\n      <td>NaN</td>\n      <td>NaN</td>\n      <td>NaN</td>\n      <td>127.131685</td>\n      <td>35.792891</td>\n    </tr>\n    <tr>\n      <th>93250</th>\n      <td>16309552</td>\n      <td>투썸플레이스</td>\n      <td>서산테크노밸리점</td>\n      <td>Q</td>\n      <td>음식</td>\n      <td>Q12</td>\n      <td>커피점/카페</td>\n      <td>Q12A01</td>\n      <td>커피전문점/카페/다방</td>\n      <td>I56220</td>\n      <td>...</td>\n      <td>4421036021110990000000001</td>\n      <td>NaN</td>\n      <td>충청남도 서산시 성연면 성연3로 57-7</td>\n      <td>356852.0</td>\n      <td>31931.0</td>\n      <td>NaN</td>\n      <td>NaN</td>\n      <td>NaN</td>\n      <td>126.449741</td>\n      <td>36.823623</td>\n    </tr>\n    <tr>\n      <th>93251</th>\n      <td>16308545</td>\n      <td>우리들이야기</td>\n      <td>NaN</td>\n      <td>Q</td>\n      <td>음식</td>\n      <td>Q12</td>\n      <td>커피점/카페</td>\n      <td>Q12A01</td>\n      <td>커피전문점/카페/다방</td>\n      <td>I56220</td>\n      <td>...</td>\n      <td>4615010700101390001075251</td>\n      <td>순복음사랑의교회</td>\n      <td>전라남도 순천시 매산길 26</td>\n      <td>540948.0</td>\n      <td>57940.0</td>\n      <td>NaN</td>\n      <td>NaN</td>\n      <td>NaN</td>\n      <td>127.482575</td>\n      <td>34.958675</td>\n    </tr>\n    <tr>\n      <th>93252</th>\n      <td>16306530</td>\n      <td>테이블웍스</td>\n      <td>NaN</td>\n      <td>Q</td>\n      <td>음식</td>\n      <td>Q12</td>\n      <td>커피점/카페</td>\n      <td>Q12A01</td>\n      <td>커피전문점/카페/다방</td>\n      <td>I56220</td>\n      <td>...</td>\n      <td>4511114100106000001000003</td>\n      <td>NaN</td>\n      <td>전라북도 전주시 완산구 우전로 208</td>\n      <td>560800.0</td>\n      <td>55061.0</td>\n      <td>NaN</td>\n      <td>3.0</td>\n      <td>NaN</td>\n      <td>127.102077</td>\n      <td>35.812998</td>\n    </tr>\n  </tbody>\n</table>\n<p>93253 rows × 39 columns</p>\n</div>"
     },
     "metadata": {},
     "execution_count": 13
    }
   ],
   "source": [
    "df = pd.read_csv('커피업소정보.csv', encoding='euc-kr')\n",
    "df"
   ]
  },
  {
   "cell_type": "code",
   "execution_count": 28,
   "metadata": {},
   "outputs": [
    {
     "output_type": "error",
     "ename": "AttributeError",
     "evalue": "'str' object has no attribute 'find_all'",
     "traceback": [
      "\u001b[1;31m---------------------------------------------------------------------------\u001b[0m",
      "\u001b[1;31mAttributeError\u001b[0m                            Traceback (most recent call last)",
      "\u001b[1;32m<ipython-input-28-01ddd55c6314>\u001b[0m in \u001b[0;36m<module>\u001b[1;34m\u001b[0m\n\u001b[1;32m----> 1\u001b[1;33m \u001b[0mname1\u001b[0m \u001b[1;33m=\u001b[0m \u001b[1;34m'상호명'\u001b[0m\u001b[1;33m.\u001b[0m\u001b[0mfind_all\u001b[0m\u001b[1;33m(\u001b[0m\u001b[1;34m'투썸플레이스'\u001b[0m\u001b[1;33m)\u001b[0m\u001b[1;33m\u001b[0m\u001b[1;33m\u001b[0m\u001b[0m\n\u001b[0m\u001b[0;32m      2\u001b[0m \u001b[0mname1\u001b[0m\u001b[1;33m\u001b[0m\u001b[1;33m\u001b[0m\u001b[0m\n",
      "\u001b[1;31mAttributeError\u001b[0m: 'str' object has no attribute 'find_all'"
     ]
    }
   ],
   "source": [
    "name1 = '상호명'.find_all('투썸플레이스')\n",
    "name1"
   ]
  },
  {
   "cell_type": "code",
   "execution_count": 9,
   "metadata": {},
   "outputs": [
    {
     "output_type": "error",
     "ename": "NameError",
     "evalue": "name 'urlparse' is not defined",
     "traceback": [
      "\u001b[1;31m---------------------------------------------------------------------------\u001b[0m",
      "\u001b[1;31mNameError\u001b[0m                                 Traceback (most recent call last)",
      "\u001b[1;32m<ipython-input-9-79da8be5b2d5>\u001b[0m in \u001b[0;36m<module>\u001b[1;34m\u001b[0m\n\u001b[1;32m----> 1\u001b[1;33m \u001b[0mresults\u001b[0m\u001b[1;33m=\u001b[0m \u001b[0mrequests\u001b[0m\u001b[1;33m.\u001b[0m\u001b[0mget\u001b[0m\u001b[1;33m(\u001b[0m\u001b[0murlparse\u001b[0m\u001b[1;33m(\u001b[0m\u001b[0murl\u001b[0m\u001b[1;33m)\u001b[0m\u001b[1;33m.\u001b[0m\u001b[0mgeturl\u001b[0m\u001b[1;33m(\u001b[0m\u001b[1;33m)\u001b[0m\u001b[1;33m)\u001b[0m\u001b[1;33m.\u001b[0m\u001b[0mjson\u001b[0m\u001b[1;33m(\u001b[0m\u001b[1;33m)\u001b[0m\u001b[1;33m\u001b[0m\u001b[1;33m\u001b[0m\u001b[0m\n\u001b[0m\u001b[0;32m      2\u001b[0m \u001b[0mresults\u001b[0m\u001b[1;33m\u001b[0m\u001b[1;33m\u001b[0m\u001b[0m\n",
      "\u001b[1;31mNameError\u001b[0m: name 'urlparse' is not defined"
     ]
    }
   ],
   "source": []
  },
  {
   "cell_type": "code",
   "execution_count": null,
   "metadata": {},
   "outputs": [],
   "source": []
  }
 ]
}